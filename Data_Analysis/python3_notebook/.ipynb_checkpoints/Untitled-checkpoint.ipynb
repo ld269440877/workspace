{
 "cells": [
  {
   "cell_type": "code",
   "execution_count": 14,
   "metadata": {
    "collapsed": true
   },
   "outputs": [
    {
     "data": {
      "text/plain": [
       "<module 'os' from '/home/leung/anaconda3/lib/python3.7/os.py'>"
      ]
     },
     "execution_count": 14,
     "metadata": {},
     "output_type": "execute_result"
    }
   ],
   "source": [
    "__import__('os.path')\n"
   ]
  },
  {
   "cell_type": "code",
   "execution_count": 8,
   "metadata": {},
   "outputs": [],
   "source": [
    "import glob,os\n",
    "\n",
    "modules = []\n",
    "for module_file in glob.glob(\"os\"):\n",
    "    try:\n",
    "       module_name,ext = os.path.splitext(os.path.basename(module_file))\n",
    "       module = __import__(module_name)\n",
    "       modules.append(module)\n",
    "    except ImportError:\n",
    "       pass #ignore broken modules\n",
    "    #say hello to all modules\n",
    "    for module in modules:\n",
    "       module.hello()"
   ]
  }
 ],
 "metadata": {
  "kernelspec": {
   "display_name": "Python 3",
   "language": "python",
   "name": "python3"
  },
  "language_info": {
   "codemirror_mode": {
    "name": "ipython",
    "version": 3
   },
   "file_extension": ".py",
   "mimetype": "text/x-python",
   "name": "python",
   "nbconvert_exporter": "python",
   "pygments_lexer": "ipython3",
   "version": "3.7.4"
  },
  "toc": {
   "base_numbering": 1,
   "nav_menu": {},
   "number_sections": true,
   "sideBar": true,
   "skip_h1_title": false,
   "title_cell": "Table of Contents",
   "title_sidebar": "Contents",
   "toc_cell": false,
   "toc_position": {},
   "toc_section_display": true,
   "toc_window_display": false
  }
 },
 "nbformat": 4,
 "nbformat_minor": 2
}
