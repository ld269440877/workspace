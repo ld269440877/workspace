{
 "cells": [
  {
   "cell_type": "code",
   "execution_count": 57,
   "metadata": {},
   "outputs": [],
   "source": [
    "import difflib,re"
   ]
  },
  {
   "cell_type": "code",
   "execution_count": 27,
   "metadata": {},
   "outputs": [
    {
     "name": "stdout",
     "output_type": "stream",
     "text": [
      "Differ              \tHtmlDiff            \tIS_CHARACTER_JUNK   \tIS_LINE_JUNK        \t\n",
      "Match               \tSequenceMatcher     \t__all__             \t__builtins__        \t__cached__          \t\n",
      "__doc__             \t__file__            \t__loader__          \t__name__            \t__package__         \t\n",
      "__spec__            \t_calculate_ratio    \t_check_types        \t_file_template      \t_format_range_context\t\n",
      "_format_range_unified\t_keep_original_ws   \t_legend             \t_mdiff              \t_namedtuple         \t\n",
      "_nlargest           \t_styles             \t_table_template     \t_test               \tcontext_diff        \t\n",
      "diff_bytes          \tget_close_matches   \tndiff               \trestore             \tunified_diff        \t"
     ]
    }
   ],
   "source": [
    "for i, e in enumerate(dir(difflib)):\n",
    "    i += 1\n",
    "    if i % 5 == 0:\n",
    "        print()\n",
    "    print('{:<20}'.format(e), end = '\\t')"
   ]
  },
  {
   "cell_type": "code",
   "execution_count": 29,
   "metadata": {},
   "outputs": [
    {
     "data": {
      "text/plain": [
       "'#%%\\nimport difflib\\n#%%\\ndifflib'"
      ]
     },
     "execution_count": 29,
     "metadata": {},
     "output_type": "execute_result"
    }
   ],
   "source": [
    "with open('compare.py', 'r', encoding= 'utf8') as f:\n",
    "    f_data = f.read()\n",
    "f_data"
   ]
  },
  {
   "cell_type": "code",
   "execution_count": null,
   "metadata": {},
   "outputs": [],
   "source": [
    "text = '#%%\\nimport difflib\\n#%%\\ndifflib'"
   ]
  },
  {
   "cell_type": "code",
   "execution_count": 36,
   "metadata": {},
   "outputs": [
    {
     "data": {
      "text/plain": [
       "Match(a='one\\ntwo\\nthree\\nfour\\n', b='zero\\none1\\ntree\\nfour\\n', size=2)"
      ]
     },
     "execution_count": 36,
     "metadata": {},
     "output_type": "execute_result"
    }
   ],
   "source": [
    "# difflib.context_diff()\n",
    "# difflib.Differ()\n",
    "# difflib.Match('one\\ntwo\\nthree\\nfour\\n', 'zero\\none1\\ntree\\nfour\\n', 2)\n",
    "difflib.ndiff()"
   ]
  },
  {
   "cell_type": "code",
   "execution_count": 39,
   "metadata": {},
   "outputs": [
    {
     "name": "stdout",
     "output_type": "stream",
     "text": [
      "  one\n",
      "  two\n",
      "- three\n",
      "+ three0\n",
      "?      +\n"
     ]
    }
   ],
   "source": [
    "diff = difflib.ndiff('one\\ntwo\\nthree\\n'.splitlines(keepends=True),\n",
    "             'one\\ntwo\\nthree0\\n'.splitlines(keepends=True))\n",
    "print(''.join(diff), end=\"\")"
   ]
  },
  {
   "cell_type": "code",
   "execution_count": null,
   "metadata": {},
   "outputs": [],
   "source": [
    "difflib.unified_diff()"
   ]
  },
  {
   "cell_type": "code",
   "execution_count": 49,
   "metadata": {},
   "outputs": [
    {
     "name": "stdout",
     "output_type": "stream",
     "text": [
      "*** Original\n",
      "--- Current\n",
      "***************\n",
      "*** 1,4 ****\n",
      "  one\n",
      "  two\n",
      "! three\n",
      "  four\n",
      "--- 1,4 ----\n",
      "  one\n",
      "  two\n",
      "! three1\n",
      "  four\n"
     ]
    }
   ],
   "source": [
    "print(''.join(difflib.context_diff('one\\ntwo\\nthree\\nfour\\n'.splitlines(True),\n",
    "      'one\\ntwo\\nthree1\\nfour\\n'.splitlines(True), 'Original', 'Current')),\n",
    "      end=\"\")"
   ]
  },
  {
   "cell_type": "code",
   "execution_count": 52,
   "metadata": {},
   "outputs": [],
   "source": [
    "compare_result = ''.join(difflib.context_diff('one\\ntwo\\nthree\\nfour\\n'.splitlines(True),\n",
    "      'one\\ntwo\\nthree1\\nfour\\n'.splitlines(True), 'Original', 'Current'))"
   ]
  },
  {
   "cell_type": "code",
   "execution_count": 56,
   "metadata": {},
   "outputs": [
    {
     "data": {
      "text/plain": [
       "'*** Original\\n--- Current\\n***************\\n*** 1,4 ****\\n  one\\n  two\\n! three\\n  four\\n--- 1,4 ----\\n  one\\n  two\\n! three1\\n  four\\n'"
      ]
     },
     "execution_count": 56,
     "metadata": {},
     "output_type": "execute_result"
    }
   ],
   "source": [
    "compare_result"
   ]
  },
  {
   "cell_type": "code",
   "execution_count": 62,
   "metadata": {},
   "outputs": [
    {
     "data": {
      "text/plain": [
       "[<re.Match object; span=(66, 67), match='!'>,\n",
       " <re.Match object; span=(106, 107), match='!'>]"
      ]
     },
     "execution_count": 62,
     "metadata": {},
     "output_type": "execute_result"
    }
   ],
   "source": [
    "list(re.finditer('!', compare_result))"
   ]
  }
 ],
 "metadata": {
  "kernelspec": {
   "display_name": "Python 3",
   "language": "python",
   "name": "python3"
  },
  "language_info": {
   "codemirror_mode": {
    "name": "ipython",
    "version": 3
   },
   "file_extension": ".py",
   "mimetype": "text/x-python",
   "name": "python",
   "nbconvert_exporter": "python",
   "pygments_lexer": "ipython3",
   "version": "3.8.3"
  },
  "toc": {
   "base_numbering": 1,
   "nav_menu": {},
   "number_sections": true,
   "sideBar": true,
   "skip_h1_title": false,
   "title_cell": "Table of Contents",
   "title_sidebar": "Contents",
   "toc_cell": false,
   "toc_position": {},
   "toc_section_display": true,
   "toc_window_display": false
  }
 },
 "nbformat": 4,
 "nbformat_minor": 4
}
