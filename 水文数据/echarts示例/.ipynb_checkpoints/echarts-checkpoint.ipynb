{
 "cells": [
  {
   "cell_type": "code",
   "execution_count": 22,
   "metadata": {},
   "outputs": [],
   "source": [
    "from pyecharts.charts import Bar\n",
    "from pyecharts import options as opts\n",
    "\n",
    "# 内置主题类型可查看 pyecharts.globals.ThemeType\n",
    "from pyecharts.globals import ThemeType\n",
    "\n",
    "bar = (\n",
    "    Bar(init_opts=opts.InitOpts(theme=ThemeType.MACARONS))\n",
    "    .add_xaxis([\"衬衫\", \"羊毛衫\", \"雪纺衫\", \"裤子\", \"高跟鞋\", \"袜子\"])\n",
    "    .add_yaxis(\"商家A\", [5, 20, 36, 10, 75, 90])\n",
    "    .add_yaxis(\"商家B\", [15, 6, 45, 20, 35, 66])\n",
    "    .set_global_opts(# animation_opts=opts.AnimationOpts(animation = True),\n",
    "#                      init_opts = opts.InitOpts(width=\"900px\", height=\"500px\"),\n",
    "                     toolbox_opts = opts.ToolboxOpts(is_show = True),\n",
    "                     brush_opts= opts.BrushOpts(tool_box=[\"rect\", \"polygon\", \"keep\", \"clear\"]),\n",
    "                     title_opts=opts.TitleOpts(title=\"主标\\n\\n题\", subtitle=\"副标题\", pos_left = '30%',pos_top = '50',item_gap = 50),\n",
    "                     datazoom_opts= opts.DataZoomOpts(is_show = True,type_ = \"slider\", orient = \"horizontal\", ),\n",
    "                     legend_opts=opts.LegendOpts(is_show=True, orient = 'vertical',item_gap = 30, item_height = 28,item_width = 28,),\n",
    "                     visualmap_opts = opts.VisualMapOpts(is_show = True,),\n",
    "                     tooltip_opts = opts.TooltipOpts(is_show = True, trigger = \"axis\",trigger_on = \"mousemove\",axis_pointer_type = \"cross\",border_width = 10,background_color = 'pink',),\n",
    "#                      axisline_opts = opts.AxisLineOpts(is_show=False),\n",
    "#                      axistick_opts = opts.AxisTickOpts(is_show=False),\n",
    "                    axispointer_opts= opts.AxisPointerOpts(is_show=True),\n",
    "#                     axis_opts = opts.AxisOpts(type_='time'),\n",
    "#                     singleaxis_opts = opts.SingleAxisOpts(name='aaa'),\n",
    "    )\n",
    "    .set_series_opts(textstyle_opts = opts.TextStyleOpts(color='red', font_style='italic', font_size=60,background_color = 'yellow',),\n",
    "                     label_opts= opts.LabelOpts(is_show=True, position = \"top\", rotate = 45, font_size = 30,),\n",
    "                     linestyle_opts = opts.LineStyleOpts(width = 10, opacity = 0.5,),\n",
    "                     splitline_opts=opts.SplitLineOpts(is_show=True)\n",
    "    )\n",
    "    .render(path=\"主题类型.html\")\n",
    ")"
   ]
  },
  {
   "cell_type": "markdown",
   "metadata": {},
   "source": [
    "# 基本图表"
   ]
  },
  {
   "cell_type": "markdown",
   "metadata": {},
   "source": [
    "## Calendar-2017年微信步数情况"
   ]
  },
  {
   "cell_type": "code",
   "execution_count": 16,
   "metadata": {},
   "outputs": [
    {
     "data": {
      "text/plain": [
       "'C:\\\\Users\\\\workspace\\\\水文数据\\\\Calendar-2017年微信步数情况.html'"
      ]
     },
     "execution_count": 16,
     "metadata": {},
     "output_type": "execute_result"
    }
   ],
   "source": [
    "import datetime\n",
    "import random\n",
    "\n",
    "from pyecharts import options as opts\n",
    "from pyecharts.charts import Calendar\n",
    "\n",
    "\n",
    "def calendar_base() -> Calendar:\n",
    "    begin = datetime.date(2017, 1, 1)\n",
    "    end = datetime.date(2017, 12, 31)\n",
    "    data = [\n",
    "        [str(begin + datetime.timedelta(days=i)), random.randint(1000, 25000)]\n",
    "        for i in range((end - begin).days + 1)\n",
    "    ]\n",
    "\n",
    "    c = (\n",
    "        Calendar()\n",
    "        .add(\"\", data, calendar_opts=opts.CalendarOpts(range_=\"2017\"))\n",
    "        .set_global_opts(\n",
    "            title_opts=opts.TitleOpts(title=\"Calendar-2017年微信步数情况\"),\n",
    "            visualmap_opts=opts.VisualMapOpts(\n",
    "                max_=25000,\n",
    "                min_=500,\n",
    "                orient=\"horizontal\",\n",
    "                is_piecewise=True,\n",
    "                pos_top=\"230px\",\n",
    "                pos_left=\"100px\",\n",
    "            ),\n",
    "            toolbox_opts = opts.ToolboxOpts(is_show = True),\n",
    "            brush_opts= opts.BrushOpts(tool_box=[\"rect\", \"polygon\", \"keep\", \"clear\"]),\n",
    "        )\n",
    "\n",
    "    )\n",
    "    return c\n",
    "calendar_base().render(\"Calendar-2017年微信步数情况.html\")"
   ]
  },
  {
   "cell_type": "code",
   "execution_count": 4,
   "metadata": {},
   "outputs": [
    {
     "data": {
      "text/plain": [
       "['2017-01-02', 4150]"
      ]
     },
     "execution_count": 4,
     "metadata": {},
     "output_type": "execute_result"
    }
   ],
   "source": [
    "begin = datetime.date(2017, 1, 1)\n",
    "end = datetime.date(2017, 12, 31)\n",
    "(end - begin).days\n",
    "[str(begin + datetime.timedelta(days=1)), random.randint(1000, 25000)]"
   ]
  },
  {
   "cell_type": "markdown",
   "metadata": {},
   "source": [
    "## 节点间的关系数据"
   ]
  },
  {
   "cell_type": "code",
   "execution_count": 23,
   "metadata": {},
   "outputs": [
    {
     "data": {
      "text/plain": [
       "'C:\\\\Users\\\\workspace\\\\水文数据\\\\graph_base.html'"
      ]
     },
     "execution_count": 23,
     "metadata": {},
     "output_type": "execute_result"
    }
   ],
   "source": [
    "import json\n",
    "import os\n",
    "\n",
    "from pyecharts import options as opts\n",
    "from pyecharts.charts import Graph, Page\n",
    "\n",
    "\n",
    "def graph_base() -> Graph:\n",
    "    nodes = [\n",
    "        {\"name\": \"结点1\", \"symbolSize\": 10},\n",
    "        {\"name\": \"结点2\", \"symbolSize\": 20},\n",
    "        {\"name\": \"结点3\", \"symbolSize\": 30},\n",
    "        {\"name\": \"结点4\", \"symbolSize\": 40},\n",
    "        {\"name\": \"结点5\", \"symbolSize\": 50},\n",
    "        {\"name\": \"结点6\", \"symbolSize\": 40},\n",
    "        {\"name\": \"结点7\", \"symbolSize\": 30},\n",
    "        {\"name\": \"结点8\", \"symbolSize\": 20},\n",
    "    ]\n",
    "    links = []\n",
    "    for i in nodes:\n",
    "        for j in nodes:\n",
    "            links.append({\"source\": i.get(\"name\"), \"target\": j.get(\"name\")})\n",
    "    c = (\n",
    "        Graph()\n",
    "        .add(\"\", nodes, links, repulsion=8000)\n",
    "        .set_global_opts(title_opts=opts.TitleOpts(title=\"Graph-基本示例\"))\n",
    "    )\n",
    "    return c\n",
    "graph_base().render(\"graph_base.html\")"
   ]
  },
  {
   "cell_type": "code",
   "execution_count": null,
   "metadata": {},
   "outputs": [],
   "source": [
    "from pyecharts.faker import Faker\n",
    "from pyecharts import options as opts\n",
    "from pyecharts.charts import Bar, Page, Pie, Timeline\n",
    "\n",
    "\n",
    "def timeline_bar() -> Timeline:\n",
    "    x = Faker.choose()\n",
    "    tl = Timeline()\n",
    "    for i in range(2015, 2020):\n",
    "        bar = (\n",
    "            Bar()\n",
    "            .add_xaxis(x)\n",
    "            .add_yaxis(\"商家A\", Faker.values())\n",
    "            .add_yaxis(\"商家B\", Faker.values())\n",
    "            .set_global_opts(title_opts=opts.TitleOpts(\"某商店{}年营业额\".format(i)))\n",
    "        )\n",
    "        tl.add(bar, \"{}年\".format(i))\n",
    "    return tl\n",
    "timeline_bar().render(\"timeline.html\")"
   ]
  },
  {
   "cell_type": "code",
   "execution_count": null,
   "metadata": {},
   "outputs": [],
   "source": [
    "from pyecharts.faker import Faker\n",
    "from pyecharts import options as opts\n",
    "from pyecharts.charts import Bar, Grid, Line,Scatter\n",
    "\n",
    "def grid_horizontal() -> Grid:\n",
    "    scatter = (\n",
    "        Scatter()\n",
    "        .add_xaxis(Faker.choose())\n",
    "        .add_yaxis(\"商家A\", Faker.values())\n",
    "        .add_yaxis(\"商家B\", Faker.values())\n",
    "        .set_global_opts(\n",
    "            title_opts=opts.TitleOpts(title=\"Grid-Scatter\"),\n",
    "            legend_opts=opts.LegendOpts(pos_left=\"20%\"),\n",
    "        )\n",
    "    )\n",
    "    line = (\n",
    "        Line()\n",
    "        .add_xaxis(Faker.choose())\n",
    "        .add_yaxis(\"商家A\", Faker.values())\n",
    "        .add_yaxis(\"商家B\", Faker.values())\n",
    "        .set_global_opts(\n",
    "            title_opts=opts.TitleOpts(title=\"Grid-Line\", pos_right=\"5%\"),\n",
    "            legend_opts=opts.LegendOpts(pos_right=\"20%\"),\n",
    "        )\n",
    "    )\n",
    "\n",
    "    grid = (\n",
    "        Grid()\n",
    "        .add(scatter, grid_opts=opts.GridOpts(pos_left=\"55%\"))\n",
    "        .add(line, grid_opts=opts.GridOpts(pos_right=\"55%\"))\n",
    "    )\n",
    "    return grid\n",
    "aa = grid_horizontal()\n",
    "aa.render(\"grid.html\")"
   ]
  },
  {
   "cell_type": "code",
   "execution_count": null,
   "metadata": {},
   "outputs": [],
   "source": [
    "from pyecharts.components import Table\n",
    "from pyecharts.options import ComponentTitleOpts\n",
    "\n",
    "\n",
    "def table_base() -> Table:\n",
    "    table = Table()\n",
    "\n",
    "    headers = [\"City name\", \"Area\", \"Population\", \"Annual Rainfall\"]\n",
    "    rows = [\n",
    "        [\"Brisbane\", 5905, 1857594, 1146.4],\n",
    "        [\"Adelaide\", 1295, 1158259, 600.5],\n",
    "        [\"Darwin\", 112, 120900, 1714.7],\n",
    "        [\"Hobart\", 1357, 205556, 619.5],\n",
    "        [\"Sydney\", 2058, 4336374, 1214.8],\n",
    "        [\"Melbourne\", 1566, 3806092, 646.9],\n",
    "        [\"Perth\", 5386, 1554769, 869.4],\n",
    "    ]\n",
    "    table.add(headers, rows).set_global_opts(\n",
    "        title_opts=ComponentTitleOpts(title=\"Table-我是主标题\", subtitle=\"我是副标题支持换行哦\")\n",
    "    )\n",
    "    return table\n",
    "table_base().render(\"table_base.html\")"
   ]
  },
  {
   "cell_type": "markdown",
   "metadata": {},
   "source": [
    "# 组合图表"
   ]
  },
  {
   "cell_type": "markdown",
   "metadata": {},
   "source": [
    "## [grid并行多图](http://pyecharts.org/#/zh-cn/composite_charts)"
   ]
  },
  {
   "cell_type": "code",
   "execution_count": 25,
   "metadata": {},
   "outputs": [
    {
     "data": {
      "text/plain": [
       "'C:\\\\Users\\\\workspace\\\\水文数据\\\\grid上下并行多图.html'"
      ]
     },
     "execution_count": 25,
     "metadata": {},
     "output_type": "execute_result"
    }
   ],
   "source": [
    "from pyecharts.faker import Faker\n",
    "from pyecharts import options as opts\n",
    "from pyecharts.charts import Bar, Grid, Line,Scatter\n",
    "\n",
    "\n",
    "def grid_vertical() -> Grid:\n",
    "    bar = (\n",
    "        Bar()\n",
    "        .add_xaxis(Faker.choose())\n",
    "        .add_yaxis(\"商家A\", Faker.values())\n",
    "        .add_yaxis(\"商家B\", Faker.values())\n",
    "        .set_global_opts(title_opts=opts.TitleOpts(title=\"Grid-Bar\"))\n",
    "    )\n",
    "    line = (\n",
    "        Line()\n",
    "        .add_xaxis(Faker.choose())\n",
    "        .add_yaxis(\"商家A\", Faker.values())\n",
    "        .add_yaxis(\"商家B\", Faker.values())\n",
    "        .set_global_opts(\n",
    "            title_opts=opts.TitleOpts(title=\"Grid-Line\", pos_top=\"48%\"),\n",
    "            legend_opts=opts.LegendOpts(pos_top=\"48%\"),\n",
    "        )\n",
    "    )\n",
    "\n",
    "    grid = (\n",
    "        Grid()\n",
    "        .add(bar, grid_opts=opts.GridOpts(pos_bottom=\"60%\"))\n",
    "        .add(line, grid_opts=opts.GridOpts(pos_top=\"60%\"))\n",
    "    )\n",
    "    return grid\n",
    "grid_vertical().render(\"grid上下并行多图.html\")"
   ]
  },
  {
   "cell_type": "markdown",
   "metadata": {},
   "source": [
    "## [选项卡多图 Tab](http://pyecharts.org/#/zh-cn/composite_charts?id=tab%ef%bc%9a%e9%80%89%e9%a1%b9%e5%8d%a1%e5%a4%9a%e5%9b%be)"
   ]
  },
  {
   "cell_type": "code",
   "execution_count": 26,
   "metadata": {},
   "outputs": [
    {
     "data": {
      "text/plain": [
       "'C:\\\\Users\\\\workspace\\\\水文数据\\\\选项卡多图Tab.html'"
      ]
     },
     "execution_count": 26,
     "metadata": {},
     "output_type": "execute_result"
    }
   ],
   "source": [
    "from pyecharts.faker import Faker\n",
    "from pyecharts import options as opts\n",
    "from pyecharts.charts import Bar, Tab, Pie, Line\n",
    "from pyecharts.components import Table\n",
    "\n",
    "\n",
    "def bar_datazoom_slider() -> Bar:\n",
    "    c = (\n",
    "        Bar()\n",
    "        .add_xaxis(Faker.days_attrs)\n",
    "        .add_yaxis(\"商家A\", Faker.days_values)\n",
    "        .set_global_opts(\n",
    "            title_opts=opts.TitleOpts(title=\"Bar-DataZoom（slider-水平）\"),\n",
    "            datazoom_opts=[opts.DataZoomOpts()],\n",
    "        )\n",
    "    )\n",
    "    return c\n",
    "\n",
    "\n",
    "def line_markpoint() -> Line:\n",
    "    c = (\n",
    "        Line()\n",
    "        .add_xaxis(Faker.choose())\n",
    "        .add_yaxis(\n",
    "            \"商家A\",\n",
    "            Faker.values(),\n",
    "            markpoint_opts=opts.MarkPointOpts(data=[opts.MarkPointItem(type_=\"min\")]),\n",
    "        )\n",
    "        .add_yaxis(\n",
    "            \"商家B\",\n",
    "            Faker.values(),\n",
    "            markpoint_opts=opts.MarkPointOpts(data=[opts.MarkPointItem(type_=\"max\")]),\n",
    "        )\n",
    "        .set_global_opts(title_opts=opts.TitleOpts(title=\"Line-MarkPoint\"))\n",
    "    )\n",
    "    return c\n",
    "\n",
    "\n",
    "def pie_rosetype() -> Pie:\n",
    "    v = Faker.choose()\n",
    "    c = (\n",
    "        Pie()\n",
    "        .add(\n",
    "            \"\",\n",
    "            [list(z) for z in zip(v, Faker.values())],\n",
    "            radius=[\"30%\", \"75%\"],\n",
    "            center=[\"25%\", \"50%\"],\n",
    "            rosetype=\"radius\",\n",
    "            label_opts=opts.LabelOpts(is_show=False),\n",
    "        )\n",
    "        .add(\n",
    "            \"\",\n",
    "            [list(z) for z in zip(v, Faker.values())],\n",
    "            radius=[\"30%\", \"75%\"],\n",
    "            center=[\"75%\", \"50%\"],\n",
    "            rosetype=\"area\",\n",
    "        )\n",
    "        .set_global_opts(title_opts=opts.TitleOpts(title=\"Pie-玫瑰图示例\"))\n",
    "    )\n",
    "    return c\n",
    "\n",
    "\n",
    "def table_base() -> Table:\n",
    "    table = Table()\n",
    "\n",
    "    headers = [\"City name\", \"Area\", \"Population\", \"Annual Rainfall\"]\n",
    "    rows = [\n",
    "        [\"Brisbane\", 5905, 1857594, 1146.4],\n",
    "        [\"Adelaide\", 1295, 1158259, 600.5],\n",
    "        [\"Darwin\", 112, 120900, 1714.7],\n",
    "        [\"Hobart\", 1357, 205556, 619.5],\n",
    "        [\"Sydney\", 2058, 4336374, 1214.8],\n",
    "        [\"Melbourne\", 1566, 3806092, 646.9],\n",
    "        [\"Perth\", 5386, 1554769, 869.4],\n",
    "    ]\n",
    "    table.add(headers, rows).set_global_opts(\n",
    "        title_opts=opts.ComponentTitleOpts(title=\"Table\")\n",
    "    )\n",
    "    return table\n",
    "\n",
    "tab = Tab()\n",
    "tab.add(bar_datazoom_slider(), \"bar-example\")\n",
    "tab.add(line_markpoint(), \"line-example\")\n",
    "tab.add(pie_rosetype(), \"pie-example\")\n",
    "tab.add(table_base(), \"table-example\")\n",
    "tab.render(\"选项卡多图Tab.html\")"
   ]
  },
  {
   "cell_type": "code",
   "execution_count": null,
   "metadata": {},
   "outputs": [],
   "source": [
    "【】顺序多图page"
   ]
  },
  {
   "cell_type": "code",
   "execution_count": null,
   "metadata": {},
   "outputs": [],
   "source": [
    "from pyecharts.faker import Faker\n",
    "from pyecharts import options as opts\n",
    "from pyecharts.charts import Bar, Line, Page\n",
    "\n",
    "\n",
    "def bar_base() -> Bar:\n",
    "    c = (\n",
    "        Bar()\n",
    "        .add_xaxis(Faker.choose())\n",
    "        .add_yaxis(\"商家A\", Faker.values())\n",
    "        .add_yaxis(\"商家B\", Faker.values(), is_selected=False)\n",
    "        .set_global_opts(title_opts=opts.TitleOpts(title=\"Bar-基本示例\", subtitle=\"我是副标题\"))\n",
    "    )\n",
    "    return c\n",
    "\n",
    "\n",
    "def line_base() -> Line:\n",
    "    c = (\n",
    "        Line()\n",
    "        .add_xaxis(Faker.choose())\n",
    "        .add_yaxis(\"商家A\", Faker.values())\n",
    "        .add_yaxis(\"商家B\", Faker.values())\n",
    "        .set_global_opts(title_opts=opts.TitleOpts(title=\"Line-基本示例\"))\n",
    "    )\n",
    "    return c\n",
    "\n",
    "\n",
    "page = Page()\n",
    "page.add(bar_base(), line_base())\n",
    "page.render()"
   ]
  },
  {
   "cell_type": "code",
   "execution_count": null,
   "metadata": {},
   "outputs": [],
   "source": []
  },
  {
   "cell_type": "code",
   "execution_count": null,
   "metadata": {},
   "outputs": [],
   "source": []
  }
 ],
 "metadata": {
  "kernelspec": {
   "display_name": "Python 3",
   "language": "python",
   "name": "python3"
  },
  "language_info": {
   "codemirror_mode": {
    "name": "ipython",
    "version": 3
   },
   "file_extension": ".py",
   "mimetype": "text/x-python",
   "name": "python",
   "nbconvert_exporter": "python",
   "pygments_lexer": "ipython3",
   "version": "3.7.3"
  },
  "toc": {
   "base_numbering": 1,
   "nav_menu": {},
   "number_sections": true,
   "sideBar": true,
   "skip_h1_title": false,
   "title_cell": "Table of Contents",
   "title_sidebar": "Contents",
   "toc_cell": false,
   "toc_position": {
    "height": "calc(100% - 180px)",
    "left": "10px",
    "top": "150px",
    "width": "384px"
   },
   "toc_section_display": true,
   "toc_window_display": true
  }
 },
 "nbformat": 4,
 "nbformat_minor": 2
}
