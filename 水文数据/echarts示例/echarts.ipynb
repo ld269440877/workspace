{
 "cells": [
  {
   "cell_type": "code",
   "execution_count": 57,
   "metadata": {},
   "outputs": [],
   "source": [
    " # 只需要在顶部声明 CurrentConfig.ONLINE_HOST 即可\n",
    "from pyecharts.globals import CurrentConfig, OnlineHostType\n",
    "\n",
    " # OnlineHostType.NOTEBOOK_HOST 默认值为 http://localhost:8888/nbextensions/assets/\n",
    "CurrentConfig.ONLINE_HOST = OnlineHostType.NOTEBOOK_HOST\n",
    "\n",
    " # 接下来所有图形的静态资源文件都会来自刚启动的服务器\n",
    "from pyecharts.charts import Bar\n",
    " bar = Bar()"
   ]
  },
  {
   "cell_type": "code",
   "execution_count": 58,
   "metadata": {},
   "outputs": [],
   "source": [
    "from pyecharts.charts import Bar\n",
    "from pyecharts import options as opts\n",
    "\n",
    "# 内置主题类型可查看 pyecharts.globals.ThemeType\n",
    "from pyecharts.globals import ThemeType\n",
    "\n",
    "bar = (\n",
    "    Bar(init_opts=opts.InitOpts(theme=ThemeType.MACARONS))\n",
    "    .add_xaxis([\"衬衫\", \"羊毛衫\", \"雪纺衫\", \"裤子\", \"高跟鞋\", \"袜子\"])\n",
    "    .add_yaxis(\"商家A\", [5, 20, 36, 10, 75, 90])\n",
    "    .add_yaxis(\"商家B\", [15, 6, 45, 20, 35, 66])\n",
    "    .set_global_opts(# animation_opts=opts.AnimationOpts(animation = True),\n",
    "#                      init_opts = opts.InitOpts(width=\"900px\", height=\"500px\"),\n",
    "                     toolbox_opts = opts.ToolboxOpts(is_show = True),\n",
    "                     brush_opts= opts.BrushOpts(tool_box=[\"rect\", \"polygon\", \"keep\", \"clear\"]),\n",
    "                     title_opts=opts.TitleOpts(title=\"主标\\n\\n题\", subtitle=\"副标题\", pos_left = '30%',pos_top = '50',item_gap = 50),\n",
    "                     datazoom_opts= opts.DataZoomOpts(is_show = True,type_ = \"slider\", orient = \"horizontal\", ),\n",
    "                     legend_opts=opts.LegendOpts(is_show=True, orient = 'vertical',item_gap = 30, item_height = 28,item_width = 28,),\n",
    "                     visualmap_opts = opts.VisualMapOpts(is_show = True,),\n",
    "                     tooltip_opts = opts.TooltipOpts(is_show = True, trigger = \"axis\",trigger_on = \"mousemove\",axis_pointer_type = \"cross\",border_width = 10,background_color = 'pink',),\n",
    "#                      axisline_opts = opts.AxisLineOpts(is_show=False),\n",
    "#                      axistick_opts = opts.AxisTickOpts(is_show=False),\n",
    "                    axispointer_opts= opts.AxisPointerOpts(is_show=True),\n",
    "#                     axis_opts = opts.AxisOpts(type_='time'),\n",
    "#                     singleaxis_opts = opts.SingleAxisOpts(name='aaa'),\n",
    "    )\n",
    "    .set_series_opts(textstyle_opts = opts.TextStyleOpts(color='red', font_style='italic', font_size=60,background_color = 'yellow',),\n",
    "                     label_opts= opts.LabelOpts(is_show=True, position = \"top\", rotate = 45, font_size = 30,),\n",
    "                     linestyle_opts = opts.LineStyleOpts(width = 10, opacity = 0.5,),\n",
    "                     splitline_opts=opts.SplitLineOpts(is_show=True)\n",
    "    )\n",
    "    .render(path=\"主题类型.html\")\n",
    ")"
   ]
  },
  {
   "cell_type": "markdown",
   "metadata": {},
   "source": [
    "# 基本图表"
   ]
  },
  {
   "cell_type": "markdown",
   "metadata": {},
   "source": [
    "## Calendar-2017年微信步数情况"
   ]
  },
  {
   "cell_type": "code",
   "execution_count": 16,
   "metadata": {},
   "outputs": [
    {
     "data": {
      "text/plain": [
       "'C:\\\\Users\\\\workspace\\\\水文数据\\\\Calendar-2017年微信步数情况.html'"
      ]
     },
     "execution_count": 16,
     "metadata": {},
     "output_type": "execute_result"
    }
   ],
   "source": [
    "import datetime\n",
    "import random\n",
    "\n",
    "from pyecharts import options as opts\n",
    "from pyecharts.charts import Calendar\n",
    "\n",
    "\n",
    "def calendar_base() -> Calendar:\n",
    "    begin = datetime.date(2017, 1, 1)\n",
    "    end = datetime.date(2017, 12, 31)\n",
    "    data = [\n",
    "        [str(begin + datetime.timedelta(days=i)), random.randint(1000, 25000)]\n",
    "        for i in range((end - begin).days + 1)\n",
    "    ]\n",
    "\n",
    "    c = (\n",
    "        Calendar()\n",
    "        .add(\"\", data, calendar_opts=opts.CalendarOpts(range_=\"2017\"))\n",
    "        .set_global_opts(\n",
    "            title_opts=opts.TitleOpts(title=\"Calendar-2017年微信步数情况\"),\n",
    "            visualmap_opts=opts.VisualMapOpts(\n",
    "                max_=25000,\n",
    "                min_=500,\n",
    "                orient=\"horizontal\",\n",
    "                is_piecewise=True,\n",
    "                pos_top=\"230px\",\n",
    "                pos_left=\"100px\",\n",
    "            ),\n",
    "            toolbox_opts = opts.ToolboxOpts(is_show = True),\n",
    "            brush_opts= opts.BrushOpts(tool_box=[\"rect\", \"polygon\", \"keep\", \"clear\"]),\n",
    "        )\n",
    "\n",
    "    )\n",
    "    return c\n",
    "calendar_base().render(\"Calendar-2017年微信步数情况.html\")"
   ]
  },
  {
   "cell_type": "code",
   "execution_count": 4,
   "metadata": {},
   "outputs": [
    {
     "data": {
      "text/plain": [
       "['2017-01-02', 4150]"
      ]
     },
     "execution_count": 4,
     "metadata": {},
     "output_type": "execute_result"
    }
   ],
   "source": [
    "begin = datetime.date(2017, 1, 1)\n",
    "end = datetime.date(2017, 12, 31)\n",
    "(end - begin).days\n",
    "[str(begin + datetime.timedelta(days=1)), random.randint(1000, 25000)]"
   ]
  },
  {
   "cell_type": "markdown",
   "metadata": {},
   "source": [
    "## 节点间的关系数据"
   ]
  },
  {
   "cell_type": "code",
   "execution_count": 23,
   "metadata": {},
   "outputs": [
    {
     "data": {
      "text/plain": [
       "'C:\\\\Users\\\\workspace\\\\水文数据\\\\graph_base.html'"
      ]
     },
     "execution_count": 23,
     "metadata": {},
     "output_type": "execute_result"
    }
   ],
   "source": [
    "import json\n",
    "import os\n",
    "\n",
    "from pyecharts import options as opts\n",
    "from pyecharts.charts import Graph, Page\n",
    "\n",
    "\n",
    "def graph_base() -> Graph:\n",
    "    nodes = [\n",
    "        {\"name\": \"结点1\", \"symbolSize\": 10},\n",
    "        {\"name\": \"结点2\", \"symbolSize\": 20},\n",
    "        {\"name\": \"结点3\", \"symbolSize\": 30},\n",
    "        {\"name\": \"结点4\", \"symbolSize\": 40},\n",
    "        {\"name\": \"结点5\", \"symbolSize\": 50},\n",
    "        {\"name\": \"结点6\", \"symbolSize\": 40},\n",
    "        {\"name\": \"结点7\", \"symbolSize\": 30},\n",
    "        {\"name\": \"结点8\", \"symbolSize\": 20},\n",
    "    ]\n",
    "    links = []\n",
    "    for i in nodes:\n",
    "        for j in nodes:\n",
    "            links.append({\"source\": i.get(\"name\"), \"target\": j.get(\"name\")})\n",
    "    c = (\n",
    "        Graph()\n",
    "        .add(\"\", nodes, links, repulsion=8000)\n",
    "        .set_global_opts(title_opts=opts.TitleOpts(title=\"Graph-基本示例\"))\n",
    "    )\n",
    "    return c\n",
    "graph_base().render(\"graph_base.html\")"
   ]
  },
  {
   "cell_type": "code",
   "execution_count": null,
   "metadata": {},
   "outputs": [],
   "source": [
    "from pyecharts.faker import Faker\n",
    "from pyecharts import options as opts\n",
    "from pyecharts.charts import Bar, Page, Pie, Timeline\n",
    "\n",
    "\n",
    "def timeline_bar() -> Timeline:\n",
    "    x = Faker.choose()\n",
    "    tl = Timeline()\n",
    "    for i in range(2015, 2020):\n",
    "        bar = (\n",
    "            Bar()\n",
    "            .add_xaxis(x)\n",
    "            .add_yaxis(\"商家A\", Faker.values())\n",
    "            .add_yaxis(\"商家B\", Faker.values())\n",
    "            .set_global_opts(title_opts=opts.TitleOpts(\"某商店{}年营业额\".format(i)))\n",
    "        )\n",
    "        tl.add(bar, \"{}年\".format(i))\n",
    "    return tl\n",
    "timeline_bar().render(\"timeline.html\")"
   ]
  },
  {
   "cell_type": "code",
   "execution_count": null,
   "metadata": {},
   "outputs": [],
   "source": [
    "from pyecharts.faker import Faker\n",
    "from pyecharts import options as opts\n",
    "from pyecharts.charts import Bar, Grid, Line,Scatter\n",
    "\n",
    "def grid_horizontal() -> Grid:\n",
    "    scatter = (\n",
    "        Scatter()\n",
    "        .add_xaxis(Faker.choose())\n",
    "        .add_yaxis(\"商家A\", Faker.values())\n",
    "        .add_yaxis(\"商家B\", Faker.values())\n",
    "        .set_global_opts(\n",
    "            title_opts=opts.TitleOpts(title=\"Grid-Scatter\"),\n",
    "            legend_opts=opts.LegendOpts(pos_left=\"20%\"),\n",
    "        )\n",
    "    )\n",
    "    line = (\n",
    "        Line()\n",
    "        .add_xaxis(Faker.choose())\n",
    "        .add_yaxis(\"商家A\", Faker.values())\n",
    "        .add_yaxis(\"商家B\", Faker.values())\n",
    "        .set_global_opts(\n",
    "            title_opts=opts.TitleOpts(title=\"Grid-Line\", pos_right=\"5%\"),\n",
    "            legend_opts=opts.LegendOpts(pos_right=\"20%\"),\n",
    "        )\n",
    "    )\n",
    "\n",
    "    grid = (\n",
    "        Grid()\n",
    "        .add(scatter, grid_opts=opts.GridOpts(pos_left=\"55%\"))\n",
    "        .add(line, grid_opts=opts.GridOpts(pos_right=\"55%\"))\n",
    "    )\n",
    "    return grid\n",
    "aa = grid_horizontal()\n",
    "aa.render(\"grid.html\")"
   ]
  },
  {
   "cell_type": "code",
   "execution_count": null,
   "metadata": {},
   "outputs": [],
   "source": [
    "from pyecharts.components import Table\n",
    "from pyecharts.options import ComponentTitleOpts\n",
    "\n",
    "\n",
    "def table_base() -> Table:\n",
    "    table = Table()\n",
    "\n",
    "    headers = [\"City name\", \"Area\", \"Population\", \"Annual Rainfall\"]\n",
    "    rows = [\n",
    "        [\"Brisbane\", 5905, 1857594, 1146.4],\n",
    "        [\"Adelaide\", 1295, 1158259, 600.5],\n",
    "        [\"Darwin\", 112, 120900, 1714.7],\n",
    "        [\"Hobart\", 1357, 205556, 619.5],\n",
    "        [\"Sydney\", 2058, 4336374, 1214.8],\n",
    "        [\"Melbourne\", 1566, 3806092, 646.9],\n",
    "        [\"Perth\", 5386, 1554769, 869.4],\n",
    "    ]\n",
    "    table.add(headers, rows).set_global_opts(\n",
    "        title_opts=ComponentTitleOpts(title=\"Table-我是主标题\", subtitle=\"我是副标题支持换行哦\")\n",
    "    )\n",
    "    return table\n",
    "table_base().render(\"table_base.html\")"
   ]
  },
  {
   "cell_type": "markdown",
   "metadata": {},
   "source": [
    "# 组合图表"
   ]
  },
  {
   "cell_type": "markdown",
   "metadata": {},
   "source": [
    "## [grid并行多图](http://pyecharts.org/#/zh-cn/composite_charts)"
   ]
  },
  {
   "cell_type": "code",
   "execution_count": 25,
   "metadata": {},
   "outputs": [
    {
     "data": {
      "text/plain": [
       "'C:\\\\Users\\\\workspace\\\\水文数据\\\\grid上下并行多图.html'"
      ]
     },
     "execution_count": 25,
     "metadata": {},
     "output_type": "execute_result"
    }
   ],
   "source": [
    "from pyecharts.faker import Faker\n",
    "from pyecharts import options as opts\n",
    "from pyecharts.charts import Bar, Grid, Line,Scatter\n",
    "\n",
    "\n",
    "def grid_vertical() -> Grid:\n",
    "    bar = (\n",
    "        Bar()\n",
    "        .add_xaxis(Faker.choose())\n",
    "        .add_yaxis(\"商家A\", Faker.values())\n",
    "        .add_yaxis(\"商家B\", Faker.values())\n",
    "        .set_global_opts(title_opts=opts.TitleOpts(title=\"Grid-Bar\"))\n",
    "    )\n",
    "    line = (\n",
    "        Line()\n",
    "        .add_xaxis(Faker.choose())\n",
    "        .add_yaxis(\"商家A\", Faker.values())\n",
    "        .add_yaxis(\"商家B\", Faker.values())\n",
    "        .set_global_opts(\n",
    "            title_opts=opts.TitleOpts(title=\"Grid-Line\", pos_top=\"48%\"),\n",
    "            legend_opts=opts.LegendOpts(pos_top=\"48%\"),\n",
    "        )\n",
    "    )\n",
    "\n",
    "    grid = (\n",
    "        Grid()\n",
    "        .add(bar, grid_opts=opts.GridOpts(pos_bottom=\"60%\"))\n",
    "        .add(line, grid_opts=opts.GridOpts(pos_top=\"60%\"))\n",
    "    )\n",
    "    return grid\n",
    "grid_vertical().render(\"grid上下并行多图.html\")"
   ]
  },
  {
   "cell_type": "markdown",
   "metadata": {},
   "source": [
    "## [顺序多图page](http://pyecharts.org/#/zh-cn/composite_charts?id=page%ef%bc%9a%e9%a1%ba%e5%ba%8f%e5%a4%9a%e5%9b%be)"
   ]
  },
  {
   "cell_type": "markdown",
   "metadata": {},
   "source": [
    "[油管视频 Youtube video](https://www.youtube.com/watch?v=gizMMGkUt80&feature=youtu.be)\n",
    "\n",
    "[腾讯视频 QQLIVE](https://v.qq.com/x/page/u0914vsm901.html)"
   ]
  },
  {
   "cell_type": "code",
   "execution_count": 59,
   "metadata": {},
   "outputs": [
    {
     "data": {
      "text/plain": [
       "'C:\\\\Users\\\\workspace\\\\水文数据\\\\echarts示例\\\\顺序多图grid_mutil_yaxis.html'"
      ]
     },
     "execution_count": 59,
     "metadata": {},
     "output_type": "execute_result"
    }
   ],
   "source": [
    "def grid_mutil_yaxis() -> Grid:\n",
    "    x_data = [\"{}月\".format(i) for i in range(1, 13)]\n",
    "    bar = (\n",
    "        Bar()\n",
    "        .add_xaxis(x_data)\n",
    "        .add_yaxis(\n",
    "            \"蒸发量\",\n",
    "            [2.0, 4.9, 7.0, 23.2, 25.6, 76.7, 135.6, 162.2, 32.6, 20.0, 6.4, 3.3],\n",
    "            yaxis_index=0,\n",
    "            color=\"#d14a61\",\n",
    "        )\n",
    "        .add_yaxis(\n",
    "            \"降水量\",\n",
    "            [2.6, 5.9, 9.0, 26.4, 28.7, 70.7, 175.6, 182.2, 48.7, 18.8, 6.0, 2.3],\n",
    "            yaxis_index=1,\n",
    "            color=\"#5793f3\",\n",
    "        )\n",
    "        .extend_axis(\n",
    "            yaxis=opts.AxisOpts(\n",
    "                name=\"蒸发量\",\n",
    "                type_=\"value\",\n",
    "                min_=0,\n",
    "                max_=250,\n",
    "                position=\"right\",\n",
    "                axisline_opts=opts.AxisLineOpts(\n",
    "                    linestyle_opts=opts.LineStyleOpts(color=\"#d14a61\")\n",
    "                ),\n",
    "                axislabel_opts=opts.LabelOpts(formatter=\"{value} ml\"),\n",
    "            )\n",
    "        )\n",
    "        .extend_axis(\n",
    "            yaxis=opts.AxisOpts(\n",
    "                type_=\"value\",\n",
    "                name=\"温度\",\n",
    "                min_=0,\n",
    "                max_=25,\n",
    "                position=\"left\",\n",
    "                axisline_opts=opts.AxisLineOpts(\n",
    "                    linestyle_opts=opts.LineStyleOpts(color=\"#675bba\")\n",
    "                ),\n",
    "                axislabel_opts=opts.LabelOpts(formatter=\"{value} °C\"),\n",
    "                splitline_opts=opts.SplitLineOpts(\n",
    "                    is_show=True, linestyle_opts=opts.LineStyleOpts(opacity=1)\n",
    "                ),\n",
    "            )\n",
    "        )\n",
    "        .set_global_opts(\n",
    "            yaxis_opts=opts.AxisOpts(\n",
    "                name=\"降水量\",\n",
    "                min_=0,\n",
    "                max_=250,\n",
    "                position=\"right\",\n",
    "                offset=80,\n",
    "                axisline_opts=opts.AxisLineOpts(\n",
    "                    linestyle_opts=opts.LineStyleOpts(color=\"#5793f3\")\n",
    "                ),\n",
    "                axislabel_opts=opts.LabelOpts(formatter=\"{value} ml\"),\n",
    "            ),\n",
    "            title_opts=opts.TitleOpts(title=\"Grid-多 Y 轴示例\"),\n",
    "            tooltip_opts=opts.TooltipOpts(trigger=\"axis\", axis_pointer_type=\"cross\"),\n",
    "        )\n",
    "    )\n",
    "\n",
    "    line = (\n",
    "        Line()\n",
    "        .add_xaxis(x_data)\n",
    "        .add_yaxis(\n",
    "            \"平均温度\",\n",
    "            [2.0, 2.2, 3.3, 4.5, 6.3, 10.2, 20.3, 23.4, 23.0, 16.5, 12.0, 6.2],\n",
    "            yaxis_index=2,\n",
    "            color=\"#675bba\",\n",
    "            label_opts=opts.LabelOpts(is_show=False),\n",
    "        )\n",
    "    )\n",
    "\n",
    "    bar.overlap(line)\n",
    "    return Grid().add(\n",
    "        bar, opts.GridOpts(pos_left=\"5%\", pos_right=\"20%\"), is_control_axis_index=True\n",
    "    )\n",
    "grid_mutil_yaxis().render(\"顺序多图grid_mutil_yaxis.html\")"
   ]
  },
  {
   "cell_type": "code",
   "execution_count": 1,
   "metadata": {},
   "outputs": [
    {
     "data": {
      "text/plain": [
       "'C:\\\\Users\\\\workspace\\\\水文数据\\\\echarts示例\\\\顺序多图page.html'"
      ]
     },
     "execution_count": 1,
     "metadata": {},
     "output_type": "execute_result"
    }
   ],
   "source": [
    "from pyecharts.faker import Faker\n",
    "from pyecharts import options as opts\n",
    "from pyecharts.charts import Bar, Line, Page\n",
    "\n",
    "\n",
    "def bar_base() -> Bar:\n",
    "    c = (\n",
    "        Bar()\n",
    "        .add_xaxis(Faker.choose())\n",
    "        .add_yaxis(\"商家A\", Faker.values())\n",
    "        .add_yaxis(\"商家B\", Faker.values(), is_selected=False)\n",
    "        .set_global_opts(title_opts=opts.TitleOpts(title=\"Bar-基本示例\", subtitle=\"我是副标题\"))\n",
    "    )\n",
    "    return c\n",
    "\n",
    "\n",
    "def line_base() -> Line:\n",
    "    c = (\n",
    "        Line()\n",
    "        .add_xaxis(Faker.choose())\n",
    "        .add_yaxis(\"商家A\", Faker.values())\n",
    "        .add_yaxis(\"商家B\", Faker.values())\n",
    "        .set_global_opts(title_opts=opts.TitleOpts(title=\"Line-基本示例\"))\n",
    "    )\n",
    "    return c\n",
    "\n",
    "\n",
    "page = Page()\n",
    "page.add(bar_base(), line_base())\n",
    "page.render(\"顺序多图page.html\")"
   ]
  },
  {
   "cell_type": "markdown",
   "metadata": {},
   "source": [
    "### grid_mutil_yaxis"
   ]
  },
  {
   "cell_type": "code",
   "execution_count": null,
   "metadata": {},
   "outputs": [],
   "source": [
    "from pyecharts.faker import Faker\n",
    "from pyecharts import options as opts\n",
    "from pyecharts.charts import Bar, Grid, Line, Page, Pie\n",
    "\n",
    "\n",
    "def bar_datazoom_slider() -> Bar:\n",
    "    c = (\n",
    "        Bar()\n",
    "        .add_xaxis(Faker.days_attrs)\n",
    "        .add_yaxis(\"商家A\", Faker.days_values)\n",
    "        .set_global_opts(\n",
    "            title_opts=opts.TitleOpts(title=\"Bar-DataZoom（slider-水平）\"),\n",
    "            datazoom_opts=[opts.DataZoomOpts()],\n",
    "        )\n",
    "    )\n",
    "    return c\n",
    "bar_datazoom_slider().render(\"bar_datazoom_slider.html\")\n",
    "\n",
    "def line_markpoint() -> Line:\n",
    "    c = (\n",
    "        Line()\n",
    "        .add_xaxis(Faker.choose())\n",
    "        .add_yaxis(\n",
    "            \"商家A\",\n",
    "            Faker.values(),\n",
    "            markpoint_opts=opts.MarkPointOpts(data=[opts.MarkPointItem(type_=\"min\")]),\n",
    "        )\n",
    "        .add_yaxis(\n",
    "            \"商家B\",\n",
    "            Faker.values(),\n",
    "            markpoint_opts=opts.MarkPointOpts(data=[opts.MarkPointItem(type_=\"max\")]),\n",
    "        )\n",
    "        .set_global_opts(title_opts=opts.TitleOpts(title=\"Line-MarkPoint\"))\n",
    "    )\n",
    "    return c\n",
    "line_markpoint().render(\"line_markpoint.html\")\n",
    "\n",
    "def pie_rosetype() -> Pie:\n",
    "    v = Faker.choose()\n",
    "    c = (\n",
    "        Pie()\n",
    "        .add(\n",
    "            \"\",\n",
    "            [list(z) for z in zip(v, Faker.values())],\n",
    "            radius=[\"30%\", \"75%\"],\n",
    "            center=[\"25%\", \"50%\"],\n",
    "            rosetype=\"radius\",\n",
    "            label_opts=opts.LabelOpts(is_show=False),\n",
    "        )\n",
    "        .add(\n",
    "            \"\",\n",
    "            [list(z) for z in zip(v, Faker.values())],\n",
    "            radius=[\"30%\", \"75%\"],\n",
    "            center=[\"75%\", \"50%\"],\n",
    "            rosetype=\"area\",\n",
    "        )\n",
    "        .set_global_opts(title_opts=opts.TitleOpts(title=\"Pie-玫瑰图示例\"))\n",
    "    )\n",
    "    return c\n",
    "pie_rosetype().render(\"pie_rosetype.html\")"
   ]
  },
  {
   "cell_type": "markdown",
   "metadata": {},
   "source": [
    "### Default layout"
   ]
  },
  {
   "cell_type": "code",
   "execution_count": 5,
   "metadata": {},
   "outputs": [
    {
     "data": {
      "text/plain": [
       "'C:\\\\Users\\\\workspace\\\\水文数据\\\\echarts示例\\\\SimplePageLayout.html'"
      ]
     },
     "execution_count": 5,
     "metadata": {},
     "output_type": "execute_result"
    }
   ],
   "source": [
    "page = Page(layout=Page.SimplePageLayout)\n",
    "# 需要自行调整每个 chart 的 height/width，显示效果在不同的显示器上可能不同\n",
    "page.add(bar_datazoom_slider(), line_markpoint(), pie_rosetype(), grid_mutil_yaxis())\n",
    "page.render(\"SimplePageLayout.html\")"
   ]
  },
  {
   "cell_type": "code",
   "execution_count": 6,
   "metadata": {},
   "outputs": [
    {
     "data": {
      "text/plain": [
       "'C:\\\\Users\\\\workspace\\\\水文数据\\\\echarts示例\\\\DraggablePageLayout.html'"
      ]
     },
     "execution_count": 6,
     "metadata": {},
     "output_type": "execute_result"
    }
   ],
   "source": [
    "page = Page(layout=Page.DraggablePageLayout)\n",
    "page.add(bar_datazoom_slider(), line_markpoint(), pie_rosetype(), grid_mutil_yaxis())\n",
    "page.render(\"DraggablePageLayout.html\")"
   ]
  },
  {
   "cell_type": "markdown",
   "metadata": {},
   "source": [
    "## [选项卡多图 Tab](http://pyecharts.org/#/zh-cn/composite_charts?id=tab%ef%bc%9a%e9%80%89%e9%a1%b9%e5%8d%a1%e5%a4%9a%e5%9b%be)"
   ]
  },
  {
   "cell_type": "markdown",
   "metadata": {},
   "source": [
    "### bar_datazoom_slider"
   ]
  },
  {
   "cell_type": "code",
   "execution_count": 2,
   "metadata": {},
   "outputs": [
    {
     "data": {
      "text/plain": [
       "'C:\\\\Users\\\\workspace\\\\水文数据\\\\echarts示例\\\\选项卡多图Tab.html'"
      ]
     },
     "execution_count": 2,
     "metadata": {},
     "output_type": "execute_result"
    }
   ],
   "source": [
    "from pyecharts.faker import Faker\n",
    "from pyecharts import options as opts\n",
    "from pyecharts.charts import Bar, Tab, Pie, Line\n",
    "from pyecharts.components import Table\n",
    "\n",
    "\n",
    "def bar_datazoom_slider() -> Bar:\n",
    "    c = (\n",
    "        Bar()\n",
    "        .add_xaxis(Faker.days_attrs)\n",
    "        .add_yaxis(\"商家A\", Faker.days_values)\n",
    "        .set_global_opts(\n",
    "            title_opts=opts.TitleOpts(title=\"Bar-DataZoom（slider-水平）\"),\n",
    "            datazoom_opts=[opts.DataZoomOpts()],\n",
    "        )\n",
    "    )\n",
    "    return c\n",
    "\n",
    "\n",
    "def line_markpoint() -> Line:\n",
    "    c = (\n",
    "        Line()\n",
    "        .add_xaxis(Faker.choose())\n",
    "        .add_yaxis(\n",
    "            \"商家A\",\n",
    "            Faker.values(),\n",
    "            markpoint_opts=opts.MarkPointOpts(data=[opts.MarkPointItem(type_=\"min\")]),\n",
    "        )\n",
    "        .add_yaxis(\n",
    "            \"商家B\",\n",
    "            Faker.values(),\n",
    "            markpoint_opts=opts.MarkPointOpts(data=[opts.MarkPointItem(type_=\"max\")]),\n",
    "        )\n",
    "        .set_global_opts(title_opts=opts.TitleOpts(title=\"Line-MarkPoint\"))\n",
    "    )\n",
    "    return c\n",
    "\n",
    "\n",
    "def pie_rosetype() -> Pie:\n",
    "    v = Faker.choose()\n",
    "    c = (\n",
    "        Pie()\n",
    "        .add(\n",
    "            \"\",\n",
    "            [list(z) for z in zip(v, Faker.values())],\n",
    "            radius=[\"30%\", \"75%\"],\n",
    "            center=[\"25%\", \"50%\"],\n",
    "            rosetype=\"radius\",\n",
    "            label_opts=opts.LabelOpts(is_show=False),\n",
    "        )\n",
    "        .add(\n",
    "            \"\",\n",
    "            [list(z) for z in zip(v, Faker.values())],\n",
    "            radius=[\"30%\", \"75%\"],\n",
    "            center=[\"75%\", \"50%\"],\n",
    "            rosetype=\"area\",\n",
    "        )\n",
    "        .set_global_opts(title_opts=opts.TitleOpts(title=\"Pie-玫瑰图示例\"))\n",
    "    )\n",
    "    return c\n",
    "\n",
    "\n",
    "def table_base() -> Table:\n",
    "    table = Table()\n",
    "\n",
    "    headers = [\"City name\", \"Area\", \"Population\", \"Annual Rainfall\"]\n",
    "    rows = [\n",
    "        [\"Brisbane\", 5905, 1857594, 1146.4],\n",
    "        [\"Adelaide\", 1295, 1158259, 600.5],\n",
    "        [\"Darwin\", 112, 120900, 1714.7],\n",
    "        [\"Hobart\", 1357, 205556, 619.5],\n",
    "        [\"Sydney\", 2058, 4336374, 1214.8],\n",
    "        [\"Melbourne\", 1566, 3806092, 646.9],\n",
    "        [\"Perth\", 5386, 1554769, 869.4],\n",
    "    ]\n",
    "    table.add(headers, rows).set_global_opts(\n",
    "        title_opts=opts.ComponentTitleOpts(title=\"Table\")\n",
    "    )\n",
    "    return table\n",
    "\n",
    "tab = Tab()\n",
    "tab.add(bar_datazoom_slider(), \"bar-example\")\n",
    "tab.add(line_markpoint(), \"line-example\")\n",
    "tab.add(pie_rosetype(), \"pie-example\")\n",
    "tab.add(table_base(), \"table-example\")\n",
    "tab.render(\"选项卡多图Tab.html\")"
   ]
  },
  {
   "cell_type": "markdown",
   "metadata": {},
   "source": [
    "### timeline_bar"
   ]
  },
  {
   "cell_type": "code",
   "execution_count": 39,
   "metadata": {},
   "outputs": [
    {
     "data": {
      "text/plain": [
       "'C:\\\\Users\\\\workspace\\\\水文数据\\\\echarts示例\\\\timeline_bar.html'"
      ]
     },
     "execution_count": 39,
     "metadata": {},
     "output_type": "execute_result"
    }
   ],
   "source": [
    "from pyecharts.faker import Faker\n",
    "from pyecharts import options as opts\n",
    "from pyecharts.charts import Bar, Page, Pie, Timeline,Map, Sankey, BMap\n",
    "import math\n",
    "\n",
    "\n",
    "def timeline_bar() -> Timeline:\n",
    "    x = Faker.choose()\n",
    "    tl = Timeline()\n",
    "    for i in range(2015, 2020):\n",
    "        bar = (\n",
    "            Bar()\n",
    "            .add_xaxis(x)\n",
    "            .add_yaxis(\"商家A\", Faker.values())\n",
    "            .add_yaxis(\"商家B\", Faker.values())\n",
    "            .set_global_opts(title_opts=opts.TitleOpts(\"某商店{}年营业额\".format(i)))\n",
    "        )\n",
    "        tl.add(bar, \"{}年\".format(i))\n",
    "    return tl\n",
    "timeline_bar().render(\"timeline_bar.html\")"
   ]
  },
  {
   "cell_type": "markdown",
   "metadata": {},
   "source": [
    "### timeline_bar_reversal"
   ]
  },
  {
   "cell_type": "code",
   "execution_count": 11,
   "metadata": {},
   "outputs": [
    {
     "data": {
      "text/plain": [
       "'C:\\\\Users\\\\workspace\\\\水文数据\\\\echarts示例\\\\timeline_bar_reversal.html'"
      ]
     },
     "execution_count": 11,
     "metadata": {},
     "output_type": "execute_result"
    }
   ],
   "source": [
    "def timeline_bar_reversal() -> Timeline:\n",
    "    tl = Timeline()\n",
    "    for i in range(2015, 2020):\n",
    "        bar = (\n",
    "            Bar()\n",
    "            .add_xaxis(Faker.choose())\n",
    "            .add_yaxis(\n",
    "                \"商家A\", Faker.values(), label_opts=opts.LabelOpts(position=\"right\")\n",
    "            )\n",
    "            .add_yaxis(\n",
    "                \"商家B\", Faker.values(), label_opts=opts.LabelOpts(position=\"right\")\n",
    "            )\n",
    "            .reversal_axis()\n",
    "            .set_global_opts(\n",
    "                title_opts=opts.TitleOpts(\"Timeline-Bar-Reversal (时间: {} 年)\".format(i))\n",
    "            )\n",
    "        )\n",
    "        tl.add(bar, \"{}年\".format(i))\n",
    "    return tl\n",
    "timeline_bar_reversal().render(\"timeline_bar_reversal.html\")"
   ]
  },
  {
   "cell_type": "markdown",
   "metadata": {},
   "source": [
    "### Bar 图 Timeline + GraphicOpts 效果"
   ]
  },
  {
   "cell_type": "code",
   "execution_count": 15,
   "metadata": {},
   "outputs": [
    {
     "data": {
      "text/plain": [
       "'C:\\\\Users\\\\workspace\\\\水文数据\\\\echarts示例\\\\timeline_bar_with_graphic.html'"
      ]
     },
     "execution_count": 15,
     "metadata": {},
     "output_type": "execute_result"
    }
   ],
   "source": [
    "def timeline_bar_with_graphic() -> Timeline:\n",
    "    x = Faker.choose()\n",
    "    tl = Timeline()\n",
    "    for i in range(2015, 2020):\n",
    "        bar = (\n",
    "            Bar()\n",
    "            .add_xaxis(x)\n",
    "            .add_yaxis(\"商家A\", Faker.values())\n",
    "            .add_yaxis(\"商家B\", Faker.values())\n",
    "            .set_global_opts(\n",
    "                title_opts=opts.TitleOpts(\"某商店{}年营业额 - With Graphic 组件\".format(i)),\n",
    "                graphic_opts=[\n",
    "                    opts.GraphicGroup(\n",
    "                        graphic_item=opts.GraphicItem(\n",
    "                            rotation=math.pi/4,  # JsCode(\"Math.PI / 4\")\n",
    "                            bounding=\"raw\",\n",
    "                            right=100,\n",
    "                            bottom=110,\n",
    "                            z=100,\n",
    "                        ),\n",
    "                        children=[\n",
    "                            opts.GraphicRect(\n",
    "                                graphic_item=opts.GraphicItem(\n",
    "                                    left=\"center\", top=\"center\", z=100\n",
    "                                ),\n",
    "                                graphic_shape_opts=opts.GraphicShapeOpts(\n",
    "                                    width=400, height=50\n",
    "                                ),\n",
    "                                graphic_basicstyle_opts=opts.GraphicBasicStyleOpts(\n",
    "                                    fill=\"rgba(0,0,0,0.3)\"\n",
    "                                ),\n",
    "                            ),\n",
    "                            opts.GraphicText(\n",
    "                                graphic_item=opts.GraphicItem(\n",
    "                                    left=\"center\", top=\"center\", z=100\n",
    "                                ),\n",
    "                                graphic_textstyle_opts=opts.GraphicTextStyleOpts(\n",
    "                                    text=\"某商店{}年营业额\".format(i),\n",
    "                                    font=\"bold 26px Microsoft YaHei\",\n",
    "                                    graphic_basicstyle_opts=opts.GraphicBasicStyleOpts(\n",
    "                                        fill=\"#fff\"\n",
    "                                    ),\n",
    "                                ),\n",
    "                            ),\n",
    "                        ],\n",
    "                    )\n",
    "                ],\n",
    "            )\n",
    "        )\n",
    "        tl.add(bar, \"{}年\".format(i))\n",
    "    return tl\n",
    "timeline_bar_with_graphic().render(\"timeline_bar_with_graphic.html\")"
   ]
  },
  {
   "cell_type": "markdown",
   "metadata": {},
   "source": [
    "### Pie 图 Timeline 效果"
   ]
  },
  {
   "cell_type": "code",
   "execution_count": 30,
   "metadata": {},
   "outputs": [
    {
     "data": {
      "text/plain": [
       "'C:\\\\Users\\\\workspace\\\\水文数据\\\\echarts示例\\\\timeline_pie.html'"
      ]
     },
     "execution_count": 30,
     "metadata": {},
     "output_type": "execute_result"
    }
   ],
   "source": [
    "def timeline_pie() -> Timeline:\n",
    "    attr = Faker.choose()\n",
    "    tl = Timeline()\n",
    "    for i in range(2015, 2020):\n",
    "        pie = (\n",
    "            Pie()\n",
    "            .add(\n",
    "                \"商家A\",\n",
    "                [list(z) for z in zip(attr, Faker.values())],\n",
    "                rosetype=\"radius\",\n",
    "                radius=[\"30%\", \"55%\"],\n",
    "            )\n",
    "            .set_global_opts(title_opts=opts.TitleOpts(\"某商店{}年营业额\".format(i)))\n",
    "        )\n",
    "        tl.add(pie, \"{}年\".format(i))\n",
    "    return tl\n",
    "timeline_pie().render(\"timeline_pie.html\")"
   ]
  },
  {
   "cell_type": "markdown",
   "metadata": {},
   "source": [
    "### Map 图 Timeline 效果"
   ]
  },
  {
   "cell_type": "code",
   "execution_count": 33,
   "metadata": {},
   "outputs": [
    {
     "data": {
      "text/plain": [
       "'C:\\\\Users\\\\workspace\\\\水文数据\\\\echarts示例\\\\timeline_map.html'"
      ]
     },
     "execution_count": 33,
     "metadata": {},
     "output_type": "execute_result"
    }
   ],
   "source": [
    "def timeline_map() -> Timeline:\n",
    "    tl = Timeline()\n",
    "    for i in range(2015, 2020):\n",
    "        map0 = (\n",
    "            Map()\n",
    "            .add(\n",
    "                \"商家A\", [list(z) for z in zip(Faker.provinces, Faker.values())], \"china\"\n",
    "            )\n",
    "            .set_global_opts(\n",
    "                title_opts=opts.TitleOpts(title=\"Map-{}年某些数据\".format(i)),\n",
    "                visualmap_opts=opts.VisualMapOpts(max_=200),\n",
    "            )\n",
    "        )\n",
    "        tl.add(map0, \"{}年\".format(i))\n",
    "    return tl\n",
    "timeline_map().render(\"timeline_map.html\")"
   ]
  },
  {
   "cell_type": "markdown",
   "metadata": {},
   "source": [
    "### Sankey 图 Timeline 效果"
   ]
  },
  {
   "cell_type": "code",
   "execution_count": 37,
   "metadata": {},
   "outputs": [
    {
     "data": {
      "text/plain": [
       "'C:\\\\Users\\\\workspace\\\\水文数据\\\\echarts示例\\\\timeline_sankey.html'"
      ]
     },
     "execution_count": 37,
     "metadata": {},
     "output_type": "execute_result"
    }
   ],
   "source": [
    "def timeline_sankey() -> Timeline:\n",
    "    tl = Timeline()\n",
    "    names = (\"商家A\", \"商家B\", \"商家C\")\n",
    "    nodes = [{\"name\": name} for name in names]\n",
    "    for i in range(2015, 2020):\n",
    "        links = [\n",
    "            {\"source\": names[0], \"target\": names[1], \"value\": Faker.values()[0]},\n",
    "            {\"source\": names[1], \"target\": names[2], \"value\": Faker.values()[0]},\n",
    "        ]\n",
    "        sankey = (\n",
    "            Sankey()\n",
    "            .add(\n",
    "                \"sankey\",\n",
    "                nodes,\n",
    "                links,\n",
    "                linestyle_opt=opts.LineStyleOpts(\n",
    "                    opacity=0.2, curve=0.5, color=\"source\"\n",
    "                ),\n",
    "                label_opts=opts.LabelOpts(position=\"right\"),\n",
    "            )\n",
    "            .set_global_opts(\n",
    "                title_opts=opts.TitleOpts(title=\"{}年商店（A, B, C）营业额差\".format(i))\n",
    "            )\n",
    "        )\n",
    "        tl.add(sankey, \"{}年\".format(i))\n",
    "    return tl\n",
    "timeline_sankey().render(\"timeline_sankey.html\")"
   ]
  },
  {
   "cell_type": "markdown",
   "metadata": {},
   "source": [
    "### BMap 图 Timeline 效果"
   ]
  },
  {
   "cell_type": "code",
   "execution_count": 41,
   "metadata": {},
   "outputs": [
    {
     "data": {
      "text/plain": [
       "'C:\\\\Users\\\\workspace\\\\水文数据\\\\echarts示例\\\\timeline_bmap.html'"
      ]
     },
     "execution_count": 41,
     "metadata": {},
     "output_type": "execute_result"
    }
   ],
   "source": [
    "def timeline_bmap() -> Timeline:\n",
    "    tl = Timeline()\n",
    "    tl.add_schema(pos_left=\"50%\", pos_right=\"10px\", pos_bottom=\"15px\")\n",
    "    for i in range(2015, 2020):\n",
    "        bmap = (\n",
    "            BMap()\n",
    "            .add_schema(baidu_ak=\"FAKE_AK\", center=[120.13066322374, 30.240018034923])\n",
    "            .add(\n",
    "                \"bmap\",\n",
    "                [list(z) for z in zip(Faker.provinces, Faker.values())],\n",
    "                type_=\"heatmap\",\n",
    "            )\n",
    "            .set_global_opts(\n",
    "                title_opts=opts.TitleOpts(title=\"Timeline-BMap-热力图-{}年\".format(i)),\n",
    "                visualmap_opts=opts.VisualMapOpts(\n",
    "                    pos_bottom=\"center\", pos_right=\"10px\"\n",
    "                ),\n",
    "                tooltip_opts=opts.TooltipOpts(formatter=None),\n",
    "            )\n",
    "        )\n",
    "        tl.add(bmap, \"{}年\".format(i))\n",
    "    return tl\n",
    "timeline_bmap().render(\"timeline_bmap.html\")"
   ]
  },
  {
   "cell_type": "markdown",
   "metadata": {},
   "source": [
    "## HTML组件Htmlcomponents"
   ]
  },
  {
   "cell_type": "markdown",
   "metadata": {},
   "source": [
    "### Component 通用配置项 Component generic configuration item"
   ]
  },
  {
   "cell_type": "code",
   "execution_count": null,
   "metadata": {},
   "outputs": [],
   "source": []
  },
  {
   "cell_type": "markdown",
   "metadata": {},
   "source": [
    "### Table：表格 Table"
   ]
  },
  {
   "cell_type": "code",
   "execution_count": 42,
   "metadata": {},
   "outputs": [
    {
     "data": {
      "text/plain": [
       "'C:\\\\Users\\\\workspace\\\\水文数据\\\\echarts示例\\\\table_base.html'"
      ]
     },
     "execution_count": 42,
     "metadata": {},
     "output_type": "execute_result"
    }
   ],
   "source": [
    "from pyecharts.components import Table\n",
    "from pyecharts.options import ComponentTitleOpts\n",
    "\n",
    "def table_base() -> Table:\n",
    "    table = Table()\n",
    "\n",
    "    headers = [\"City name\", \"Area\", \"Population\", \"Annual Rainfall\"]\n",
    "    rows = [\n",
    "        [\"Brisbane\", 5905, 1857594, 1146.4],\n",
    "        [\"Adelaide\", 1295, 1158259, 600.5],\n",
    "        [\"Darwin\", 112, 120900, 1714.7],\n",
    "        [\"Hobart\", 1357, 205556, 619.5],\n",
    "        [\"Sydney\", 2058, 4336374, 1214.8],\n",
    "        [\"Melbourne\", 1566, 3806092, 646.9],\n",
    "        [\"Perth\", 5386, 1554769, 869.4],\n",
    "    ]\n",
    "    table.add(headers, rows).set_global_opts(\n",
    "        title_opts=ComponentTitleOpts(title=\"Table-我是主标题\", subtitle=\"我是副标题支持换行哦\")\n",
    "    )\n",
    "    return table\n",
    "table_base().render(\"table_base.html\")"
   ]
  },
  {
   "cell_type": "markdown",
   "metadata": {},
   "source": [
    "### Image：图像 Image"
   ]
  },
  {
   "cell_type": "code",
   "execution_count": 48,
   "metadata": {},
   "outputs": [
    {
     "data": {
      "text/plain": [
       "'C:\\\\Users\\\\workspace\\\\水文数据\\\\echarts示例\\\\image_base.html'"
      ]
     },
     "execution_count": 48,
     "metadata": {},
     "output_type": "execute_result"
    }
   ],
   "source": [
    "from pyecharts.components import Image\n",
    "from pyecharts.options import ComponentTitleOpts\n",
    "\n",
    "def image_base() -> Image:\n",
    "    image = Image()\n",
    "\n",
    "    img_src = (\n",
    "        \"https://user-images.githubusercontent.com/19553554/396123\"\n",
    "        \"58-499eb2ae-4f91-11e8-8f56-179c4f0bf2df.png\"\n",
    "    )\n",
    "    image.add(\n",
    "        src=img_src,\n",
    "        style_opts={\"width\": \"200px\", \"height\": \"200px\", \"style\": \"margin-top: 20px\"},\n",
    "    ).set_global_opts(\n",
    "        title_opts=ComponentTitleOpts(title=\"Image-基本示例\", subtitle=\"我是副标题支持换行哦\")\n",
    "    )\n",
    "    return image\n",
    "image_base().render(\"image_base.html\")"
   ]
  },
  {
   "cell_type": "markdown",
   "metadata": {},
   "source": [
    "# 进阶话题"
   ]
  },
  {
   "cell_type": "markdown",
   "metadata": {},
   "source": [
    "## 参数传递"
   ]
  },
  {
   "cell_type": "markdown",
   "metadata": {},
   "source": [
    "pyecharts 对配置项基本上都采用 XXXOpts/XXXItems 以及 dict 两种数据形式，这两种是完全等价的。\n",
    "\n",
    "比如下面三者效果是一致的"
   ]
  },
  {
   "cell_type": "code",
   "execution_count": null,
   "metadata": {},
   "outputs": [],
   "source": [
    "c = Bar(init_opts=opts.InitOpts(width=\"620px\", height=\"420px\"))\n",
    "c = Bar(dict(width=\"620px\", height=\"420px\"))\n",
    "c = Bar({\"width\": \"620px\", \"height\": \"420px\"})\n",
    "# 其他配置项均可这么操作\n"
   ]
  },
  {
   "cell_type": "code",
   "execution_count": null,
   "metadata": {},
   "outputs": [],
   "source": [
    "c = (\n",
    "    Parallel()\n",
    "    .add_schema(\n",
    "        [\n",
    "            opts.ParallelAxisOpts(dim=0, name=\"data\"),\n",
    "            opts.ParallelAxisOpts(dim=1, name=\"AQI\"),\n",
    "            opts.ParallelAxisOpts(dim=2, name=\"PM2.5\"),\n",
    "            opts.ParallelAxisOpts(dim=3, name=\"PM10\"),\n",
    "            opts.ParallelAxisOpts(dim=4, name=\"CO\"),\n",
    "            opts.ParallelAxisOpts(dim=5, name=\"NO2\"),\n",
    "            opts.ParallelAxisOpts(dim=6, name=\"CO2\"),\n",
    "            opts.ParallelAxisOpts(\n",
    "                dim=7,\n",
    "                name=\"等级\",\n",
    "                type_=\"category\",\n",
    "                data=[\"优\", \"良\", \"轻度污染\", \"中度污染\", \"重度污染\", \"严重污染\"],\n",
    "            ),\n",
    "        ]\n",
    "    )\n",
    ")\n",
    "# 等价于"
   ]
  },
  {
   "cell_type": "code",
   "execution_count": null,
   "metadata": {},
   "outputs": [],
   "source": [
    "c = (\n",
    "    Parallel()\n",
    "    .add_schema(\n",
    "        [\n",
    "            dict(dim=0, name=\"data\"),\n",
    "            dict(dim=1, name=\"AQI\"),\n",
    "            dict(dim=2, name=\"PM2.5\"),\n",
    "            dict(dim=3, name=\"PM10\"),\n",
    "            dict(dim=4, name=\"CO\"),\n",
    "            dict(dim=5, name=\"NO2\"),\n",
    "            dict(dim=6, name=\"CO2\"),\n",
    "            dict(\n",
    "                dim=7,\n",
    "                name=\"等级\",\n",
    "                type_=\"category\",\n",
    "                data=[\"优\", \"良\", \"轻度污染\", \"中度污染\", \"重度污染\", \"严重污染\"],\n",
    "            ),\n",
    "        ]\n",
    "    )\n",
    ")\n",
    "# 等价于"
   ]
  },
  {
   "cell_type": "code",
   "execution_count": null,
   "metadata": {},
   "outputs": [],
   "source": [
    "c = (\n",
    "    Parallel()\n",
    "    .add_schema(\n",
    "        [\n",
    "            {\"dim\": 0, \"name\": \"data\"},\n",
    "            {\"dim\": 1, \"name\": \"AQI\"},\n",
    "            {\"dim\": 2, \"name\": \"PM2.5\"},\n",
    "            {\"dim\": 3, \"name\": \"PM10\"},\n",
    "            {\"dim\": 4, \"name\": \"CO\"},\n",
    "            {\"dim\": 5, \"name\": \"NO2\"},\n",
    "            {\"dim\": 6, \"name\": \"CO2\"},\n",
    "            {\n",
    "                \"dim\": 7, \"name\": \"等级\", \"type\": \"category\",\n",
    "                \"data\": [\"优\", \"良\", \"轻度污染\", \"中度污染\", \"重度污染\", \"严重污染\"],\n",
    "            ),\n",
    "        ]\n",
    "    )\n",
    ")"
   ]
  },
  {
   "cell_type": "markdown",
   "metadata": {},
   "source": [
    "Note: 不是每个配置项的名字都与 dict key 相等，比如 max, min, type 等，因为和 Python 原生关键字冲突了，所以使用 下划线作为后缀，具体应该参考每个配置项的 self.opts 属性。"
   ]
  },
  {
   "cell_type": "markdown",
   "metadata": {},
   "source": [
    "## 数据格式"
   ]
  },
  {
   "cell_type": "markdown",
   "metadata": {},
   "source": [
    "Python -> JSON\n",
    "\n",
    "pyecharts 本质上在做的事情就是将 Echarts 的配置项由 Python dict 序列化为 JSON 格式，所以 pyecharts 支持什么格式的数据类型取决于 JSON 支持什么数据类型。"
   ]
  },
  {
   "cell_type": "code",
   "execution_count": null,
   "metadata": {},
   "outputs": [],
   "source": [
    "# 在 Python 中对 JSON 的格式转换如下\n",
    "Python          JSON\n",
    "------          ----\n",
    "int, float      number\n",
    "str             string\n",
    "bool            boolean\n",
    "dict            object\n",
    "list            array"
   ]
  },
  {
   "cell_type": "markdown",
   "metadata": {},
   "source": [
    "这也就意味着在你将数据传入到 pyecharts 的时候，需要自行将数据格式转换成上述 Python 原生的数据格式。\n",
    "\n",
    "使用数据分析大都需要使用 numpy/pandas，但是 numpy 的 numpy.int64/numpy.int32/... 等数据类型并不继承自 Python.int。"
   ]
  },
  {
   "cell_type": "code",
   "execution_count": null,
   "metadata": {},
   "outputs": [],
   "source": [
    "Q1: 如何转换？\n",
    "\n",
    "# for int\n",
    "[int(x) for x in your_numpy_array_or_something_else]\n",
    "# for float\n",
    "[float(x) for x in your_numpy_array_or_something_else]\n",
    "# for str\n",
    "[str(x) for x in your_numpy_array_or_something_else]\n",
    "\n",
    "Q2: 有没有更方便的转换方法？\n",
    "\n",
    "Series.tolist()\n",
    "\n",
    "Q3: pyecharts 没有自动转换的原因？\n",
    "\n",
    "pyecharts 是一个通用的第三方库，我们不可能关心开发者的所有使用场景，这个转换需要我们引入 numpy/pandas 两个第三方库，而这两个库 太重了，所以我们将这个工作交给了开发者。"
   ]
  },
  {
   "cell_type": "markdown",
   "metadata": {},
   "source": [
    "## 定制主题"
   ]
  },
  {
   "cell_type": "markdown",
   "metadata": {},
   "source": [
    "pyecharts 内置提供了 10+ 种不同的风格，另外也提供了便捷的定制主题的方法。\n",
    "\n",
    "默认主题的效果"
   ]
  },
  {
   "cell_type": "code",
   "execution_count": 49,
   "metadata": {},
   "outputs": [
    {
     "data": {
      "text/plain": [
       "'C:\\\\Users\\\\workspace\\\\水文数据\\\\echarts示例\\\\theme_default.html'"
      ]
     },
     "execution_count": 49,
     "metadata": {},
     "output_type": "execute_result"
    }
   ],
   "source": [
    "from pyecharts import options as opts\n",
    "from pyecharts.charts import Bar\n",
    "from pyecharts.globals import ThemeType\n",
    "\n",
    "def theme_default() -> Bar:\n",
    "    c = (\n",
    "        Bar()\n",
    "        # 等价于 Bar(init_opts=opts.InitOpts(theme=ThemeType.WHITE))\n",
    "        .add_xaxis(Faker.choose())\n",
    "        .add_yaxis(\"商家A\", Faker.values())\n",
    "        .add_yaxis(\"商家B\", Faker.values())\n",
    "        .add_yaxis(\"商家C\", Faker.values())\n",
    "        .add_yaxis(\"商家D\", Faker.values())\n",
    "        .set_global_opts(title_opts=opts.TitleOpts(\"Theme-default\"))\n",
    "    )\n",
    "    return c\n",
    "theme_default().render(\"theme_default.html\")"
   ]
  },
  {
   "cell_type": "markdown",
   "metadata": {},
   "source": [
    "## 主题风格"
   ]
  },
  {
   "cell_type": "code",
   "execution_count": null,
   "metadata": {},
   "outputs": [],
   "source": [
    "LIGHT 光\n",
    "\n",
    "c = Bar(init_opts=opts.InitOpts(theme=ThemeType.LIGHT))\n",
    "\n",
    "DARK 黑暗\n",
    "\n",
    "c = Bar(init_opts=opts.InitOpts(theme=ThemeType.DARK))\n",
    "\n",
    "CHALK 粉笔\n",
    "\n",
    "c = Bar(init_opts=opts.InitOpts(theme=ThemeType.CHALK))\n",
    "\n",
    "ESSOS\n",
    "\n",
    "c = Bar(init_opts=opts.InitOpts(theme=ThemeType.ESSOS))\n",
    "\n",
    "INFOGRAPHIC\n",
    "\n",
    "c = Bar(init_opts=opts.InitOpts(theme=ThemeType.INFOGRAPHIC))\n",
    "\n",
    "MACARONS\n",
    "\n",
    "c = Bar(init_opts=opts.InitOpts(theme=ThemeType.MACARONS))\n",
    "\n",
    "PURPLE_PASSION 紫色激情\n",
    "\n",
    "c = Bar(init_opts=opts.InitOpts(theme=ThemeType.PURPLE_PASSION))\n",
    "\n",
    "ROMA 罗马\n",
    "\n",
    "c = Bar(init_opts=opts.InitOpts(theme=ThemeType.ROMA))\n",
    "\n",
    "ROMANTIC\n",
    "c = Bar(init_opts=opts.InitOpts(theme=ThemeType.ROMANTIC))\n",
    "\n",
    "SHINE 闪亮\n",
    "c = Bar(init_opts=opts.InitOpts(theme=ThemeType.SHINE))\n",
    "\n",
    "VINTAGE 年份\n",
    "c = Bar(init_opts=opts.InitOpts(theme=ThemeType.VINTAGE))\n",
    "\n",
    "WALDEN\n",
    "c = Bar(init_opts=opts.InitOpts(theme=ThemeType.WALDEN))\n",
    "\n",
    "WESTEROS 维斯特洛\n",
    "c = Bar(init_opts=opts.InitOpts(theme=ThemeType.WESTEROS))\n",
    "\n",
    "WONDERLAND\n",
    "c = Bar(init_opts=opts.InitOpts(theme=ThemeType.WONDERLAND))\n",
    "\n"
   ]
  },
  {
   "cell_type": "markdown",
   "metadata": {},
   "source": [
    "### 使用自己构建的主题"
   ]
  },
  {
   "cell_type": "markdown",
   "metadata": {},
   "source": [
    "Echarts 提供了主题构建工具，你可以从中构建喜欢的主题，假设你构建的主题文件为 myTheme.js。\n",
    "\n",
    "使用自己构建的主题必须由开发者自己启动资源文件服务器，这部分内容请参考 进阶话题-资源引用，然后你需要进行以下步骤的操作\n",
    "\n",
    "1. 将 myTheme.js 放入至 Put it intopyecharts-assets/assets/themes 文件夹。 File folder\n",
    "\n",
    "2. 注册主题到 pyecharts Register the theme to Pyecharts\n",
    "\n",
    " from pyecharts.datasets import register_files\n",
    " register_files({\"myTheme\": [\"themes/myTheme\", \"js\"]})\n",
    " \n",
    "3. 使用主题 Using themes\n",
    "\n",
    " c = Bar(init_opts=opts.InitOpts(theme=\"myTheme\"))"
   ]
  },
  {
   "cell_type": "markdown",
   "metadata": {},
   "source": [
    "## 定制地图"
   ]
  },
  {
   "cell_type": "code",
   "execution_count": null,
   "metadata": {},
   "outputs": [],
   "source": [
    "Echarts 官方地图下载地址 download-map 已经暂时关闭"
   ]
  },
  {
   "cell_type": "markdown",
   "metadata": {},
   "source": [
    "## 原生 Javascript"
   ]
  },
  {
   "cell_type": "code",
   "execution_count": null,
   "metadata": {},
   "outputs": [],
   "source": [
    "pyecharts 支持传入原生 JS 函数，这些函数大都用于在设置 formatter 的时候使用，如 Geo 图的 formatter 默认就是通过回调函数设置的\n",
    "\n",
    "使用回调函数设置 Tooltip Formatter"
   ]
  },
  {
   "cell_type": "code",
   "execution_count": null,
   "metadata": {},
   "outputs": [],
   "source": [
    "GEO = \"\"\"function (params) {\n",
    "        return params.name + ' : ' + params.value[2];\n",
    "    }\"\"\""
   ]
  },
  {
   "cell_type": "markdown",
   "metadata": {},
   "source": [
    "Note: 想使用 \\n, \\t 字符串的话，需要转换为 \\\\n, \\\\t"
   ]
  },
  {
   "cell_type": "markdown",
   "metadata": {},
   "source": [
    "然后在 set_global_opts 中配置，所有的 JS 函数均要使用 utils.JsCode 类封装"
   ]
  },
  {
   "cell_type": "code",
   "execution_count": null,
   "metadata": {},
   "outputs": [],
   "source": [
    "from pyecharts.commons import utils\n",
    "\n",
    "geo.set_global_opts(\n",
    "    opts.TooltipOpts(formatter=utils.JsCode(TooltipFormatterType.GEO)),\n",
    ")"
   ]
  },
  {
   "cell_type": "markdown",
   "metadata": {},
   "source": [
    "使用回调函数设置 Label Formatter 浮点数位数"
   ]
  },
  {
   "cell_type": "code",
   "execution_count": null,
   "metadata": {},
   "outputs": [],
   "source": [
    "FORMATTER = \"\"\"\"function (params) {\n",
    "    return window.parseFloat(params.value).toFixed(2)\n",
    "}\n",
    "\"\""
   ]
  },
  {
   "cell_type": "markdown",
   "metadata": {},
   "source": [
    "或者可以在任何图表上附加 JS 代码"
   ]
  },
  {
   "cell_type": "code",
   "execution_count": null,
   "metadata": {},
   "outputs": [],
   "source": [
    "from pyecharts.charts import Bar\n",
    "\n",
    "bar = Bar()\n",
    "bar.add_js_funcs(\"console.log('hello world')\")"
   ]
  },
  {
   "cell_type": "markdown",
   "metadata": {},
   "source": [
    "打开浏览器控制台就可以看到输出了 hello world。"
   ]
  },
  {
   "cell_type": "code",
   "execution_count": null,
   "metadata": {},
   "outputs": [],
   "source": []
  },
  {
   "cell_type": "code",
   "execution_count": null,
   "metadata": {},
   "outputs": [],
   "source": []
  },
  {
   "cell_type": "code",
   "execution_count": null,
   "metadata": {},
   "outputs": [],
   "source": []
  }
 ],
 "metadata": {
  "kernelspec": {
   "display_name": "Python 3",
   "language": "python",
   "name": "python3"
  },
  "language_info": {
   "codemirror_mode": {
    "name": "ipython",
    "version": 3
   },
   "file_extension": ".py",
   "mimetype": "text/x-python",
   "name": "python",
   "nbconvert_exporter": "python",
   "pygments_lexer": "ipython3",
   "version": "3.7.3"
  },
  "toc": {
   "base_numbering": 1,
   "nav_menu": {},
   "number_sections": true,
   "sideBar": true,
   "skip_h1_title": false,
   "title_cell": "Table of Contents",
   "title_sidebar": "Contents",
   "toc_cell": false,
   "toc_position": {
    "height": "calc(100% - 180px)",
    "left": "10px",
    "top": "150px",
    "width": "264px"
   },
   "toc_section_display": true,
   "toc_window_display": true
  }
 },
 "nbformat": 4,
 "nbformat_minor": 2
}
