{
 "cells": [
  {
   "cell_type": "code",
   "execution_count": 1,
   "metadata": {
    "scrolled": true
   },
   "outputs": [
    {
     "name": "stdout",
     "output_type": "stream",
     "text": [
      "\n",
      "1.6.2\n"
     ]
    }
   ],
   "source": [
    "import pyecharts\n",
    "print()\n",
    "print(pyecharts.__version__)"
   ]
  },
  {
   "cell_type": "markdown",
   "metadata": {},
   "source": [
    "[简介 - pyecharts - A Python Echarts Plotting Library](http://pyecharts.org/#/zh-cn/intro)\n",
    "\n",
    "[快速开始 - pyecharts - A Python Echarts Plotting Library](http://pyecharts.org/#/zh-cn/quickstart)\n",
    "\n",
    "Note: 在使用 Pandas&Numpy 时，请确保将数值类型转换为 python 原生的 int/float。比如整数类型请确保为 int，而不是 numpy.int32"
   ]
  },
  {
   "cell_type": "code",
   "execution_count": 2,
   "metadata": {},
   "outputs": [],
   "source": [
    "# 导入模块\n",
    "import os\n",
    "import pandas as pd\n",
    "import re\n",
    "import datetime\n",
    "from pandas import Series,DataFrame\n",
    "import numpy as np\n",
    "import random\n",
    "\n",
    "import pyecharts\n",
    "from pyecharts.faker import Faker\n",
    "from pyecharts import charts, commons, components, datasets, options, render, scaffold\n",
    "from pyecharts import options as opts\n",
    "from pyecharts.charts import Bar,Line,Timeline,Pie, EffectScatter, Grid,Tab,Page,HeatMap\n",
    "from pyecharts.components import Table\n",
    "from pyecharts.charts import Geo\n",
    "from pyecharts.globals import ChartType, SymbolType"
   ]
  },
  {
   "cell_type": "code",
   "execution_count": 3,
   "metadata": {
    "scrolled": true
   },
   "outputs": [],
   "source": [
    "# 查看pyecharts.options方法、属性\n",
    "# dir(pyecharts.options)[:5]"
   ]
  },
  {
   "cell_type": "raw",
   "metadata": {
    "scrolled": true
   },
   "source": [
    "# 查看当前目录下的文件目录树\n",
    "for e0 in os.listdir():\n",
    "    \n",
    "    if os.path.isdir(e0):\n",
    "        print(\"###文件夹：\",e0)\n",
    "        for e1 in os.listdir(e0):\n",
    "            print(e1)\n",
    "    else:\n",
    "        print(\"---文件---：\",e0)"
   ]
  },
  {
   "cell_type": "markdown",
   "metadata": {},
   "source": [
    "# 2017宜兴水文水质资料"
   ]
  },
  {
   "cell_type": "code",
   "execution_count": null,
   "metadata": {},
   "outputs": [],
   "source": []
  },
  {
   "cell_type": "code",
   "execution_count": 4,
   "metadata": {},
   "outputs": [],
   "source": [
    "XMonths = [\"一月\",\"二月\",\"三月\",\"四月\",\"五月\",\"六月\",\"七月\",\"八月\",\"九月\",\"十月\",\"十一月\",\"十二月\"]"
   ]
  },
  {
   "cell_type": "code",
   "execution_count": 5,
   "metadata": {},
   "outputs": [],
   "source": [
    "days = [str(i) for i in list(range(1, 32))]"
   ]
  },
  {
   "cell_type": "code",
   "execution_count": 6,
   "metadata": {},
   "outputs": [],
   "source": [
    "# 数字精度\n",
    "precision = 2"
   ]
  },
  {
   "cell_type": "code",
   "execution_count": 7,
   "metadata": {},
   "outputs": [
    {
     "data": {
      "text/plain": [
       "'C:\\\\Users\\\\workspace\\\\水文数据'"
      ]
     },
     "execution_count": 7,
     "metadata": {},
     "output_type": "execute_result"
    }
   ],
   "source": [
    "os.getcwd() # 查看当前路径"
   ]
  },
  {
   "cell_type": "code",
   "execution_count": 8,
   "metadata": {},
   "outputs": [
    {
     "data": {
      "text/plain": [
       "'C:\\\\Users\\\\workspace\\\\水文数据'"
      ]
     },
     "execution_count": 8,
     "metadata": {},
     "output_type": "execute_result"
    }
   ],
   "source": [
    "pwd # 查看当前路径"
   ]
  },
  {
   "cell_type": "code",
   "execution_count": 9,
   "metadata": {},
   "outputs": [
    {
     "data": {
      "text/plain": [
       "'C:\\\\Users\\\\workspace\\\\水文数据\\\\html\\\\'"
      ]
     },
     "execution_count": 9,
     "metadata": {},
     "output_type": "execute_result"
    }
   ],
   "source": [
    "# render后的html路径\n",
    "html = os.getcwd() +\"\\\\html\\\\\"\n",
    "html"
   ]
  },
  {
   "cell_type": "markdown",
   "metadata": {},
   "source": [
    "# 降雨"
   ]
  },
  {
   "cell_type": "markdown",
   "metadata": {},
   "source": [
    "## 南仓河  宜兴站逐日降水量表"
   ]
  },
  {
   "cell_type": "code",
   "execution_count": 10,
   "metadata": {
    "scrolled": true
   },
   "outputs": [],
   "source": [
    "# 读取excel文件中的sheet-name数据\n",
    "NcYxRainfall = pd.read_excel(\"./data/2017宜兴水文水质资料.xls\", sheet_name='降雨', index_col=0, header=0, skiprows=3)\n",
    "NcYxRainfall = NcYxRainfall.drop('Unnamed: 1',axis=1)\n",
    "# 字段重命名\n",
    "NcYxRainfall = NcYxRainfall.rename(columns={'Unnamed: 2':'一月','Unnamed: 3':'二月','Unnamed: 4':'三月','Unnamed: 5':'四月',\n",
    "                   'Unnamed: 6':'五月','Unnamed: 7':'六月','Unnamed: 8':'七月','Unnamed: 9':'八月',\n",
    "                   'Unnamed: 10':'九月','Unnamed: 11':'十月','Unnamed: 12':'十一月','Unnamed: 13':'十二月',})\n",
    "# NcYxRainfall.tail(10)"
   ]
  },
  {
   "cell_type": "code",
   "execution_count": 11,
   "metadata": {},
   "outputs": [],
   "source": [
    "NcYxRainfall = NcYxRainfall.head(31).astype('float64')"
   ]
  },
  {
   "cell_type": "code",
   "execution_count": 12,
   "metadata": {
    "scrolled": true
   },
   "outputs": [],
   "source": [
    "NcYxRainfall = NcYxRainfall.fillna(0)\n",
    "NcYxRainfall = NcYxRainfall.round(precision)\n",
    "# NcYxRainfall.head()"
   ]
  },
  {
   "cell_type": "code",
   "execution_count": 13,
   "metadata": {},
   "outputs": [],
   "source": [
    "NcYxRainfallJanuary = NcYxRainfall[\"一月\"].sum()\n",
    "NcYxRainfallFebruary = NcYxRainfall[\"二月\"].sum()\n",
    "NcYxRainfallMarch = NcYxRainfall[\"三月\"].sum()\n",
    "NcYxRainfallApril = NcYxRainfall[\"四月\"].sum()\n",
    "NcYxRainfallMay = NcYxRainfall[\"五月\"].sum()\n",
    "NcYxRainfallJune = NcYxRainfall[\"六月\"].sum()\n",
    "NcYxRainfallJuly = NcYxRainfall[\"七月\"].sum()\n",
    "NcYxRainfallAugust = NcYxRainfall[\"八月\"].sum()\n",
    "NcYxRainfallSeptember = NcYxRainfall[\"九月\"].sum()\n",
    "NcYxRainfallOctober = NcYxRainfall[\"十月\"].sum()\n",
    "NcYxRainfallNovember = NcYxRainfall[\"十一月\"].sum()\n",
    "NcYxRainfallDecember = NcYxRainfall[\"十二月\"].sum()"
   ]
  },
  {
   "cell_type": "code",
   "execution_count": 14,
   "metadata": {},
   "outputs": [],
   "source": [
    "NcYxRainfallmonths = [NcYxRainfallJanuary, NcYxRainfallFebruary, \n",
    "                      NcYxRainfallMarch, NcYxRainfallApril, NcYxRainfallMay, \n",
    "                      NcYxRainfallJune, NcYxRainfallJuly, NcYxRainfallAugust,\n",
    "                      NcYxRainfallSeptember, NcYxRainfallOctober,\n",
    "                      NcYxRainfallNovember, NcYxRainfallDecember]"
   ]
  },
  {
   "cell_type": "code",
   "execution_count": 15,
   "metadata": {},
   "outputs": [],
   "source": [
    "# NcYxRainfallmonths 数字保留两位小数\n",
    "NcYxRainfallmonths = [e.round(2) for e in NcYxRainfallmonths]\n",
    "# NcYxRainfallmonths"
   ]
  },
  {
   "cell_type": "markdown",
   "metadata": {},
   "source": [
    "# 蒸发"
   ]
  },
  {
   "cell_type": "markdown",
   "metadata": {},
   "source": [
    "## 南仓河  宜兴站逐日水面蒸发量表"
   ]
  },
  {
   "cell_type": "code",
   "execution_count": 16,
   "metadata": {
    "scrolled": true
   },
   "outputs": [],
   "source": [
    "NcYxEvaporation = pd.read_excel(\"./data/2017宜兴水文水质资料.xls\", sheet_name='蒸发', index_col=0, header=0, skiprows=3)\n",
    "NcYxEvaporation = NcYxEvaporation.drop('Unnamed: 1',axis=1)\n",
    "NcYxEvaporation = NcYxEvaporation.rename(columns={'Unnamed: 2':'一月','Unnamed: 3':'二月','Unnamed: 4':'三月','Unnamed: 5':'四月',\n",
    "                   'Unnamed: 6':'五月','Unnamed: 7':'六月','Unnamed: 8':'七月','Unnamed: 9':'八月',\n",
    "                   'Unnamed: 10':'九月','Unnamed: 11':'十月','Unnamed: 12':'十一月','Unnamed: 13':'十二月',})\n",
    "# NcYxEvaporation.tail(10)"
   ]
  },
  {
   "cell_type": "code",
   "execution_count": 17,
   "metadata": {},
   "outputs": [],
   "source": [
    "# NcYxEvaporation 前31行的数据转换为float\n",
    "NcYxEvaporation = NcYxEvaporation.head(31).astype('float64')"
   ]
  },
  {
   "cell_type": "code",
   "execution_count": 18,
   "metadata": {},
   "outputs": [],
   "source": [
    "# 数据为NaN的用数字0填充\n",
    "NcYxEvaporation = NcYxEvaporation.fillna(0)\n",
    "# 两位小数\n",
    "NcYxEvaporation = NcYxEvaporation.round(2)\n",
    "# NcYxEvaporation.head()"
   ]
  },
  {
   "cell_type": "code",
   "execution_count": 19,
   "metadata": {},
   "outputs": [],
   "source": [
    "# 每月的数据求和\n",
    "NcYxEvaporationJanuary = NcYxEvaporation[\"一月\"].sum()\n",
    "NcYxEvaporationFebruary = NcYxEvaporation[\"二月\"].sum()\n",
    "NcYxEvaporationMarch = NcYxEvaporation[\"三月\"].sum()\n",
    "NcYxEvaporationApril = NcYxEvaporation[\"四月\"].sum()\n",
    "NcYxEvaporationMay = NcYxEvaporation[\"五月\"].sum()\n",
    "NcYxEvaporationJune = NcYxEvaporation[\"六月\"].sum()\n",
    "NcYxEvaporationJuly = NcYxEvaporation[\"七月\"].sum()\n",
    "NcYxEvaporationAugust = NcYxEvaporation[\"八月\"].sum()\n",
    "NcYxEvaporationSeptember = NcYxEvaporation[\"九月\"].sum()\n",
    "NcYxEvaporationOctober = NcYxEvaporation[\"十月\"].sum()\n",
    "NcYxEvaporationNovember = NcYxEvaporation[\"十一月\"].sum()\n",
    "NcYxEvaporationDecember = NcYxEvaporation[\"十二月\"].sum()"
   ]
  },
  {
   "cell_type": "code",
   "execution_count": 20,
   "metadata": {},
   "outputs": [],
   "source": [
    "# 1-12月的数据存储到NcYxEvaporationmonths列表\n",
    "NcYxEvaporationmonths = [NcYxEvaporationJanuary, NcYxEvaporationFebruary, \n",
    "                      NcYxEvaporationMarch, NcYxEvaporationApril, NcYxEvaporationMay, \n",
    "                      NcYxEvaporationJune, NcYxEvaporationJuly, NcYxEvaporationAugust,\n",
    "                      NcYxEvaporationSeptember, NcYxEvaporationOctober,\n",
    "                      NcYxEvaporationNovember, NcYxEvaporationDecember]"
   ]
  },
  {
   "cell_type": "code",
   "execution_count": 21,
   "metadata": {},
   "outputs": [],
   "source": [
    "NcYxEvaporationmonths = [e.round(2) for e in NcYxEvaporationmonths]\n",
    "# NcYxEvaporationmonths "
   ]
  },
  {
   "cell_type": "markdown",
   "metadata": {},
   "source": [
    "# 水位"
   ]
  },
  {
   "cell_type": "markdown",
   "metadata": {},
   "source": [
    "## 西氿  宜兴(西)站逐日平均水位表"
   ]
  },
  {
   "cell_type": "code",
   "execution_count": 22,
   "metadata": {},
   "outputs": [],
   "source": [
    "XgYxWaterlevel = pd.read_excel(\"./data/2017宜兴水文水质资料.xls\", sheet_name='水位', index_col=0, header=0, skiprows=4)"
   ]
  },
  {
   "cell_type": "code",
   "execution_count": 23,
   "metadata": {},
   "outputs": [],
   "source": [
    "XgYxWaterlevel = XgYxWaterlevel.drop('Unnamed: 1',axis=1)\n",
    "XgYxWaterlevel = XgYxWaterlevel.rename(columns={'Unnamed: 2':'一月','Unnamed: 3':'二月','Unnamed: 4':'三月','Unnamed: 5':'四月',\n",
    "                   'Unnamed: 6':'五月','Unnamed: 7':'六月','Unnamed: 8':'七月','Unnamed: 9':'八月',\n",
    "                   'Unnamed: 10':'九月','Unnamed: 11':'十月','Unnamed: 12':'十一月','Unnamed: 13':'十二月',})\n",
    "# XgYxWaterlevel.tail(10)"
   ]
  },
  {
   "cell_type": "code",
   "execution_count": 24,
   "metadata": {},
   "outputs": [],
   "source": [
    "XgYxWaterlevel = XgYxWaterlevel.head(31).astype('float64')"
   ]
  },
  {
   "cell_type": "code",
   "execution_count": 25,
   "metadata": {},
   "outputs": [],
   "source": [
    "XgYxWaterlevel = XgYxWaterlevel.fillna(0)\n",
    "XgYxWaterlevel = XgYxWaterlevel.round(2)\n",
    "# XgYxWaterlevel.head()"
   ]
  },
  {
   "cell_type": "code",
   "execution_count": 26,
   "metadata": {},
   "outputs": [],
   "source": [
    "XgYxWaterlevelJanuary = XgYxWaterlevel[\"一月\"].sum()\n",
    "XgYxWaterlevelFebruary = XgYxWaterlevel[\"二月\"].sum()\n",
    "XgYxWaterlevelMarch = XgYxWaterlevel[\"三月\"].sum()\n",
    "XgYxWaterlevelApril = XgYxWaterlevel[\"四月\"].sum()\n",
    "XgYxWaterlevelMay = XgYxWaterlevel[\"五月\"].sum()\n",
    "XgYxWaterlevelJune = XgYxWaterlevel[\"六月\"].sum()\n",
    "XgYxWaterlevelJuly = XgYxWaterlevel[\"七月\"].sum()\n",
    "XgYxWaterlevelAugust = XgYxWaterlevel[\"八月\"].sum()\n",
    "XgYxWaterlevelSeptember = XgYxWaterlevel[\"九月\"].sum()\n",
    "XgYxWaterlevelOctober = XgYxWaterlevel[\"十月\"].sum()\n",
    "XgYxWaterlevelNovember = XgYxWaterlevel[\"十一月\"].sum()\n",
    "XgYxWaterlevelDecember = XgYxWaterlevel[\"十二月\"].sum()"
   ]
  },
  {
   "cell_type": "code",
   "execution_count": 27,
   "metadata": {},
   "outputs": [],
   "source": [
    "XgYxWaterlevelmonths = [XgYxWaterlevelJanuary, XgYxWaterlevelFebruary, \n",
    "                      XgYxWaterlevelMarch, XgYxWaterlevelApril, XgYxWaterlevelMay, \n",
    "                      XgYxWaterlevelJune, XgYxWaterlevelJuly, XgYxWaterlevelAugust,\n",
    "                      XgYxWaterlevelSeptember, XgYxWaterlevelOctober,\n",
    "                      XgYxWaterlevelNovember, XgYxWaterlevelDecember]"
   ]
  },
  {
   "cell_type": "code",
   "execution_count": 28,
   "metadata": {},
   "outputs": [],
   "source": [
    "XgYxWaterlevelmonths = [e.round(2) for e in XgYxWaterlevelmonths]\n",
    "# XgYxWaterlevelmonths "
   ]
  },
  {
   "cell_type": "markdown",
   "metadata": {},
   "source": [
    "# 绘图grid_mutil_yaxis南仓河宜兴站"
   ]
  },
  {
   "cell_type": "markdown",
   "metadata": {},
   "source": [
    "## months"
   ]
  },
  {
   "cell_type": "code",
   "execution_count": 29,
   "metadata": {},
   "outputs": [
    {
     "data": {
      "text/plain": [
       "'C:\\\\Users\\\\workspace\\\\水文数据\\\\html\\\\南仓河 宜兴站降雨蒸发水位manths.html'"
      ]
     },
     "execution_count": 29,
     "metadata": {},
     "output_type": "execute_result"
    }
   ],
   "source": [
    "def grid_mutil_yaxis() -> Grid:\n",
    "    x_data = [\"{}月\".format(i) for i in range(1, 13)]\n",
    "    bar = (\n",
    "        Bar()\n",
    "        .add_xaxis(x_data)\n",
    "        .add_yaxis(\n",
    "            \"蒸发量\",\n",
    "            NcYxEvaporationmonths,\n",
    "            yaxis_index=0,\n",
    "            color=\"#d14a61\",\n",
    "        )\n",
    "        .add_yaxis(\n",
    "            \"降水量\",\n",
    "            NcYxRainfallmonths,\n",
    "            yaxis_index=1,\n",
    "            color=\"#5793f3\",\n",
    "        )\n",
    "        .extend_axis(\n",
    "            yaxis=opts.AxisOpts(\n",
    "                name=\"蒸发量\",\n",
    "                type_=\"value\",\n",
    "                min_=0,\n",
    "                max_=250,\n",
    "                position=\"right\",\n",
    "                axisline_opts=opts.AxisLineOpts(\n",
    "                    linestyle_opts=opts.LineStyleOpts(color=\"#d14a61\")\n",
    "                ),\n",
    "                axislabel_opts=opts.LabelOpts(formatter=\"{value} mm\"),\n",
    "            )\n",
    "        )\n",
    "        .extend_axis(\n",
    "            yaxis=opts.AxisOpts(\n",
    "                type_=\"value\",\n",
    "                name=\"水位\",\n",
    "                min_=min(XgYxWaterlevelmonths)-50,\n",
    "                max_=max(XgYxWaterlevelmonths)+50,\n",
    "                position=\"left\",\n",
    "                axisline_opts=opts.AxisLineOpts(\n",
    "                    linestyle_opts=opts.LineStyleOpts(color=\"#675bba\")\n",
    "                ),\n",
    "                axislabel_opts=opts.LabelOpts(formatter=\"{value} m\"),\n",
    "                splitline_opts=opts.SplitLineOpts(\n",
    "                    is_show=True, linestyle_opts=opts.LineStyleOpts(opacity=1)\n",
    "                ),\n",
    "            )\n",
    "        )\n",
    "        .set_global_opts(\n",
    "            yaxis_opts=opts.AxisOpts(\n",
    "                name=\"降水量\",\n",
    "                min_=0,\n",
    "                max_=250,\n",
    "                position=\"right\",\n",
    "                offset=80,\n",
    "                axisline_opts=opts.AxisLineOpts(\n",
    "                    linestyle_opts=opts.LineStyleOpts(color=\"#5793f3\")\n",
    "                ),\n",
    "                axislabel_opts=opts.LabelOpts(formatter=\"{value} mm\"),\n",
    "            ),\n",
    "            title_opts=opts.TitleOpts(title=\"南仓河宜兴站\"),\n",
    "            tooltip_opts=opts.TooltipOpts(trigger=\"axis\", axis_pointer_type=\"cross\"),\n",
    "        )\n",
    "    )\n",
    "\n",
    "    line = (\n",
    "        Line()\n",
    "        .add_xaxis(x_data)\n",
    "        .add_yaxis(\n",
    "            \"水位\",\n",
    "            XgYxWaterlevelmonths,\n",
    "            yaxis_index=2,\n",
    "            color=\"#675bba\",\n",
    "            label_opts=opts.LabelOpts(is_show=False),\n",
    "        )\n",
    "    )\n",
    "\n",
    "    bar.overlap(line)\n",
    "    return Grid().add(\n",
    "        bar, opts.GridOpts(pos_left=\"5%\", pos_right=\"20%\"), is_control_axis_index=True\n",
    "    )\n",
    "grid_mutil_yaxis().render(html + \"南仓河 宜兴站降雨蒸发水位manths.html\")"
   ]
  },
  {
   "cell_type": "markdown",
   "metadata": {},
   "source": [
    "## days"
   ]
  },
  {
   "cell_type": "code",
   "execution_count": 30,
   "metadata": {},
   "outputs": [],
   "source": [
    "df = pd.read_excel(\"./data/2017宜兴水文水质资料.xls\", sheet_name='降雨', index_col=0, header=0, skiprows=3)\n",
    "df = df.drop('Unnamed: 1',axis=1)\n",
    "df = df.rename(columns={'Unnamed: 2':'一月','Unnamed: 3':'二月','Unnamed: 4':'三月','Unnamed: 5':'四月',\n",
    "                   'Unnamed: 6':'五月','Unnamed: 7':'六月','Unnamed: 8':'七月','Unnamed: 9':'八月',\n",
    "                   'Unnamed: 10':'九月','Unnamed: 11':'十月','Unnamed: 12':'十一月','Unnamed: 13':'十二月',})\n",
    "# df.tail(10)"
   ]
  },
  {
   "cell_type": "code",
   "execution_count": 31,
   "metadata": {},
   "outputs": [],
   "source": [
    "df = df.head(31).astype('float64')"
   ]
  },
  {
   "cell_type": "code",
   "execution_count": 32,
   "metadata": {},
   "outputs": [],
   "source": [
    "# df"
   ]
  },
  {
   "cell_type": "code",
   "execution_count": 33,
   "metadata": {},
   "outputs": [],
   "source": [
    "df = df.fillna(0)\n",
    "df = df.round(2)\n",
    "# datafram格式的数据转换成列表list\n",
    "January = df[\"一月\"].tolist()\n",
    "February = df[\"二月\"].tolist()\n",
    "March = df[\"三月\"].tolist()\n",
    "April = df[\"四月\"].tolist()\n",
    "May = df[\"五月\"].tolist()\n",
    "June = df[\"六月\"].tolist()\n",
    "July = df[\"七月\"].tolist()\n",
    "August = df[\"八月\"].tolist()\n",
    "September = df[\"九月\"].tolist()\n",
    "October = df[\"十月\"].tolist()\n",
    "November = df[\"十一月\"].tolist()\n",
    "December = df[\"十二月\"].tolist()\n"
   ]
  },
  {
   "cell_type": "code",
   "execution_count": 34,
   "metadata": {},
   "outputs": [],
   "source": [
    "months = [January, February, \n",
    "                      March, April, May, \n",
    "                      June, July, August,\n",
    "                      September, October,\n",
    "                      November, December]\n",
    "# months = [e.round(2) for e in months]"
   ]
  },
  {
   "cell_type": "code",
   "execution_count": 35,
   "metadata": {
    "code_folding": []
   },
   "outputs": [
    {
     "data": {
      "text/plain": [
       "'C:\\\\Users\\\\workspace\\\\水文数据\\\\html\\\\南仓河每月降雨量monthsdays.html'"
      ]
     },
     "execution_count": 35,
     "metadata": {},
     "output_type": "execute_result"
    }
   ],
   "source": [
    "def timeline_bar() -> Timeline:\n",
    "#     x = Faker.choose()\n",
    "    tl = Timeline()\n",
    "    for i in range(1, 13):\n",
    "        bar = (\n",
    "            Bar()\n",
    "            .add_xaxis(days)\n",
    "            .add_yaxis(\"南仓河  宜兴站每日降雨量\", months[i-1])\n",
    "#             .add_yaxis(\"商家B\", Faker.values())\n",
    "#             .add_xaxis(days)\n",
    "            .set_global_opts(title_opts=opts.TitleOpts(\"南仓河  宜兴站{}月降雨\\n 单位：降雨量（mm）\".format(i)),\n",
    "                             xaxis_opts=opts.AxisOpts(axislabel_opts=opts.LabelOpts(rotate=360)),\n",
    "                             yaxis_opts=opts.AxisOpts(axislabel_opts=opts.LabelOpts(formatter=\"{value} mm\")),)\n",
    "        )\n",
    "        tl.add(bar, \"{}月\".format(i))\n",
    "    return tl\n",
    "timeline_bar().render(html + \"南仓河每月降雨量monthsdays.html\")"
   ]
  },
  {
   "cell_type": "raw",
   "metadata": {},
   "source": [
    "def line_markpoint_custom() -> Line:\n",
    "    x, y = Faker.choose(), Faker.values()\n",
    "    c = (\n",
    "        Line()\n",
    "        .add_xaxis(x)\n",
    "        .add_yaxis(\n",
    "            \"商家A\",\n",
    "            y,\n",
    "            markpoint_opts=opts.MarkPointOpts(\n",
    "                data=[opts.MarkPointItem(name=\"自定义标记点\", coord=[x[2], y[2]], value=y[2])]\n",
    "            ),\n",
    "        )\n",
    "        .set_global_opts(title_opts=opts.TitleOpts(title=\"Line-MarkPoint（自定义）\"))\n",
    "    )\n",
    "    \n",
    "    return c\n",
    "line_markpoint_custom().render(\"line_markpoint_custom.html\")"
   ]
  },
  {
   "cell_type": "markdown",
   "metadata": {},
   "source": [
    "# 城区5条河流量"
   ]
  },
  {
   "cell_type": "markdown",
   "metadata": {},
   "source": [
    "## 南仓河  宜兴(南)站逐日平均流量表"
   ]
  },
  {
   "cell_type": "code",
   "execution_count": 36,
   "metadata": {},
   "outputs": [],
   "source": [
    "df = pd.read_excel(\"./data/2017宜兴水文水质资料.xls\", sheet_name='城区5条河流量', index_col=0, header=0, skiprows=3)\n",
    "df = df.drop('Unnamed: 1',axis=1)\n",
    "df = df.rename(columns={'Unnamed: 2':'一月','Unnamed: 3':'二月','Unnamed: 4':'三月','Unnamed: 5':'四月',\n",
    "                   'Unnamed: 6':'五月','Unnamed: 7':'六月','Unnamed: 8':'七月','Unnamed: 9':'八月',\n",
    "                   'Unnamed: 10':'九月','Unnamed: 11':'十月','Unnamed: 12':'十一月','Unnamed: 13':'十二月',})\n",
    "# df.tail(10)"
   ]
  },
  {
   "cell_type": "markdown",
   "metadata": {},
   "source": [
    "excel中的部分数据格式9.63N，被空格替换掉了"
   ]
  },
  {
   "cell_type": "code",
   "execution_count": 37,
   "metadata": {},
   "outputs": [],
   "source": [
    "df = df.head(31).astype('float64')\n",
    "\n",
    "SumJanuary = df[\"一月\"].sum().round(2)\n",
    "SumFebruary = df[\"二月\"].sum().round(2)\n",
    "SumMarch = df[\"三月\"].sum().round(2)\n",
    "SumApril = df[\"四月\"].sum().round(2)\n",
    "SumMay = df[\"五月\"].sum().round(2)\n",
    "SumJune = df[\"六月\"].sum().round(2)\n",
    "SumJuly = df[\"七月\"].sum().round(2)\n",
    "SumAugust = df[\"八月\"].sum().round(2)\n",
    "SumSeptember = df[\"九月\"].sum().round(2)\n",
    "SumOctober = df[\"十月\"].sum().round(2)\n",
    "SumNovember = df[\"十一月\"].sum().round(2)\n",
    "SumDecember = df[\"十二月\"].sum().round(2)\n",
    "\n",
    "SumMonths = [SumJanuary, SumFebruary, \n",
    "                      SumMarch, SumApril, SumMay, \n",
    "                      SumJune, SumJuly, SumAugust,\n",
    "                      SumSeptember, SumOctober,\n",
    "                      SumNovember, SumDecember]\n",
    "# SumMonths"
   ]
  },
  {
   "cell_type": "code",
   "execution_count": 38,
   "metadata": {},
   "outputs": [],
   "source": [
    "df = df.fillna(0)\n",
    "df = df.round(2)\n",
    "\n",
    "January = df[\"一月\"].tolist()\n",
    "February = df[\"二月\"].tolist()\n",
    "March = df[\"三月\"].tolist()\n",
    "April = df[\"四月\"].tolist()\n",
    "May = df[\"五月\"].tolist()\n",
    "June = df[\"六月\"].tolist()\n",
    "July = df[\"七月\"].tolist()\n",
    "August = df[\"八月\"].tolist()\n",
    "September = df[\"九月\"].tolist()\n",
    "October = df[\"十月\"].tolist()\n",
    "November = df[\"十一月\"].tolist()\n",
    "December = df[\"十二月\"].tolist()\n",
    "\n",
    "months = [January, February, \n",
    "                      March, April, May, \n",
    "                      June, July, August,\n",
    "                      September, October,\n",
    "                      November, December]\n",
    "# months = [e.round(2) for e in months]"
   ]
  },
  {
   "cell_type": "markdown",
   "metadata": {},
   "source": [
    "## 绘图"
   ]
  },
  {
   "cell_type": "code",
   "execution_count": 39,
   "metadata": {
    "scrolled": true
   },
   "outputs": [
    {
     "data": {
      "text/plain": [
       "'C:\\\\Users\\\\workspace\\\\水文数据\\\\html\\\\南仓河 宜兴站每月平均流量months.html'"
      ]
     },
     "execution_count": 39,
     "metadata": {},
     "output_type": "execute_result"
    }
   ],
   "source": [
    "def NCRbar_base() -> Bar:\n",
    "    c = (\n",
    "        Bar()\n",
    "        .add_xaxis(XMonths)\n",
    "        .add_yaxis(\"月平均流量\", SumMonths)\n",
    "#         .add_yaxis(\"商家B\", Faker.values())\n",
    "        .set_global_opts(title_opts=opts.TitleOpts(title=\"南仓河  宜兴(南)站\\t 单位：月平均流量（m³/s）\", subtitle=\"每月平均流量\"))\n",
    "    )\n",
    "    return c\n",
    "NCRbar_base().render(html + \"南仓河 宜兴站每月平均流量months.html\")"
   ]
  },
  {
   "cell_type": "code",
   "execution_count": 40,
   "metadata": {},
   "outputs": [
    {
     "data": {
      "text/plain": [
       "'C:\\\\Users\\\\workspace\\\\水文数据\\\\html\\\\南仓河 宜兴站每月每日平均流量manthsdays.html'"
      ]
     },
     "execution_count": 40,
     "metadata": {},
     "output_type": "execute_result"
    }
   ],
   "source": [
    "def NCRtimeline_bar() -> Timeline:\n",
    "#     x = Faker.choose()\n",
    "    tl = Timeline()\n",
    "    for i in range(1, 13):\n",
    "        bar = (\n",
    "            Bar()\n",
    "            .add_xaxis(days)\n",
    "            .add_yaxis(\"日平均流量\", months[i-1])\n",
    "#             .add_yaxis(\"商家B\", Faker.values())\n",
    "#             .add_xaxis(x)\n",
    "            .set_global_opts(title_opts=opts.TitleOpts(\"南仓河  宜兴(南)站{}月逐日平均流量\\n 单位：日平均流量（m³/s）\".format(i)),\n",
    "                             xaxis_opts=opts.AxisOpts(axislabel_opts=opts.LabelOpts(rotate=360)),\n",
    "                             yaxis_opts=opts.AxisOpts(axislabel_opts=opts.LabelOpts(formatter=\"{value} mm\")),)\n",
    "        )\n",
    "        tl.add(bar, \"{}月\".format(i))\n",
    "    return tl\n",
    "NCRtimeline_bar().render(html + \"南仓河 宜兴站每月每日平均流量manthsdays.html\")"
   ]
  },
  {
   "cell_type": "markdown",
   "metadata": {},
   "source": [
    "# 6个基点站流量"
   ]
  },
  {
   "cell_type": "markdown",
   "metadata": {},
   "source": [
    "1. excel原始字段格式为\"一\\n月\"，我改为了\"一月\"\n",
    "2. excel中有的字段读取进来不是NaN也没有数字，不能讲str转换为float，手动在excel将空白处添加数字0，问题解决"
   ]
  },
  {
   "cell_type": "code",
   "execution_count": 41,
   "metadata": {},
   "outputs": [],
   "source": [
    "df = pd.read_excel(\"./data/2017宜兴水文水质资料.xls\", sheet_name='6个基点站流量', index_col=0, header=0, skiprows=2)\n",
    "\n",
    "df = df.drop('Unnamed: 1',axis=1)\n",
    "\n",
    "df = df.rename(columns={'Unnamed: 2':'一月','Unnamed: 3':'二月','Unnamed: 4':'三月','Unnamed: 5':'四月',\n",
    "                   'Unnamed: 6':'五月','Unnamed: 7':'六月','Unnamed: 8':'七月','Unnamed: 9':'八月',\n",
    "                   'Unnamed: 10':'九月','Unnamed: 11':'十月','Unnamed: 12':'十一月','Unnamed: 13':'十二月',})\n",
    "# df.tail(10)\n",
    "df.head()\n",
    "\n",
    "# for e in XMonths:\n",
    "#     df[e] = df[e][:30].astype('float64')\n",
    "\n",
    "df = df.fillna(0)\n",
    "\n",
    "df = df.head(31).astype('float64')\n",
    "# df.head(2)"
   ]
  },
  {
   "cell_type": "code",
   "execution_count": 42,
   "metadata": {},
   "outputs": [],
   "source": [
    "SumJanuary = df[\"一月\"].sum().round(2)\n",
    "SumFebruary = df[\"二月\"].sum().round(2)\n",
    "SumMarch = df[\"三月\"].sum().round(2)\n",
    "SumApril = df[\"四月\"].sum().round(2)\n",
    "SumMay = df[\"五月\"].sum().round(2)\n",
    "SumJune = df[\"六月\"].sum().round(2)\n",
    "SumJuly = df[\"七月\"].sum().round(2)\n",
    "SumAugust = df[\"八月\"].sum().round(2)\n",
    "SumSeptember = df[\"九月\"].sum().round(2)\n",
    "SumOctober = df[\"十月\"].sum().round(2)\n",
    "SumNovember = df[\"十一月\"].sum().round(2)\n",
    "SumDecember = df[\"十二月\"].sum().round(2)\n",
    "\n",
    "SumMonths = [SumJanuary, SumFebruary, \n",
    "                      SumMarch, SumApril, SumMay, \n",
    "                      SumJune, SumJuly, SumAugust,\n",
    "                      SumSeptember, SumOctober,\n",
    "                      SumNovember, SumDecember]\n",
    "# SumMonths"
   ]
  },
  {
   "cell_type": "code",
   "execution_count": 43,
   "metadata": {},
   "outputs": [],
   "source": [
    "January = df[\"一月\"].tolist()\n",
    "February = df[\"二月\"].tolist()\n",
    "March = df[\"三月\"].tolist()\n",
    "April = df[\"四月\"].tolist()\n",
    "May = df[\"五月\"].tolist()\n",
    "June = df[\"六月\"].tolist()\n",
    "July = df[\"七月\"].tolist()\n",
    "August = df[\"八月\"].tolist()\n",
    "September = df[\"九月\"].tolist()\n",
    "October = df[\"十月\"].tolist()\n",
    "November = df[\"十一月\"].tolist()\n",
    "December = df[\"十二月\"].tolist()\n",
    "\n",
    "months = [January, February, \n",
    "                      March, April, May, \n",
    "                      June, July, August,\n",
    "                      September, October,\n",
    "                      November, December]\n",
    "# months = [e.round(2) for e in months]"
   ]
  },
  {
   "cell_type": "markdown",
   "metadata": {},
   "source": [
    "## 城东港 城东港桥站逐日平均流量表"
   ]
  },
  {
   "cell_type": "markdown",
   "metadata": {},
   "source": [
    "## 绘图"
   ]
  },
  {
   "cell_type": "code",
   "execution_count": 44,
   "metadata": {},
   "outputs": [
    {
     "data": {
      "text/plain": [
       "'C:\\\\Users\\\\workspace\\\\水文数据\\\\html\\\\城东港 城东港桥站月平均流量months.html'"
      ]
     },
     "execution_count": 44,
     "metadata": {},
     "output_type": "execute_result"
    }
   ],
   "source": [
    "def CDGbar_base() -> Bar:\n",
    "    c = (\n",
    "        Bar()\n",
    "        .add_xaxis(XMonths)\n",
    "        .add_yaxis(\"城东港桥月平均流量\", SumMonths)\n",
    "#         .add_yaxis(\"商家B\", Faker.values())\n",
    "        .set_global_opts(title_opts=opts.TitleOpts(title=\"城东港 城东港桥站\\n 单位：月平均流量（m³/s）\", ))# subtitle=\"每月平均流量\"\n",
    "    )\n",
    "    return c\n",
    "CDGbar_base().render(html + \"城东港 城东港桥站月平均流量months.html\")"
   ]
  },
  {
   "cell_type": "code",
   "execution_count": 45,
   "metadata": {},
   "outputs": [
    {
     "data": {
      "text/plain": [
       "'C:\\\\Users\\\\workspace\\\\水文数据\\\\html\\\\城东港桥每月每日平均流量monthsdays.html'"
      ]
     },
     "execution_count": 45,
     "metadata": {},
     "output_type": "execute_result"
    }
   ],
   "source": [
    "def CDGtimeline_bar() -> Timeline:\n",
    "#     x = Faker.choose()\n",
    "    tl = Timeline()\n",
    "    for i in range(1, 13):\n",
    "        bar = (\n",
    "            Bar()\n",
    "            .add_xaxis(days)\n",
    "            .add_yaxis(\"城东港桥{}月的日平均流量\".format(i), months[i-1])\n",
    "#             .add_yaxis(\"商家B\", Faker.values())\n",
    "#             .add_xaxis(x)\n",
    "            .set_global_opts(title_opts=opts.TitleOpts(title=\"城东港桥站{}月逐日平均流量\\n 日平均流量（m³/s）\".format(i)),\n",
    "                             xaxis_opts=opts.AxisOpts(axislabel_opts=opts.LabelOpts(rotate=360)),\n",
    "                             yaxis_opts=opts.AxisOpts(axislabel_opts=opts.LabelOpts(formatter=\"{value} mm\")),)\n",
    "        )\n",
    "        tl.add(bar, \"{}月\".format(i))\n",
    "    return tl\n",
    "CDGtimeline_bar().render(html + \"城东港桥每月每日平均流量monthsdays.html\")"
   ]
  },
  {
   "cell_type": "markdown",
   "metadata": {},
   "source": [
    "# 入境53个断面流量"
   ]
  },
  {
   "cell_type": "markdown",
   "metadata": {},
   "source": [
    "## 2017年  钟溪大桥站流量与钟溪大桥巡测段总流量关系表(1)"
   ]
  },
  {
   "cell_type": "code",
   "execution_count": 46,
   "metadata": {},
   "outputs": [
    {
     "data": {
      "text/plain": [
       "'C:\\\\Users\\\\workspace\\\\水文数据\\\\html\\\\钟溪大桥入境heatmap.html'"
      ]
     },
     "execution_count": 46,
     "metadata": {},
     "output_type": "execute_result"
    }
   ],
   "source": [
    "def ZXDQinHeatmap_with_label_show() -> HeatMap:\n",
    "    df = pd.read_excel(\"./data/2017宜兴水文水质资料.xls\", sheet_name='入境53个断面流量', index_col=0, header=0, skiprows=5)\n",
    "\n",
    "    # df.head(2)\n",
    "\n",
    "    # 测试次数 行记录\n",
    "    ZXDQintestingFrequency = 17\n",
    "    # df.columns\n",
    "\n",
    "    df  = df[0:ZXDQintestingFrequency][['Unnamed: 1', 'Unnamed: 2', '起', '迄', '分水大桥','楼村桥','西仓桥', '钟溪大桥',\"Unnamed: 9\"]]\n",
    "    # df.head(2)\n",
    "    # df\n",
    "\n",
    "    # df = df.drop('Unnamed: 1',axis=1)\n",
    "\n",
    "    df = df.rename(columns={'Unnamed: 1':'月','Unnamed: 2':'日',\"Unnamed: 9\":\"巡测段总流量\"})\n",
    "    # df.tail(10)\n",
    "    # df.head()\n",
    "\n",
    "    # 巡测段总流量 字段的数据文本转换为float 精度2\n",
    "    df[\"巡测段总流量\"] = df[\"巡测段总流量\"][:ZXDQintestingFrequency].astype('float64').round(precision)\n",
    "\n",
    "    df = df.fillna(0)\n",
    "    # NaN前向填充，excel中的空数据0 ffill无效\n",
    "    # df = df.fillna(method='ffill')\n",
    "    # df = df.head(17).astype('float64')\n",
    "    # df.head(2)\n",
    "\n",
    "    df = df[['分水大桥','楼村桥','西仓桥', '钟溪大桥',\"巡测段总流量\"]]\n",
    "    dfColumns = list(df.columns)\n",
    "    # dfColumns\n",
    "\n",
    "    # df.head(2)\n",
    "    # df\n",
    "\n",
    "    # 字段名称转换为列表 方便画图for循环调用每一个数据\n",
    "    df.columns = list(range(len(df.columns)))\n",
    "    # df.head(2)\n",
    "\n",
    "    # df[1:4][1]\n",
    "\n",
    "    # 定义y轴标签\n",
    "    ZXDQintestingFrequencyStr = [str(i) for i in range(1,ZXDQintestingFrequency+1)]\n",
    "\n",
    "    # [[j, i, df[j][i]] for j in range(5) for i in range(1,testingFrequency)]\n",
    "    \n",
    "    #后面从excel读取的数据都存储到df，但是由于在page和tab中调用添加图例的函数，这些具有相同名称的df会有冲突\n",
    "    #所以把读取文件，处理数据的部分都放入到画图的函数中避免这样的冲突\n",
    "    ####################################################\n",
    "    \n",
    "    value = [[j, i, df[j][i]] for j in range(5) for i in range(1,ZXDQintestingFrequency) ]\n",
    "    \n",
    "    c = (\n",
    "        HeatMap()\n",
    "        .add_xaxis(dfColumns)\n",
    "        .add_yaxis(\"\", ZXDQintestingFrequencyStr , value,\n",
    "                   label_opts=opts.LabelOpts(is_show=True, position=\"inside\"))\n",
    "        .set_global_opts(\n",
    "            title_opts=opts.TitleOpts(title=\"钟溪大桥站入境流量与钟溪大桥巡测段总流量（m³/s）\"),\n",
    "            visualmap_opts=opts.VisualMapOpts(),\n",
    "        )\n",
    "    )\n",
    "    return c\n",
    "# heatmap_with_label_show().render(\"钟溪大桥heatmap_with_label_show.html\")\n",
    "ZXDQinHeatmap_with_label_show().render(html + \"钟溪大桥入境heatmap.html\")"
   ]
  },
  {
   "cell_type": "markdown",
   "metadata": {},
   "source": [
    "# 出境24个断面流量"
   ]
  },
  {
   "cell_type": "markdown",
   "metadata": {},
   "source": [
    "## 2017年   浯溪桥站与巡测段流量关系表"
   ]
  },
  {
   "cell_type": "code",
   "execution_count": 47,
   "metadata": {},
   "outputs": [
    {
     "data": {
      "text/plain": [
       "'C:\\\\Users\\\\workspace\\\\水文数据\\\\html\\\\钟溪大桥出境断面流量heatmap.html'"
      ]
     },
     "execution_count": 47,
     "metadata": {},
     "output_type": "execute_result"
    }
   ],
   "source": [
    "def ZXDQoutHeatmap_with_label_show() -> HeatMap:\n",
    "    df = pd.read_excel(\"./data/2017宜兴水文水质资料.xls\", sheet_name='出境24个断面流量', index_col=0, header=0, skiprows=4)\n",
    "    # df.head(2)\n",
    "\n",
    "    # 查看字段名\n",
    "    # df.columns\n",
    "\n",
    "    ZXDQouttestingFrequency = 21\n",
    "\n",
    "    df  = df[0:ZXDQouttestingFrequency][['Unnamed: 1', 'Unnamed: 2', '起', '迄',\n",
    "                                    '分水桥','青店里桥','周铁桥', '棉堤桥',\n",
    "                                    \"沙塘港桥\", \"葛渎桥\", \"师渎桥\", \"浯溪桥\", \"Unnamed: 14\" ]]\n",
    "    # df.head(2)\n",
    "\n",
    "    # df = df.drop('Unnamed: 1',axis=1)\n",
    "\n",
    "    df = df.rename(columns={'Unnamed: 1':'月','Unnamed: 2':'日',\"Unnamed: 14\":\"巡测段总流量\"})\n",
    "    # 重置行索引，因为原行索引不连续\n",
    "    df.index = range(len(df.index))\n",
    "\n",
    "    # df.tail(10)\n",
    "    # 读取需要的数据 前testingFrequency行\n",
    "    df = df.head(ZXDQouttestingFrequency)\n",
    "    # df\n",
    "\n",
    "    df = df[[ '分水桥','青店里桥','周铁桥', '棉堤桥',\n",
    "            \"沙塘港桥\", \"葛渎桥\", \"师渎桥\", \"浯溪桥\", \"巡测段总流量\" ]].astype('float64').round(precision)\n",
    "    ZXDQoutdfColumns = list(df.columns)\n",
    "    ZXDQoutdfColumns\n",
    "\n",
    "    # 字段名称转换为列表 方便画图for循环调用每一个数据\n",
    "    df.columns = list(range(len(df.columns)))\n",
    "    # df\n",
    "\n",
    "    # 定义y轴标签\n",
    "    ZXDQouttestingFrequencyStr = [str(i) for i in range(1,ZXDQouttestingFrequency+1)]\n",
    "    #后面从excel读取的数据都存储到df，但是由于在page和tab中调用添加图例的函数，这些具有相同名称的df会有冲突\n",
    "    #所以把读取文件，处理数据的部分都放入到画图的函数中避免这样的冲突\n",
    "    ####################################################\n",
    "    value = [[j, i, df[j][i]] for j in range(9) for i in range(1,ZXDQouttestingFrequency) ]\n",
    "    \n",
    "    c = (\n",
    "        HeatMap()\n",
    "        .add_xaxis(ZXDQoutdfColumns)\n",
    "        .add_yaxis(\"\", ZXDQouttestingFrequencyStr , value,\n",
    "                   label_opts=opts.LabelOpts(is_show=True, position=\"inside\"))\n",
    "        .set_global_opts(\n",
    "            title_opts=opts.TitleOpts(title=\"钟溪大桥站出境流量与钟溪大桥巡测段总流量（m³/s）\"),\n",
    "            xaxis_opts=opts.AxisOpts(axislabel_opts=opts.LabelOpts(rotate=-45)),\n",
    "            visualmap_opts=opts.VisualMapOpts(),\n",
    "        )\n",
    "    )\n",
    "    return c \n",
    "# heatmap_with_label_show().render(\"钟溪大桥heatmap_with_label_show.html\")\n",
    "ZXDQoutHeatmap_with_label_show().render(html + \"钟溪大桥出境断面流量heatmap.html\")"
   ]
  },
  {
   "cell_type": "code",
   "execution_count": 48,
   "metadata": {},
   "outputs": [],
   "source": [
    "# [[j, i, df[j][i]] for j in range(5) for i in range(1,4+1)]"
   ]
  },
  {
   "cell_type": "raw",
   "metadata": {},
   "source": [
    "ZXDQoutdfColumns"
   ]
  },
  {
   "cell_type": "markdown",
   "metadata": {},
   "source": [
    "# 入境53个断面水质"
   ]
  },
  {
   "cell_type": "markdown",
   "metadata": {},
   "source": [
    "罗马数字1-10的写法是：Ⅰ   Ⅱ   Ⅲ    Ⅳ    Ⅴ    Ⅵ    Ⅶ    Ⅷ    Ⅸ    Ⅹ"
   ]
  },
  {
   "cell_type": "code",
   "execution_count": 49,
   "metadata": {},
   "outputs": [
    {
     "data": {
      "text/html": [
       "<div>\n",
       "<style scoped>\n",
       "    .dataframe tbody tr th:only-of-type {\n",
       "        vertical-align: middle;\n",
       "    }\n",
       "\n",
       "    .dataframe tbody tr th {\n",
       "        vertical-align: top;\n",
       "    }\n",
       "\n",
       "    .dataframe thead th {\n",
       "        text-align: right;\n",
       "    }\n",
       "</style>\n",
       "<table border=\"1\" class=\"dataframe\">\n",
       "  <thead>\n",
       "    <tr style=\"text-align: right;\">\n",
       "      <th></th>\n",
       "      <th>样品名称</th>\n",
       "      <th>采样日期</th>\n",
       "      <th>水温</th>\n",
       "      <th>PH</th>\n",
       "      <th>溶解氧（mg/L）</th>\n",
       "      <th>高锰酸盐指数（mg/L）</th>\n",
       "      <th>化学需氧量（mg/L）</th>\n",
       "      <th>总磷（mg/L)</th>\n",
       "      <th>氨氮(mg/L)</th>\n",
       "      <th>总氮(mg/L)</th>\n",
       "    </tr>\n",
       "    <tr>\n",
       "      <th>河名</th>\n",
       "      <th></th>\n",
       "      <th></th>\n",
       "      <th></th>\n",
       "      <th></th>\n",
       "      <th></th>\n",
       "      <th></th>\n",
       "      <th></th>\n",
       "      <th></th>\n",
       "      <th></th>\n",
       "      <th></th>\n",
       "    </tr>\n",
       "  </thead>\n",
       "  <tbody>\n",
       "    <tr>\n",
       "      <th>太滆运河</th>\n",
       "      <td>分水大桥</td>\n",
       "      <td>2017-01-16</td>\n",
       "      <td>8.7</td>\n",
       "      <td>7.55</td>\n",
       "      <td>6.29</td>\n",
       "      <td>3.5</td>\n",
       "      <td>19.6</td>\n",
       "      <td>0.280</td>\n",
       "      <td>4.86</td>\n",
       "      <td>5.50</td>\n",
       "    </tr>\n",
       "    <tr>\n",
       "      <th>小桥浜河</th>\n",
       "      <td>西仓桥</td>\n",
       "      <td>2017-01-16</td>\n",
       "      <td>7.9</td>\n",
       "      <td>7.64</td>\n",
       "      <td>6.30</td>\n",
       "      <td>3.7</td>\n",
       "      <td>18.2</td>\n",
       "      <td>0.289</td>\n",
       "      <td>4.15</td>\n",
       "      <td>5.14</td>\n",
       "    </tr>\n",
       "    <tr>\n",
       "      <th>武宜运河</th>\n",
       "      <td>钟溪大桥</td>\n",
       "      <td>2017-01-16</td>\n",
       "      <td>8.4</td>\n",
       "      <td>7.76</td>\n",
       "      <td>7.32</td>\n",
       "      <td>4.3</td>\n",
       "      <td>24.2</td>\n",
       "      <td>0.356</td>\n",
       "      <td>3.71</td>\n",
       "      <td>4.32</td>\n",
       "    </tr>\n",
       "    <tr>\n",
       "      <th>漕桥河</th>\n",
       "      <td>聚龙新桥</td>\n",
       "      <td>2017-01-16</td>\n",
       "      <td>7.1</td>\n",
       "      <td>7.84</td>\n",
       "      <td>10.06</td>\n",
       "      <td>4.0</td>\n",
       "      <td>22.4</td>\n",
       "      <td>0.151</td>\n",
       "      <td>1.30</td>\n",
       "      <td>2.42</td>\n",
       "    </tr>\n",
       "    <tr>\n",
       "      <th>殷村港</th>\n",
       "      <td>王母桥</td>\n",
       "      <td>2017-01-16</td>\n",
       "      <td>6.2</td>\n",
       "      <td>7.82</td>\n",
       "      <td>10.58</td>\n",
       "      <td>3.5</td>\n",
       "      <td>29.4</td>\n",
       "      <td>0.155</td>\n",
       "      <td>1.39</td>\n",
       "      <td>2.91</td>\n",
       "    </tr>\n",
       "  </tbody>\n",
       "</table>\n",
       "</div>"
      ],
      "text/plain": [
       "      样品名称       采样日期   水温    PH  溶解氧（mg/L）  高锰酸盐指数（mg/L）  化学需氧量（mg/L）  \\\n",
       "河名                                                                       \n",
       "太滆运河  分水大桥 2017-01-16  8.7  7.55       6.29           3.5         19.6   \n",
       "小桥浜河   西仓桥 2017-01-16  7.9  7.64       6.30           3.7         18.2   \n",
       "武宜运河  钟溪大桥 2017-01-16  8.4  7.76       7.32           4.3         24.2   \n",
       "漕桥河   聚龙新桥 2017-01-16  7.1  7.84      10.06           4.0         22.4   \n",
       "殷村港    王母桥 2017-01-16  6.2  7.82      10.58           3.5         29.4   \n",
       "\n",
       "      总磷（mg/L)  氨氮(mg/L)  总氮(mg/L)  \n",
       "河名                                  \n",
       "太滆运河     0.280      4.86      5.50  \n",
       "小桥浜河     0.289      4.15      5.14  \n",
       "武宜运河     0.356      3.71      4.32  \n",
       "漕桥河      0.151      1.30      2.42  \n",
       "殷村港      0.155      1.39      2.91  "
      ]
     },
     "execution_count": 49,
     "metadata": {},
     "output_type": "execute_result"
    }
   ],
   "source": [
    "df = pd.read_excel(\"./data/2017宜兴水文水质资料.xls\", sheet_name='入境53个断面水质', index_col=0, header=0, skiprows=0)\n",
    "df.head()"
   ]
  },
  {
   "cell_type": "code",
   "execution_count": 50,
   "metadata": {},
   "outputs": [],
   "source": [
    "df = df.rename(columns={\"溶解氧（mg/L）\":\"溶解氧\",\"高锰酸盐指数（mg/L）\":\"高锰酸盐指数\",\n",
    "                 \"化学需氧量（mg/L）\":\"化学需氧量\",\"总磷（mg/L)\":\"总磷\",\n",
    "                \"氨氮(mg/L)\":\"氨氮\",\"总氮(mg/L)\":\"总氮\"})\n",
    "# df.head()"
   ]
  },
  {
   "cell_type": "code",
   "execution_count": 51,
   "metadata": {},
   "outputs": [
    {
     "data": {
      "text/plain": [
       "Index(['样品名称', '采样日期', '水温', 'PH', '溶解氧', '高锰酸盐指数', '化学需氧量', '总磷', '氨氮', '总氮'], dtype='object')"
      ]
     },
     "execution_count": 51,
     "metadata": {},
     "output_type": "execute_result"
    }
   ],
   "source": [
    "# 少一个    化学需氧量（mg/L），原因是 化学需氧量（mg/L） 中存在非数字的字符”<“\n",
    "df.columns"
   ]
  },
  {
   "cell_type": "code",
   "execution_count": 52,
   "metadata": {
    "scrolled": true
   },
   "outputs": [],
   "source": [
    "# df = df.groupby([\"样品名称\",\"采样日期\"]).mean()\n",
    "# df"
   ]
  },
  {
   "cell_type": "code",
   "execution_count": 53,
   "metadata": {},
   "outputs": [],
   "source": [
    "# dfYPMC = df[df[\"样品名称\"]==\"分水大桥\"]\n",
    "# dfYPMC.head()"
   ]
  },
  {
   "cell_type": "code",
   "execution_count": 54,
   "metadata": {},
   "outputs": [],
   "source": [
    "df = df.groupby([\"样品名称\"]).mean()\n",
    "# df.head()"
   ]
  },
  {
   "cell_type": "code",
   "execution_count": 55,
   "metadata": {},
   "outputs": [],
   "source": [
    "dfIndex = df.index.tolist()\n",
    "# dfIndex"
   ]
  },
  {
   "cell_type": "code",
   "execution_count": 56,
   "metadata": {},
   "outputs": [
    {
     "data": {
      "text/plain": [
       "['水温', 'PH', '溶解氧', '高锰酸盐指数', '化学需氧量', '总磷', '氨氮', '总氮']"
      ]
     },
     "execution_count": 56,
     "metadata": {},
     "output_type": "execute_result"
    }
   ],
   "source": [
    "dfColumns = df.columns.tolist()\n",
    "dfColumns"
   ]
  },
  {
   "cell_type": "code",
   "execution_count": 57,
   "metadata": {},
   "outputs": [],
   "source": [
    "lineColor = [\"lightblue\",\"orange\",\"brown\",\"green\",\"blue\",\"indigo\",\"purple\",\"cyan\"]\n",
    "unit = [\"°C\",\" \",\"mg/L\",\"mg/L\",\"mg/L\",\"mg/L\",\"mg/L\",\"mg/L\",\"mg/L\"]"
   ]
  },
  {
   "cell_type": "code",
   "execution_count": 58,
   "metadata": {
    "code_folding": []
   },
   "outputs": [],
   "source": [
    "# len(unit),len(dfColumns)"
   ]
  },
  {
   "cell_type": "markdown",
   "metadata": {},
   "source": [
    "### 水温"
   ]
  },
  {
   "cell_type": "code",
   "execution_count": 59,
   "metadata": {
    "code_folding": [
     0
    ]
   },
   "outputs": [
    {
     "data": {
      "text/plain": [
       "'C:\\\\Users\\\\workspace\\\\水文数据\\\\html\\\\入境53个断面水质-水温.html'"
      ]
     },
     "execution_count": 59,
     "metadata": {},
     "output_type": "execute_result"
    }
   ],
   "source": [
    "def WaterTemperatureOverlap_line_scatter() -> Bar:\n",
    "    i = 0\n",
    "    bar = (\n",
    "    Bar(init_opts=opts.InitOpts( width=\"1800px\", height=\"800px\",bg_color=\"white\",))\n",
    "    .add_xaxis(dfIndex,)\n",
    "    .add_yaxis(\"{}\".format(dfColumns[i]), \n",
    "               df[dfColumns[i]].round(precision).tolist(),\n",
    "               category_gap=\"60%\",gap=\"0\",color=lineColor[i],\n",
    "               )\n",
    "    .extend_axis(\n",
    "            yaxis=opts.AxisOpts(\n",
    "                type_=\"\", # \"value\"\n",
    "                name=\"\", # dfColumns[i]\n",
    "\n",
    "                position=\"right\",\n",
    "                axisline_opts=opts.AxisLineOpts(\n",
    "                    linestyle_opts=opts.LineStyleOpts(color=\"white\") # 右侧y轴颜色\n",
    "                ),\n",
    "                axislabel_opts=opts.LabelOpts(formatter=\"{value} \"+ unit[i]),\n",
    "                splitline_opts=opts.SplitLineOpts(\n",
    "                    is_show=True, linestyle_opts=opts.LineStyleOpts(opacity=1)\n",
    "                ),\n",
    "            )\n",
    "        )\n",
    "    .set_global_opts(title_opts=opts.TitleOpts(\"入境断面水质  {}\\n 单位：（{}）\".format(dfColumns[i], unit[i])),\n",
    "                     xaxis_opts=opts.AxisOpts(axislabel_opts=opts.LabelOpts(interval=0,rotate=-60,font_size=12,),splitline_opts=opts.SplitLineOpts(is_show=False)),\n",
    "                     yaxis_opts=opts.AxisOpts(axislabel_opts=opts.LabelOpts(formatter=\"{value}\"+ unit[i]),splitline_opts=opts.SplitLineOpts(is_show=False)),\n",
    "#                      toolbox_opts=opts.ToolboxOpts(is_show=True),\n",
    "#                      brush_opts=opts.BrushOpts(),\n",
    "                     datazoom_opts=opts.DataZoomOpts(orient=\"horizontal\",pos_bottom=\"10%\",\n",
    "                                                     range_start = 0,\n",
    "                                                     range_end = 1000),\n",
    "                    )\n",
    "    .set_series_opts(\n",
    "         label_opts= opts.LabelOpts(is_show=True, position = \"top\", rotate = 0, font_size = 10,interval=0),)\n",
    "    )\n",
    "    line = (\n",
    "        Line()\n",
    "        .add_xaxis(dfIndex)\n",
    "        .add_yaxis(\n",
    "            dfColumns[i],\n",
    "            df[dfColumns[i]].round(precision).tolist(),\n",
    "    #                 yaxis_index=1,\n",
    "    #                 color=\"red\", # lineColor[i]\n",
    "            linestyle_opts=opts.LineStyleOpts(type_=\"dash\",width=2,color=\"white\"),\n",
    "            label_opts=opts.LabelOpts(is_show=False),\n",
    "                )\n",
    "            )\n",
    "    bar.overlap(line)\n",
    "    return bar\n",
    "WaterTemperatureOverlap_line_scatter().render(html + \"入境53个断面水质-水温.html\")"
   ]
  },
  {
   "cell_type": "markdown",
   "metadata": {},
   "source": [
    "### PH"
   ]
  },
  {
   "cell_type": "code",
   "execution_count": 60,
   "metadata": {
    "code_folding": [
     0
    ]
   },
   "outputs": [
    {
     "data": {
      "text/plain": [
       "'C:\\\\Users\\\\workspace\\\\水文数据\\\\html\\\\入境53个断面水质-PH.html'"
      ]
     },
     "execution_count": 60,
     "metadata": {},
     "output_type": "execute_result"
    }
   ],
   "source": [
    "def PHOverlap_line_scatter() -> Bar:\n",
    "    i = 1\n",
    "    bar = (\n",
    "    Bar(init_opts=opts.InitOpts( width=\"1800px\", height=\"800px\",bg_color=\"white\",))\n",
    "    .add_xaxis(dfIndex,)\n",
    "    .add_yaxis(\"{}\".format(dfColumns[i]), \n",
    "               df[dfColumns[i]].round(precision).tolist(),\n",
    "               category_gap=\"60%\",gap=\"0\",color=lineColor[i],\n",
    "               )\n",
    "    .extend_axis(\n",
    "            yaxis=opts.AxisOpts(\n",
    "                type_=\"\", # \"value\"\n",
    "                name=\"\", # dfColumns[i]\n",
    "\n",
    "                position=\"right\",\n",
    "                axisline_opts=opts.AxisLineOpts(\n",
    "                    linestyle_opts=opts.LineStyleOpts(color=\"white\") # 右侧y轴颜色\n",
    "                ),\n",
    "                axislabel_opts=opts.LabelOpts(formatter=\"{value} \"+ unit[i]),\n",
    "                splitline_opts=opts.SplitLineOpts(\n",
    "                    is_show=True, linestyle_opts=opts.LineStyleOpts(opacity=1)\n",
    "                ),\n",
    "            )\n",
    "        )\n",
    "    .set_global_opts(title_opts=opts.TitleOpts(\"入境断面水质  {}\\n 单位：（{}）\".format(dfColumns[i], unit[i])),\n",
    "                     xaxis_opts=opts.AxisOpts(axislabel_opts=opts.LabelOpts(interval=0,rotate=-60,font_size=12,),splitline_opts=opts.SplitLineOpts(is_show=False)),\n",
    "                     yaxis_opts=opts.AxisOpts(axislabel_opts=opts.LabelOpts(formatter=\"{value}\"+ unit[i]),splitline_opts=opts.SplitLineOpts(is_show=False)),\n",
    "#                      toolbox_opts=opts.ToolboxOpts(is_show=True),\n",
    "#                      brush_opts=opts.BrushOpts(),\n",
    "                     datazoom_opts=opts.DataZoomOpts(orient=\"horizontal\",pos_bottom=\"10%\",\n",
    "                                                     range_start = 0,\n",
    "                                                     range_end = 1000),\n",
    "                    )\n",
    "    .set_series_opts(\n",
    "         label_opts= opts.LabelOpts(is_show=True, position = \"top\", rotate = 0, font_size = 10,interval=0),)\n",
    "    )\n",
    "    line = (\n",
    "            Line()\n",
    "            .add_xaxis(dfIndex)\n",
    "            .add_yaxis(\n",
    "                dfColumns[i],\n",
    "                df[dfColumns[i]].round(precision).tolist(),\n",
    "#                 yaxis_index=1,\n",
    "#                 color=\"red\", # lineColor[i]\n",
    "                linestyle_opts=opts.LineStyleOpts(type_=\"dash\",width=2,color=\"white\"),\n",
    "                label_opts=opts.LabelOpts(is_show=False),\n",
    "                    )\n",
    "                )\n",
    "    bar.overlap(line)\n",
    "    return bar\n",
    "PHOverlap_line_scatter().render(html + \"入境53个断面水质-PH.html\")"
   ]
  },
  {
   "cell_type": "markdown",
   "metadata": {},
   "source": [
    "### 溶解氧"
   ]
  },
  {
   "cell_type": "code",
   "execution_count": 61,
   "metadata": {
    "code_folding": [
     0
    ]
   },
   "outputs": [
    {
     "data": {
      "text/plain": [
       "'C:\\\\Users\\\\workspace\\\\水文数据\\\\html\\\\入境53个断面水质-溶解氧DissolvedOxygen.html'"
      ]
     },
     "execution_count": 61,
     "metadata": {},
     "output_type": "execute_result"
    }
   ],
   "source": [
    "def DissolvedOxygenOverlap_line_scatter() -> Bar:\n",
    "    i = 2\n",
    "    bar = (\n",
    "    Bar(init_opts=opts.InitOpts( width=\"1800px\", height=\"800px\",bg_color=\"white\",))\n",
    "    .add_xaxis(dfIndex,)\n",
    "    .add_yaxis(\"{}\".format(dfColumns[i]), \n",
    "               df[dfColumns[i]].round(precision).tolist(),\n",
    "               category_gap=\"60%\",gap=\"0\",color=lineColor[i],\n",
    "               )\n",
    "    .extend_axis(\n",
    "            yaxis=opts.AxisOpts(\n",
    "                type_=\"\", # \"value\"\n",
    "                name=\"\", # dfColumns[i]\n",
    "\n",
    "                position=\"right\",\n",
    "                axisline_opts=opts.AxisLineOpts(\n",
    "                    linestyle_opts=opts.LineStyleOpts(color=\"white\") # 右侧y轴颜色\n",
    "                ),\n",
    "                axislabel_opts=opts.LabelOpts(formatter=\"{value} \"+ unit[i]),\n",
    "                splitline_opts=opts.SplitLineOpts(\n",
    "                    is_show=True, linestyle_opts=opts.LineStyleOpts(opacity=1)\n",
    "                ),\n",
    "            )\n",
    "        )\n",
    "    .set_global_opts(title_opts=opts.TitleOpts(\"入境断面水质  {}\\n 单位：（{}）\".format(dfColumns[i], unit[i])),\n",
    "                     xaxis_opts=opts.AxisOpts(axislabel_opts=opts.LabelOpts(interval=0,rotate=-60,font_size=12,),splitline_opts=opts.SplitLineOpts(is_show=False)),\n",
    "                     yaxis_opts=opts.AxisOpts(axislabel_opts=opts.LabelOpts(formatter=\"{value}\"+ unit[i]),splitline_opts=opts.SplitLineOpts(is_show=False)),\n",
    "#                      toolbox_opts=opts.ToolboxOpts(is_show=True),\n",
    "#                      brush_opts=opts.BrushOpts(),\n",
    "                     datazoom_opts=opts.DataZoomOpts(orient=\"horizontal\",pos_bottom=\"10%\",\n",
    "                                                     range_start = 0,\n",
    "                                                     range_end = 1000),\n",
    "                    )\n",
    "    .set_series_opts(\n",
    "         label_opts= opts.LabelOpts(is_show=True, position = \"top\", rotate = 0, font_size = 10,interval=0),)\n",
    "    )\n",
    "    line = (\n",
    "        Line()\n",
    "        .add_xaxis(dfIndex)\n",
    "        .add_yaxis(\n",
    "            dfColumns[i],\n",
    "            df[dfColumns[i]].round(precision).tolist(),\n",
    "#                 yaxis_index=1,\n",
    "#                 color=\"red\", # lineColor[i]\n",
    "            linestyle_opts=opts.LineStyleOpts(type_=\"dash\",width=2,color=\"white\"),\n",
    "            label_opts=opts.LabelOpts(is_show=False),\n",
    "                )\n",
    "            )\n",
    "\n",
    "    bar.overlap(line)\n",
    "    return bar\n",
    "DissolvedOxygenOverlap_line_scatter().render(html + \"入境53个断面水质-溶解氧DissolvedOxygen.html\")"
   ]
  },
  {
   "cell_type": "markdown",
   "metadata": {},
   "source": [
    "### 高锰酸盐指数"
   ]
  },
  {
   "cell_type": "code",
   "execution_count": 62,
   "metadata": {
    "code_folding": [
     0
    ]
   },
   "outputs": [
    {
     "data": {
      "text/plain": [
       "'C:\\\\Users\\\\workspace\\\\水文数据\\\\html\\\\入境53个断面水质-高锰酸盐指数PermanganateIndex.html'"
      ]
     },
     "execution_count": 62,
     "metadata": {},
     "output_type": "execute_result"
    }
   ],
   "source": [
    "def PermanganateIndexOverlap_line_scatter() -> Bar:\n",
    "    i = 3\n",
    "    bar = (\n",
    "    Bar(init_opts=opts.InitOpts( width=\"1800px\", height=\"800px\",bg_color=\"white\",))\n",
    "    .add_xaxis(dfIndex,)\n",
    "    .add_yaxis(\"{}\".format(dfColumns[i]), \n",
    "               df[dfColumns[i]].round(precision).tolist(),\n",
    "               category_gap=\"60%\",gap=\"0\",color=lineColor[i],\n",
    "               )\n",
    "    .extend_axis(\n",
    "            yaxis=opts.AxisOpts(\n",
    "                type_=\"\", # \"value\"\n",
    "                name=\"\", # dfColumns[i]\n",
    "\n",
    "                position=\"right\",\n",
    "                axisline_opts=opts.AxisLineOpts(\n",
    "                    linestyle_opts=opts.LineStyleOpts(color=\"white\") # 右侧y轴颜色\n",
    "                ),\n",
    "                axislabel_opts=opts.LabelOpts(formatter=\"{value} \"+ unit[i]),\n",
    "                splitline_opts=opts.SplitLineOpts(\n",
    "                    is_show=True, linestyle_opts=opts.LineStyleOpts(opacity=1)\n",
    "                ),\n",
    "            )\n",
    "        )\n",
    "    .set_global_opts(title_opts=opts.TitleOpts(\"入境断面水质  {}\\n 单位：（{}）\".format(dfColumns[i], unit[i])),\n",
    "                     xaxis_opts=opts.AxisOpts(axislabel_opts=opts.LabelOpts(interval=0,rotate=-60,font_size=12,),splitline_opts=opts.SplitLineOpts(is_show=False)),\n",
    "                     yaxis_opts=opts.AxisOpts(axislabel_opts=opts.LabelOpts(formatter=\"{value}\"+ unit[i]),splitline_opts=opts.SplitLineOpts(is_show=False)),\n",
    "#                      toolbox_opts=opts.ToolboxOpts(is_show=True),\n",
    "#                      brush_opts=opts.BrushOpts(),\n",
    "                     datazoom_opts=opts.DataZoomOpts(orient=\"horizontal\",pos_bottom=\"10%\",\n",
    "                                                     range_start = 0,\n",
    "                                                     range_end = 1000),\n",
    "                    )\n",
    "    .set_series_opts(\n",
    "         label_opts= opts.LabelOpts(is_show=True, position = \"top\", rotate = 0, font_size = 10,interval=0),)\n",
    "    )\n",
    "    line = (\n",
    "            Line()\n",
    "            .add_xaxis(dfIndex)\n",
    "            .add_yaxis(\n",
    "                dfColumns[i],\n",
    "                df[dfColumns[i]].round(precision).tolist(),\n",
    "#                 yaxis_index=1,\n",
    "#                 color=\"red\", # lineColor[i]\n",
    "                linestyle_opts=opts.LineStyleOpts(type_=\"dash\",width=2,color=\"white\"),\n",
    "                label_opts=opts.LabelOpts(is_show=False),\n",
    "                    )\n",
    "                )\n",
    "    bar.overlap(line)\n",
    "    return bar\n",
    "PermanganateIndexOverlap_line_scatter().render(html + \"入境53个断面水质-高锰酸盐指数PermanganateIndex.html\")"
   ]
  },
  {
   "cell_type": "markdown",
   "metadata": {},
   "source": [
    "### COD化学需氧量MarkLine"
   ]
  },
  {
   "cell_type": "code",
   "execution_count": 63,
   "metadata": {
    "code_folding": []
   },
   "outputs": [
    {
     "data": {
      "text/plain": [
       "'C:\\\\Users\\\\workspace\\\\水文数据\\\\html\\\\入境53个断面水质-化学需氧量COD.html'"
      ]
     },
     "execution_count": 63,
     "metadata": {},
     "output_type": "execute_result"
    }
   ],
   "source": [
    "def CODOverlap_line_scatter() -> Bar:\n",
    "    i = 4\n",
    "    bar = (\n",
    "    Bar(init_opts=opts.InitOpts( width=\"1800px\", height=\"800px\",bg_color=\"white\",))\n",
    "    .add_xaxis(dfIndex,)\n",
    "    .add_yaxis(\"{}\".format(dfColumns[i]), \n",
    "               df[dfColumns[i]].round(precision).tolist(),\n",
    "               category_gap=\"60%\",gap=\"0\",color=lineColor[i],\n",
    "               )\n",
    "    .extend_axis(\n",
    "            yaxis=opts.AxisOpts(\n",
    "                type_=\"\", # \"value\"\n",
    "                name=\"\", # dfColumns[i]\n",
    "\n",
    "                position=\"right\",\n",
    "                axisline_opts=opts.AxisLineOpts(\n",
    "                    linestyle_opts=opts.LineStyleOpts(color=\"black\") # 右侧y轴颜色\n",
    "                ),\n",
    "                axislabel_opts=opts.LabelOpts(formatter=\"{value} \"+ unit[i]),\n",
    "                splitline_opts=opts.SplitLineOpts(\n",
    "                    is_show=True, linestyle_opts=opts.LineStyleOpts(opacity=0)\n",
    "                ),\n",
    "            )\n",
    "        )\n",
    "\n",
    "    .set_global_opts(title_opts=opts.TitleOpts(\"入境断面水质  {}\\n 单位：（{}）\".format(dfColumns[i], unit[i])),\n",
    "                     xaxis_opts=opts.AxisOpts(axislabel_opts=opts.LabelOpts(interval=0,rotate=-60,font_size=12,),\n",
    "                                              splitline_opts=opts.SplitLineOpts(is_show=False)),\n",
    "                     yaxis_opts=opts.AxisOpts(axislabel_opts=opts.LabelOpts(formatter=\"{value}\"+ unit[i]),\n",
    "                                              splitline_opts=opts.SplitLineOpts(is_show=False)),\n",
    "#                      toolbox_opts=opts.ToolboxOpts(is_show=True),\n",
    "#                      brush_opts=opts.BrushOpts(),\n",
    "                     datazoom_opts=opts.DataZoomOpts(orient=\"horizontal\",pos_bottom=\"10%\",\n",
    "                                                     range_start = 0,\n",
    "                                                     range_end = 1000),\n",
    "                    )\n",
    "    .set_series_opts(\n",
    "                label_opts=opts.LabelOpts(is_show=True),\n",
    "                markline_opts=opts.MarkLineOpts(\n",
    "                    data=[opts.MarkLineItem(y=20,name=\"Ⅲ类\",symbol='circle',),\n",
    "                          opts.MarkLineItem(y=30,name=\"Ⅳ类\",symbol='circle'),\n",
    "                        ], # opts.MarkLineItem(x=dfIndex[3],name=\"x50\",),\n",
    "\n",
    "                    label_opts = opts.LabelOpts(position=\"inside\", color=\"white\",font_size=0,),\n",
    "                    linestyle_opts = opts.LineStyleOpts(width=2,type_=\"dashed\",color=\"red\",)\n",
    "\n",
    "                )\n",
    "            )\n",
    "    )\n",
    "    \n",
    "#     .set_series_opts(\n",
    "#          label_opts= opts.LabelOpts(is_show=True, position = \"top\", rotate = 0, font_size = 10,interval=0),)\n",
    "#     )\n",
    "#     line = (\n",
    "#             Line()\n",
    "#             .add_xaxis(dfIndex)\n",
    "#             .add_yaxis(\n",
    "#                 dfColumns[i],\n",
    "#                 [20]*len(dfIndex),\n",
    "# #                 yaxis_index=1,\n",
    "# #                 color=\"red\", # lineColor[i]\n",
    "#                 linestyle_opts=opts.LineStyleOpts(type_=\"dash\",width=2,color=\"red\"),\n",
    "#                 label_opts=opts.LabelOpts(is_show=False),\n",
    "#                     )\n",
    "#             .add_yaxis(\n",
    "#                 dfColumns[i],\n",
    "#                 [30]*len(dfIndex),\n",
    "# #                 yaxis_index=1,\n",
    "# #                 color=\"red\", # lineColor[i]\n",
    "#                 linestyle_opts=opts.LineStyleOpts(type_=\"dash\",width=2,color=\"red\"),\n",
    "#                 label_opts=opts.LabelOpts(is_show=False),\n",
    "#                     )\n",
    "#                 )\n",
    "#     bar.overlap(line)\n",
    "    return bar\n",
    "CODOverlap_line_scatter().render(html + \"入境53个断面水质-化学需氧量COD.html\")"
   ]
  },
  {
   "cell_type": "markdown",
   "metadata": {},
   "source": [
    "### 总磷"
   ]
  },
  {
   "cell_type": "code",
   "execution_count": 64,
   "metadata": {
    "code_folding": [
     0
    ]
   },
   "outputs": [
    {
     "data": {
      "text/plain": [
       "'C:\\\\Users\\\\workspace\\\\水文数据\\\\html\\\\入境53个断面水质-总磷TP.html'"
      ]
     },
     "execution_count": 64,
     "metadata": {},
     "output_type": "execute_result"
    }
   ],
   "source": [
    "def TPOverlap_line_scatter() -> Bar:\n",
    "    i = 5\n",
    "    bar = (\n",
    "    Bar(init_opts=opts.InitOpts( width=\"1800px\", height=\"800px\",bg_color=\"white\",))\n",
    "    .add_xaxis(dfIndex,)\n",
    "    .add_yaxis(\"{}\".format(dfColumns[i]), \n",
    "               df[dfColumns[i]].round(precision).tolist(),\n",
    "               category_gap=\"60%\",gap=\"0\",color=lineColor[i],\n",
    "               )\n",
    "    .extend_axis(\n",
    "            yaxis=opts.AxisOpts(\n",
    "                type_=\"\", # \"value\"\n",
    "                name=\"\", # dfColumns[i]\n",
    "\n",
    "                position=\"right\",\n",
    "                axisline_opts=opts.AxisLineOpts(\n",
    "                    linestyle_opts=opts.LineStyleOpts(color=\"black\") # 右侧y轴颜色\n",
    "                ),\n",
    "                axislabel_opts=opts.LabelOpts(formatter=\"{value} \"+ unit[i]),\n",
    "                splitline_opts=opts.SplitLineOpts(\n",
    "                    is_show=True, linestyle_opts=opts.LineStyleOpts(opacity=1)\n",
    "                ),\n",
    "            )\n",
    "        )\n",
    "    .set_global_opts(title_opts=opts.TitleOpts(\"入境断面水质  {}\\n 单位：（{}）\".format(dfColumns[i], unit[i])),\n",
    "                     xaxis_opts=opts.AxisOpts(axislabel_opts=opts.LabelOpts(interval=0,rotate=-60,font_size=12,),splitline_opts=opts.SplitLineOpts(is_show=False)),\n",
    "                     yaxis_opts=opts.AxisOpts(axislabel_opts=opts.LabelOpts(formatter=\"{value}\"+ unit[i]),splitline_opts=opts.SplitLineOpts(is_show=False)),\n",
    "#                      toolbox_opts=opts.ToolboxOpts(is_show=True),\n",
    "#                      brush_opts=opts.BrushOpts(),\n",
    "                     datazoom_opts=opts.DataZoomOpts(orient=\"horizontal\",pos_bottom=\"10%\",\n",
    "                                                     range_start = 0,\n",
    "                                                     range_end = 1000),\n",
    "                    )\n",
    "#     .set_series_opts(\n",
    "#          label_opts= opts.LabelOpts(is_show=True, position = \"top\", rotate = 0, font_size = 10,interval=0),)\n",
    "#     )\n",
    "    .set_series_opts(\n",
    "            label_opts=opts.LabelOpts(is_show=False),\n",
    "            markline_opts=opts.MarkLineOpts(\n",
    "                data=[opts.MarkLineItem(y=0.2,name=\"Ⅲ类\",symbol='circle',),\n",
    "                      opts.MarkLineItem(y=0.3,name=\"Ⅳ类\",symbol='circle'),\n",
    "                      opts.MarkLineItem(y=0.4,name=\"Ⅴ类\",symbol='circle'),\n",
    "                    ], # opts.MarkLineItem(x=dfIndex[3],name=\"x50\",),\n",
    "\n",
    "                label_opts = opts.LabelOpts(position=\"inside\", color=\"white\",font_size=0,),\n",
    "                linestyle_opts = opts.LineStyleOpts(width=2,type_=\"dashed\",color=\"red\",)\n",
    "\n",
    "            )\n",
    "        )\n",
    "    )\n",
    "#     line = (\n",
    "#             Line()\n",
    "#             .add_xaxis(dfIndex)\n",
    "#             .add_yaxis(\n",
    "#                 dfColumns[i],\n",
    "#                 [0.2]*len(dfIndex),\n",
    "# #                 yaxis_index=1,\n",
    "# #                 color=\"red\", # lineColor[i]\n",
    "#                 linestyle_opts=opts.LineStyleOpts(type_=\"dash\",width=2,color=\"red\"),\n",
    "#                 label_opts=opts.LabelOpts(is_show=False),\n",
    "#                     )\n",
    "#             .add_yaxis(\n",
    "#                 dfColumns[i],\n",
    "#                 [0.3]*len(dfIndex),\n",
    "# #                 yaxis_index=1,\n",
    "# #                 color=\"red\", # lineColor[i]\n",
    "#                 linestyle_opts=opts.LineStyleOpts(type_=\"dash\",width=2,color=\"red\"),\n",
    "#                 label_opts=opts.LabelOpts(is_show=False),\n",
    "#                     )\n",
    "#             .add_yaxis(\n",
    "#                 dfColumns[i],\n",
    "#                 [0.4]*len(dfIndex),\n",
    "# #                 yaxis_index=1,\n",
    "# #                 color=\"red\", # lineColor[i]\n",
    "#                 linestyle_opts=opts.LineStyleOpts(type_=\"dash\",width=2,color=\"red\"),\n",
    "#                 label_opts=opts.LabelOpts(is_show=False),\n",
    "#                     )\n",
    "#                 )\n",
    "#     bar.overlap(line)\n",
    "    return bar\n",
    "TPOverlap_line_scatter().render(html + \"入境53个断面水质-总磷TP.html\")"
   ]
  },
  {
   "cell_type": "markdown",
   "metadata": {},
   "source": [
    "### 氨氮"
   ]
  },
  {
   "cell_type": "code",
   "execution_count": 65,
   "metadata": {
    "code_folding": [
     0
    ]
   },
   "outputs": [
    {
     "data": {
      "text/plain": [
       "'C:\\\\Users\\\\workspace\\\\水文数据\\\\html\\\\入境53个断面水质-氨氮NH3N.html'"
      ]
     },
     "execution_count": 65,
     "metadata": {},
     "output_type": "execute_result"
    }
   ],
   "source": [
    "def NH3NOverlap_line_scatter() -> Bar:\n",
    "    i = 6\n",
    "    bar = (\n",
    "    Bar(init_opts=opts.InitOpts( width=\"1800px\", height=\"800px\",bg_color=\"white\",))\n",
    "    .add_xaxis(dfIndex,)\n",
    "    .add_yaxis(\"{}\".format(dfColumns[i]), \n",
    "               df[dfColumns[i]].round(precision).tolist(),\n",
    "               category_gap=\"60%\",gap=\"0\",color=lineColor[i],\n",
    "               )\n",
    "    .extend_axis(\n",
    "            yaxis=opts.AxisOpts(\n",
    "                type_=\"\", # \"value\"\n",
    "                name=\"\", # dfColumns[i]\n",
    "\n",
    "                position=\"right\",\n",
    "                axisline_opts=opts.AxisLineOpts(\n",
    "                    linestyle_opts=opts.LineStyleOpts(color=\"black\") # 右侧y轴颜色\n",
    "                ),\n",
    "                axislabel_opts=opts.LabelOpts(formatter=\"{value} \"+ unit[i]),\n",
    "                splitline_opts=opts.SplitLineOpts(\n",
    "                    is_show=True, linestyle_opts=opts.LineStyleOpts(opacity=1)\n",
    "                ),\n",
    "            )\n",
    "        )\n",
    "    .set_global_opts(title_opts=opts.TitleOpts(\"入境断面水质  {}\\n 单位：（{}）\".format(dfColumns[i], unit[i])),\n",
    "                     xaxis_opts=opts.AxisOpts(axislabel_opts=opts.LabelOpts(interval=0,rotate=-60,font_size=12,),splitline_opts=opts.SplitLineOpts(is_show=False)),\n",
    "                     yaxis_opts=opts.AxisOpts(axislabel_opts=opts.LabelOpts(formatter=\"{value}\"+ unit[i]),splitline_opts=opts.SplitLineOpts(is_show=False)),\n",
    "#                      toolbox_opts=opts.ToolboxOpts(is_show=True),\n",
    "#                      brush_opts=opts.BrushOpts(),\n",
    "                     datazoom_opts=opts.DataZoomOpts(orient=\"horizontal\",pos_bottom=\"10%\",\n",
    "                                                     range_start = 0,\n",
    "                                                     range_end = 1000),\n",
    "                    )\n",
    "        .set_series_opts(\n",
    "            label_opts=opts.LabelOpts(is_show=False),\n",
    "            markline_opts=opts.MarkLineOpts(\n",
    "                data=[opts.MarkLineItem(y=1.0,name=\"Ⅲ类\",symbol='circle',),\n",
    "                      opts.MarkLineItem(y=1.5,name=\"Ⅳ类\",symbol='circle'),\n",
    "                      opts.MarkLineItem(y=2.0,name=\"Ⅴ类\",symbol='circle'),\n",
    "                    ], # opts.MarkLineItem(x=dfIndex[3],name=\"x50\",),\n",
    "\n",
    "                label_opts = opts.LabelOpts(position=\"inside\", color=\"white\",font_size=0,),\n",
    "                linestyle_opts = opts.LineStyleOpts(width=2,type_=\"dashed\",color=\"red\",)\n",
    "\n",
    "            )\n",
    "        )\n",
    "    )\n",
    "    \n",
    "#     .set_series_opts(\n",
    "#          label_opts= opts.LabelOpts(is_show=True, position = \"top\", rotate = 0, font_size = 10,interval=0),)\n",
    "#     )\n",
    "#     line = (\n",
    "#             Line()\n",
    "#             .add_xaxis(dfIndex)\n",
    "#             .add_yaxis(\n",
    "#                 dfColumns[i],\n",
    "#                 [1.0]*len(dfIndex),\n",
    "# #                 yaxis_index=1,\n",
    "# #                 color=\"red\", # lineColor[i]\n",
    "#                 linestyle_opts=opts.LineStyleOpts(type_=\"dash\",width=2,color=\"red\"),\n",
    "#                 label_opts=opts.LabelOpts(is_show=False),\n",
    "#                     )\n",
    "#             .add_yaxis(\n",
    "#                 dfColumns[i],\n",
    "#                 [1.5]*len(dfIndex),\n",
    "# #                 yaxis_index=1,\n",
    "# #                 color=\"red\", # lineColor[i]\n",
    "#                 linestyle_opts=opts.LineStyleOpts(type_=\"dash\",width=2,color=\"red\"),\n",
    "#                 label_opts=opts.LabelOpts(is_show=False),\n",
    "#                     )\n",
    "#             .add_yaxis(\n",
    "#                 dfColumns[i],\n",
    "#                 [2.0]*len(dfIndex),\n",
    "# #                 yaxis_index=1,\n",
    "# #                 color=\"red\", # lineColor[i]\n",
    "#                 linestyle_opts=opts.LineStyleOpts(type_=\"dash\",width=2,color=\"red\"),\n",
    "#                 label_opts=opts.LabelOpts(is_show=False),\n",
    "#                     )\n",
    "#                 )\n",
    "#     bar.overlap(line)\n",
    "    return bar\n",
    "NH3NOverlap_line_scatter().render(html + \"入境53个断面水质-氨氮NH3N.html\")"
   ]
  },
  {
   "cell_type": "markdown",
   "metadata": {},
   "source": [
    "### 总氮"
   ]
  },
  {
   "cell_type": "code",
   "execution_count": 66,
   "metadata": {
    "code_folding": [
     0
    ]
   },
   "outputs": [
    {
     "data": {
      "text/plain": [
       "'C:\\\\Users\\\\workspace\\\\水文数据\\\\html\\\\入境53个断面水质-总氮TN.html'"
      ]
     },
     "execution_count": 66,
     "metadata": {},
     "output_type": "execute_result"
    }
   ],
   "source": [
    "def TNOverlap_line_scatter() -> Bar:\n",
    "    i = 7\n",
    "    bar = (\n",
    "    Bar(init_opts=opts.InitOpts( width=\"1800px\", height=\"800px\",bg_color=\"white\",))\n",
    "    .add_xaxis(dfIndex,)\n",
    "    .add_yaxis(\"{}\".format(dfColumns[i]), \n",
    "               df[dfColumns[i]].round(precision).tolist(),\n",
    "               category_gap=\"60%\",gap=\"0\",color=lineColor[i],\n",
    "               )\n",
    "    .extend_axis(\n",
    "            yaxis=opts.AxisOpts(\n",
    "                type_=\"\", # \"value\"\n",
    "                name=\"\", # dfColumns[i]\n",
    "\n",
    "                position=\"right\",\n",
    "                axisline_opts=opts.AxisLineOpts(\n",
    "                    linestyle_opts=opts.LineStyleOpts(color=\"black\") # 右侧y轴颜色\n",
    "                ),\n",
    "                axislabel_opts=opts.LabelOpts(formatter=\"{value} \"+ unit[i]),\n",
    "                splitline_opts=opts.SplitLineOpts(\n",
    "                    is_show=True, linestyle_opts=opts.LineStyleOpts(opacity=1)\n",
    "                ),\n",
    "            )\n",
    "        )\n",
    "    .set_global_opts(title_opts=opts.TitleOpts(\"入境断面水质  {}\\n 单位：（{}）\".format(dfColumns[i], unit[i])),\n",
    "                     xaxis_opts=opts.AxisOpts(axislabel_opts=opts.LabelOpts(interval=0,rotate=-60,font_size=12,),splitline_opts=opts.SplitLineOpts(is_show=False)),\n",
    "                     yaxis_opts=opts.AxisOpts(axislabel_opts=opts.LabelOpts(formatter=\"{value}\"+ unit[i]),splitline_opts=opts.SplitLineOpts(is_show=False)),\n",
    "#                      toolbox_opts=opts.ToolboxOpts(is_show=True),\n",
    "#                      brush_opts=opts.BrushOpts(),\n",
    "                     datazoom_opts=opts.DataZoomOpts(orient=\"horizontal\",pos_bottom=\"10%\",\n",
    "                                                     range_start = 0,\n",
    "                                                     range_end = 1000),\n",
    "                    )\n",
    "    .set_series_opts(\n",
    "            label_opts=opts.LabelOpts(is_show=False),\n",
    "            markline_opts=opts.MarkLineOpts(\n",
    "                data=[#opts.MarkLineItem(y=1.0,name=\"Ⅲ类\",symbol='circle',),\n",
    "                      opts.MarkLineItem(y=2,name=\"Ⅴ类\",symbol='circle'),\n",
    "                      opts.MarkLineItem(y=6,name=\"Ⅵ\",symbol='circle'),\n",
    "                    ], # opts.MarkLineItem(x=dfIndex[3],name=\"x50\",),\n",
    "\n",
    "                label_opts = opts.LabelOpts(position=\"inside\", color=\"white\",font_size=0,),\n",
    "                linestyle_opts = opts.LineStyleOpts(width=2,type_=\"dashed\",color=\"red\",)\n",
    "\n",
    "            )\n",
    "        )\n",
    "    )\n",
    "#     .set_series_opts(\n",
    "#          label_opts= opts.LabelOpts(is_show=True, position = \"top\", rotate = 0, font_size = 10,interval=0),)\n",
    "#     )\n",
    "#     line = (\n",
    "#             Line()\n",
    "#             .add_xaxis(dfIndex)\n",
    "#             .add_yaxis(\n",
    "#                 dfColumns[i],\n",
    "#                 [2]*len(dfIndex),\n",
    "# #                 yaxis_index=1,\n",
    "# #                 color=\"red\", # lineColor[i]\n",
    "#                 linestyle_opts=opts.LineStyleOpts(type_=\"dash\",width=2,color=\"red\"),\n",
    "#                 label_opts=opts.LabelOpts(is_show=False),\n",
    "#                     )\n",
    "#             .add_yaxis(\n",
    "#                 dfColumns[i],\n",
    "#                 [6]*len(dfIndex),\n",
    "# #                 yaxis_index=1,\n",
    "# #                 color=\"red\", # lineColor[i]\n",
    "#                 linestyle_opts=opts.LineStyleOpts(type_=\"dash\",width=2,color=\"red\"),\n",
    "#                 label_opts=opts.LabelOpts(is_show=False),\n",
    "#                     )\n",
    "#                 )\n",
    "#     bar.overlap(line)\n",
    "    return bar\n",
    "TNOverlap_line_scatter().render(html + \"入境53个断面水质-总氮TN.html\")"
   ]
  },
  {
   "cell_type": "code",
   "execution_count": 67,
   "metadata": {
    "code_folding": [
     0
    ],
    "scrolled": true
   },
   "outputs": [],
   "source": [
    "# def bar_markline_custom() -> Bar:\n",
    "#     i=0\n",
    "#     c = (\n",
    "#         Bar()\n",
    "#         .add_xaxis(dfIndex,)\n",
    "#         .add_yaxis(\"{}\".format(dfColumns[i]), \n",
    "#                df[dfColumns[i]].round(precision).tolist(),\n",
    "#                yaxis_index=0,\n",
    "#                category_gap=\"60%\",gap=\"0\",color=lineColor[i],)\n",
    "#         .add_yaxis(\"{}\".format(dfColumns[i]), \n",
    "#            df[dfColumns[i]].round(precision).tolist(),\n",
    "#            yaxis_index=1,\n",
    "#            category_gap=\"60%\",gap=\"0\",color=lineColor[i],)\n",
    "# #         .add_yaxis(\"商家B\", Faker.values())\n",
    "        \n",
    "#         .extend_axis(\n",
    "#         yaxis=opts.AxisOpts(\n",
    "# #             type_=\"value\",#[5,10,15,20,25,30,35], # \"value\"\n",
    "# #             name=\"bar\\nmarkline\\ncustom\", # dfColumns[i]\n",
    "# #             name_location = 'middle',\n",
    "# #             name_gap= 10,\n",
    "# #             name_rotate=90,\n",
    "\n",
    "#             position=\"right\",\n",
    "#             axisline_opts=opts.AxisLineOpts(\n",
    "#                 linestyle_opts=opts.LineStyleOpts(color=\"black\") # 右侧y轴颜色\n",
    "#             ),\n",
    "#             axislabel_opts=opts.LabelOpts(formatter=\"{value} \"+ unit[i]),\n",
    "#             splitline_opts=opts.SplitLineOpts(\n",
    "#                 is_show=True, linestyle_opts=opts.LineStyleOpts(opacity=1)\n",
    "#                                 ),\n",
    "#                             )\n",
    "#                         )\n",
    "#         .extend_axis(\n",
    "#         yaxis=opts.AxisOpts(\n",
    "# #             type_=\"value\",#[5,10,15,20,25,30,35], # \"value\"\n",
    "# #             name=\"bar\\nmarkline\\ncustom\", # dfColumns[i]\n",
    "# #             name_location = 'middle',\n",
    "# #             name_gap= 10,\n",
    "# #             name_rotate=90,\n",
    "\n",
    "#             position=\"right\",\n",
    "#             axisline_opts=opts.AxisLineOpts(\n",
    "#                 linestyle_opts=opts.LineStyleOpts(color=\"black\") # 右侧y轴颜色\n",
    "#             ),\n",
    "#             axislabel_opts=opts.LabelOpts(formatter=\"{value} \"+ unit[i]),\n",
    "#             splitline_opts=opts.SplitLineOpts(\n",
    "#                 is_show=True, linestyle_opts=opts.LineStyleOpts(opacity=1)\n",
    "#                                 ),\n",
    "#                             )\n",
    "#                         )\n",
    "        \n",
    "#         .set_global_opts(title_opts=opts.TitleOpts(title=\"Bar-MarkLine（自定义）\"))\n",
    "#         .set_series_opts(\n",
    "#             label_opts=opts.LabelOpts(is_show=False),\n",
    "#             markline_opts=opts.MarkLineOpts(\n",
    "#                 data=[opts.MarkLineItem(y=5,name=\"y5\",symbol='circle',),\n",
    "#                       opts.MarkLineItem(y=30,name=\"y30\",symbol=\"none\"),\n",
    "#                     ], # opts.MarkLineItem(x=dfIndex[3],name=\"x50\",),\n",
    "\n",
    "#                 label_opts = opts.LabelOpts(position=\"inside\", color=\"white\",font_size=0,),\n",
    "#                 linestyle_opts = opts.LineStyleOpts(width=2,type_=\"dashed\",color=\"red\",)\n",
    "\n",
    "#             )\n",
    "#         )\n",
    "#     )\n",
    "#     return c\n",
    "# bar_markline_custom().render(html+\"Bar-markline.html\")"
   ]
  },
  {
   "cell_type": "code",
   "execution_count": 68,
   "metadata": {},
   "outputs": [
    {
     "data": {
      "text/plain": [
       "['河马', '蟒蛇', '老虎', '大象', '兔子', '熊猫', '狮子']"
      ]
     },
     "execution_count": 68,
     "metadata": {},
     "output_type": "execute_result"
    }
   ],
   "source": [
    "Faker.choose()"
   ]
  },
  {
   "cell_type": "code",
   "execution_count": 69,
   "metadata": {},
   "outputs": [
    {
     "data": {
      "text/plain": [
       "'°C'"
      ]
     },
     "execution_count": 69,
     "metadata": {},
     "output_type": "execute_result"
    }
   ],
   "source": [
    "i=0\n",
    "unit[i]"
   ]
  },
  {
   "cell_type": "code",
   "execution_count": 70,
   "metadata": {
    "code_folding": [
     0
    ]
   },
   "outputs": [],
   "source": [
    "# bar0=None\n",
    "# bar1=None\n",
    "# bar2=None\n",
    "# bar3=None\n",
    "# bar4=None\n",
    "# bar5=None\n",
    "# bar6=None\n",
    "# bar7=None\n",
    "\n",
    "# bar=[bar0,bar1,bar2,bar3,bar4,bar5,bar6,bar7]"
   ]
  },
  {
   "cell_type": "code",
   "execution_count": 71,
   "metadata": {
    "code_folding": [
     0
    ]
   },
   "outputs": [],
   "source": [
    "# def IncomingSectionWaterQualitytimeline_bar() -> Timeline:\n",
    "# #     y = Faker.choose()\n",
    "#     lineColor = [\"lightblue\",\"orange\",\"brown\",\"green\",\"blue\",\"indigo\",\"purple\",\"cyan\"]\n",
    "#     unit = [\"°C\",\" \",\"mg/L\",\"mg/L\",\"mg/L\",\"mg/L\",\"mg/L\",\"mg/L\",\"mg/L\"]\n",
    "\n",
    "#     tl = Timeline(init_opts=opts.InitOpts( width=\"1800px\", height=\"800px\",bg_color=\"yellow\",))\n",
    "#     tl.add_schema(orient='vertical',\n",
    "#                   height=\"800px\",\n",
    "#                   width=\"1px\",\n",
    "# #                    symbol_size=[5,5],\n",
    "#                   is_timeline_show=True,\n",
    "#                   label_opts= opts.LabelOpts(position = \"insideTopRight\",\n",
    "#                                              horizontal_align=\"left\",\n",
    "#                                              font_size = 12,rotate=0,interval=0),\n",
    "#                   pos_left=\"1650px\",)# pos_top=\"780px\",pos_bottom=\"0\",\n",
    "#     for i in range(0, len(dfColumns)):\n",
    "#         bar[i] = (\n",
    "#             Bar(init_opts=opts.InitOpts( width=\"500px\", height=\"600px\",bg_color=\"yellow\",))\n",
    "#             .add_xaxis(dfIndex,)\n",
    "#             .add_yaxis(\"{}\".format(dfColumns[i]), \n",
    "#                        df[dfColumns[i]].round(precision).tolist(),\n",
    "#                        category_gap=\"60%\",gap=\"0\",color=lineColor[i],\n",
    "#                        )\n",
    "#             .extend_axis(\n",
    "#                     yaxis=opts.AxisOpts(\n",
    "#                         type_=\"\", # \"value\"\n",
    "#                         name=\"\", # dfColumns[i]\n",
    "\n",
    "#                         position=\"right\",\n",
    "#                         axisline_opts=opts.AxisLineOpts(\n",
    "#                             linestyle_opts=opts.LineStyleOpts(color=\"black\") # 右侧y轴颜色\n",
    "#                         ),\n",
    "#                         axislabel_opts=opts.LabelOpts(formatter=\"{value} \"+ unit[i]),\n",
    "#                         splitline_opts=opts.SplitLineOpts(\n",
    "#                             is_show=True, linestyle_opts=opts.LineStyleOpts(opacity=1)\n",
    "#                         ),\n",
    "#                     )\n",
    "#                 )\n",
    "#             .set_global_opts(title_opts=opts.TitleOpts(\"入境断面水质  {}\\n 单位：（{}）\".format(dfColumns[i], unit[i])),\n",
    "#                              xaxis_opts=opts.AxisOpts(axislabel_opts=opts.LabelOpts(interval=0,rotate=-60,font_size=12,)\n",
    "#                                                       ,splitline_opts=opts.SplitLineOpts(is_show=False)),\n",
    "#                              yaxis_opts=opts.AxisOpts(axislabel_opts=opts.LabelOpts(formatter=\"{value}\"+ unit[i]),\n",
    "#                                                       splitline_opts=opts.SplitLineOpts(is_show=False)),\n",
    "#                              toolbox_opts=opts.ToolboxOpts(is_show=True),\n",
    "#                              brush_opts=opts.BrushOpts(),\n",
    "#                              datazoom_opts=opts.DataZoomOpts(orient=\"horizontal\",pos_bottom=\"10%\",\n",
    "#                                                              range_start = 0,\n",
    "#                                                              range_end = 1000),\n",
    "#                             )\n",
    "#             .set_series_opts(\n",
    "#                  label_opts= opts.LabelOpts(is_show=True, position = \"top\", rotate = 0, font_size = 10,interval=0),)\n",
    "#         )\n",
    "# #         ['水温', 'PH', '溶解氧', '高锰酸盐指数', '化学需氧量', '总磷', '氨氮', '总氮']\n",
    "#         if i==0:\n",
    "\n",
    "# #             line = (\n",
    "# #                 Line()\n",
    "# #                 .add_xaxis(dfIndex)\n",
    "# #                 .add_yaxis(\n",
    "# #                     dfColumns[i],\n",
    "# #                     df[dfColumns[i]].round(precision).tolist(),\n",
    "# #     #                 yaxis_index=1,\n",
    "# #     #                 color=\"red\", # lineColor[i]\n",
    "# #                     linestyle_opts=opts.LineStyleOpts(type_=\"dash\",width=2,color=\"white\"),\n",
    "# #                     label_opts=opts.LabelOpts(is_show=False),\n",
    "# #                         )\n",
    "# #                     )\n",
    "#             bar0.set_series_opts(\n",
    "#                 label_opts=opts.LabelOpts(is_show=False),\n",
    "#                 markline_opts=opts.MarkLineOpts(\n",
    "#                     data=[opts.MarkLineItem(y=5,name=\"y5\",symbol='circle',),\n",
    "#                           opts.MarkLineItem(y=3,name=\"y30\",symbol=\"none\"),\n",
    "#                         ], # opts.MarkLineItem(x=dfIndex[3],name=\"x50\",),\n",
    "\n",
    "#                     label_opts = opts.LabelOpts(position=\"inside\", color=\"white\",font_size=0,),\n",
    "#                     linestyle_opts = opts.LineStyleOpts(width=2,type_=\"dashed\",color=\"white\",)\n",
    "\n",
    "#                 )\n",
    "#             )\n",
    "\n",
    "# #             bar.overlap(line)\n",
    "#             tl.add(bar[i], \"{}\".format(dfColumns[i]))\n",
    "#         elif i==1:    \n",
    "# #             line = (\n",
    "# #                     Line()\n",
    "# #                     .add_xaxis(dfIndex)\n",
    "# #                     .add_yaxis(\n",
    "# #                         dfColumns[i],\n",
    "# #                         df[dfColumns[i]].round(precision).tolist(),\n",
    "# #         #                 yaxis_index=1,\n",
    "# #         #                 color=\"red\", # lineColor[i]\n",
    "# #                         linestyle_opts=opts.LineStyleOpts(type_=\"dash\",width=2,color=\"white\"),\n",
    "# #                         label_opts=opts.LabelOpts(is_show=False),\n",
    "# #                             )\n",
    "# #                         )\n",
    "# #             bar.overlap(line)\n",
    "#             bar.set_series_opts(\n",
    "#                 label_opts=opts.LabelOpts(is_show=False),\n",
    "#                 markline_opts=opts.MarkLineOpts(\n",
    "#                     data=[opts.MarkLineItem(y=6,name=\"y5\",symbol='circle',),\n",
    "#                           opts.MarkLineItem(y=2,name=\"y30\",symbol=\"none\"),\n",
    "#                         ], # opts.MarkLineItem(x=dfIndex[3],name=\"x50\",),\n",
    "\n",
    "#                     label_opts = opts.LabelOpts(position=\"inside\", color=\"white\",font_size=0,),\n",
    "#                     linestyle_opts = opts.LineStyleOpts(width=3,type_=\"dashed\",color=\"blue\",)\n",
    "\n",
    "#                 )\n",
    "#             )\n",
    "#             tl.add(bar, \"{}\".format(dfColumns[i]))\n",
    "#         elif i==2:    \n",
    "#             line = (\n",
    "#                     Line()\n",
    "#                     .add_xaxis(dfIndex)\n",
    "#                     .add_yaxis(\n",
    "#                         dfColumns[i],\n",
    "#                         [20]*len(dfIndex),\n",
    "#         #                 yaxis_index=1,\n",
    "#         #                 color=\"red\", # lineColor[i]\n",
    "#                         linestyle_opts=opts.LineStyleOpts(type_=\"dash\",width=2,color=\"red\"),\n",
    "#                         label_opts=opts.LabelOpts(is_show=False),\n",
    "#                             )\n",
    "#                     .add_yaxis(\n",
    "#                         dfColumns[i],\n",
    "#                         [30]*len(dfIndex),\n",
    "#         #                 yaxis_index=1,\n",
    "#         #                 color=\"red\", # lineColor[i]\n",
    "#                         linestyle_opts=opts.LineStyleOpts(type_=\"dash\",width=2,color=\"red\"),\n",
    "#                         label_opts=opts.LabelOpts(is_show=False),\n",
    "#                             )\n",
    "#                         )\n",
    "#             bar.overlap(line)\n",
    "#             tl.add(bar, \"{}\".format(dfColumns[i]))\n",
    "#         elif i==3:    \n",
    "#             line = (\n",
    "#                     Line()\n",
    "#                     .add_xaxis(dfIndex)\n",
    "#                     .add_yaxis(\n",
    "#                         dfColumns[i],\n",
    "#                         df[dfColumns[i]].round(precision).tolist(),\n",
    "#         #                 yaxis_index=1,\n",
    "#         #                 color=\"red\", # lineColor[i]\n",
    "#                         linestyle_opts=opts.LineStyleOpts(type_=\"dash\",width=2,color=\"white\"),\n",
    "#                         label_opts=opts.LabelOpts(is_show=False),\n",
    "#                             )\n",
    "#                         )\n",
    "#             bar.overlap(line)\n",
    "#             tl.add(bar, \"{}\".format(dfColumns[i]))\n",
    "#         elif i==4:    \n",
    "#             line = (\n",
    "#                     Line()\n",
    "#                     .add_xaxis(dfIndex)\n",
    "#                     .add_yaxis(\n",
    "#                         dfColumns[i],\n",
    "#                         df[dfColumns[i]].round(precision).tolist(),\n",
    "#         #                 yaxis_index=1,\n",
    "#         #                 color=\"red\", # lineColor[i]\n",
    "#                         linestyle_opts=opts.LineStyleOpts(type_=\"dash\",width=2,color=\"white\"),\n",
    "#                         label_opts=opts.LabelOpts(is_show=False),\n",
    "#                             )\n",
    "#                         )\n",
    "#             bar.overlap(line)\n",
    "#             tl.add(bar, \"{}\".format(dfColumns[i]))\n",
    "#         elif i==5:    \n",
    "#             line = (\n",
    "#                     Line()\n",
    "#                     .add_xaxis(dfIndex)\n",
    "#                     .add_yaxis(\n",
    "#                         dfColumns[i],\n",
    "#                         [0.2]*len(dfIndex),\n",
    "#         #                 yaxis_index=1,\n",
    "#         #                 color=\"red\", # lineColor[i]\n",
    "#                         linestyle_opts=opts.LineStyleOpts(type_=\"dash\",width=2,color=\"red\"),\n",
    "#                         label_opts=opts.LabelOpts(is_show=False),\n",
    "#                             )\n",
    "#                     .add_yaxis(\n",
    "#                         dfColumns[i],\n",
    "#                         [0.3]*len(dfIndex),\n",
    "#         #                 yaxis_index=1,\n",
    "#         #                 color=\"red\", # lineColor[i]\n",
    "#                         linestyle_opts=opts.LineStyleOpts(type_=\"dash\",width=2,color=\"red\"),\n",
    "#                         label_opts=opts.LabelOpts(is_show=False),\n",
    "#                             )\n",
    "#                     .add_yaxis(\n",
    "#                         dfColumns[i],\n",
    "#                         [0.4]*len(dfIndex),\n",
    "#         #                 yaxis_index=1,\n",
    "#         #                 color=\"red\", # lineColor[i]\n",
    "#                         linestyle_opts=opts.LineStyleOpts(type_=\"dash\",width=2,color=\"red\"),\n",
    "#                         label_opts=opts.LabelOpts(is_show=False),\n",
    "#                             )\n",
    "#                         )\n",
    "#             bar.overlap(line)\n",
    "#             tl.add(bar, \"{}\".format(dfColumns[i]))\n",
    "#         elif i==6:    \n",
    "#             line = (\n",
    "#                     Line()\n",
    "#                     .add_xaxis(dfIndex)\n",
    "#                     .add_yaxis(\n",
    "#                         dfColumns[i],\n",
    "#                         [1.0]*len(dfIndex),\n",
    "#         #                 yaxis_index=1,\n",
    "#         #                 color=\"red\", # lineColor[i]\n",
    "#                         linestyle_opts=opts.LineStyleOpts(type_=\"dash\",width=2,color=\"red\"),\n",
    "#                         label_opts=opts.LabelOpts(is_show=False),\n",
    "#                             )\n",
    "#                     .add_yaxis(\n",
    "#                         dfColumns[i],\n",
    "#                         [1.5]*len(dfIndex),\n",
    "#         #                 yaxis_index=1,\n",
    "#         #                 color=\"red\", # lineColor[i]\n",
    "#                         linestyle_opts=opts.LineStyleOpts(type_=\"dash\",width=2,color=\"red\"),\n",
    "#                         label_opts=opts.LabelOpts(is_show=False),\n",
    "#                             )\n",
    "#                     .add_yaxis(\n",
    "#                         dfColumns[i],\n",
    "#                         [2.0]*len(dfIndex),\n",
    "#         #                 yaxis_index=1,\n",
    "#         #                 color=\"red\", # lineColor[i]\n",
    "#                         linestyle_opts=opts.LineStyleOpts(type_=\"dash\",width=2,color=\"red\"),\n",
    "#                         label_opts=opts.LabelOpts(is_show=False),\n",
    "#                             )\n",
    "#                         )\n",
    "#             bar.overlap(line)\n",
    "#             tl.add(bar, \"{}\".format(dfColumns[i]))\n",
    "#         elif i==7:    \n",
    "#             line = (\n",
    "#                     Line()\n",
    "#                     .add_xaxis(dfIndex)\n",
    "#                     .add_yaxis(\n",
    "#                         dfColumns[i],\n",
    "#                         [22]*len(dfIndex),\n",
    "#         #                 yaxis_index=1,\n",
    "#         #                 color=\"red\", # lineColor[i]\n",
    "#                         linestyle_opts=opts.LineStyleOpts(type_=\"dash\",width=2,color=\"red\"),\n",
    "#                         label_opts=opts.LabelOpts(is_show=False),\n",
    "#                             )\n",
    "#                     .add_yaxis(\n",
    "#                         dfColumns[i],\n",
    "#                         [6]*len(dfIndex),\n",
    "#         #                 yaxis_index=1,\n",
    "#         #                 color=\"red\", # lineColor[i]\n",
    "#                         linestyle_opts=opts.LineStyleOpts(type_=\"dash\",width=2,color=\"red\"),\n",
    "#                         label_opts=opts.LabelOpts(is_show=False),\n",
    "#                             )\n",
    "#                         )\n",
    "#             bar.overlap(line)\n",
    "#             tl.add(bar, \"{}\".format(dfColumns[i]))\n",
    "\n",
    "# # bar.overlap(line)\n",
    "# # tl.add(bar, \"{}\".format(dfColumns[i]))\n",
    "\n",
    "#     return tl#Grid().add(tl, opts.GridOpts(pos_left=\"5%\", pos_right=\"20%\"), is_control_axis_index=True) #tl\n",
    "# IncomingSectionWaterQualitytimeline_bar().render(html + \"入境断面水质-桥-质.html\")"
   ]
  },
  {
   "cell_type": "code",
   "execution_count": 72,
   "metadata": {
    "code_folding": [
     0
    ]
   },
   "outputs": [],
   "source": [
    "# def IncomingSectionWaterQualitytimeline_bar() -> Timeline:\n",
    "# #     y = Faker.choose()\n",
    "#     lineColor = [\"lightblue\",\"orange\",\"brown\",\"green\",\"blue\",\"indigo\",\"purple\",\"cyan\"]\n",
    "#     unit = [\"°C\",\" \",\"mg/L\",\"mg/L\",\"mg/L\",\"mg/L\",\"mg/L\",\"mg/L\",\"mg/L\"]\n",
    "\n",
    "#     tl = Timeline(init_opts=opts.InitOpts( width=\"1800px\", height=\"800px\",bg_color=\"yellow\",))\n",
    "#     tl.add_schema(orient='vertical',\n",
    "#                   height=\"800px\",\n",
    "#                   width=\"1px\",\n",
    "# #                    symbol_size=[5,5],\n",
    "#                   is_timeline_show=True,\n",
    "#                   label_opts= opts.LabelOpts(position = \"insideTopRight\",\n",
    "#                                              horizontal_align=\"left\",\n",
    "#                                              font_size = 12,rotate=0,interval=0),\n",
    "#                   pos_left=\"1650px\",)# pos_top=\"780px\",pos_bottom=\"0\",\n",
    "#     for i in range(0, len(dfColumns)):\n",
    "#         bar = (\n",
    "#             Bar(init_opts=opts.InitOpts( width=\"500px\", height=\"600px\",bg_color=\"yellow\",))\n",
    "#             .add_xaxis(dfIndex,)\n",
    "#             .add_yaxis(\"{}\".format(dfColumns[i]), \n",
    "#                        df[dfColumns[i]].round(precision).tolist(),\n",
    "#                        category_gap=\"60%\",gap=\"0\",color=lineColor[i],\n",
    "#                        )\n",
    "#             .extend_axis(\n",
    "#                     yaxis=opts.AxisOpts(\n",
    "#                         type_=\"\", # \"value\"\n",
    "#                         name=\"\", # dfColumns[i]\n",
    "\n",
    "#                         position=\"right\",\n",
    "#                         axisline_opts=opts.AxisLineOpts(\n",
    "#                             linestyle_opts=opts.LineStyleOpts(color=\"black\") # 右侧y轴颜色\n",
    "#                         ),\n",
    "#                         axislabel_opts=opts.LabelOpts(formatter=\"{value} \"+ unit[i]),\n",
    "#                         splitline_opts=opts.SplitLineOpts(\n",
    "#                             is_show=True, linestyle_opts=opts.LineStyleOpts(opacity=1)\n",
    "#                         ),\n",
    "#                     )\n",
    "#                 )\n",
    "#             .set_global_opts(title_opts=opts.TitleOpts(\"入境断面水质  {}\\n 单位：（{}）\".format(dfColumns[i], unit[i])),\n",
    "#                              xaxis_opts=opts.AxisOpts(axislabel_opts=opts.LabelOpts(interval=0,rotate=-60,font_size=12,),splitline_opts=opts.SplitLineOpts(is_show=False)),\n",
    "#                              yaxis_opts=opts.AxisOpts(axislabel_opts=opts.LabelOpts(formatter=\"{value}\"+ unit[i]),splitline_opts=opts.SplitLineOpts(is_show=False)),\n",
    "#                              toolbox_opts=opts.ToolboxOpts(is_show=True),\n",
    "#                              brush_opts=opts.BrushOpts(),\n",
    "#                              datazoom_opts=opts.DataZoomOpts(orient=\"horizontal\",pos_bottom=\"10%\",\n",
    "#                                                              range_start = 0,\n",
    "#                                                              range_end = 1000),\n",
    "#                             )\n",
    "#             .set_series_opts(\n",
    "#                  label_opts= opts.LabelOpts(is_show=True, position = \"top\", rotate = 0, font_size = 10,interval=0),)\n",
    "#         )\n",
    "# #         ['水温', 'PH', '溶解氧', '高锰酸盐指数', '化学需氧量', '总磷', '氨氮', '总氮']\n",
    "#         if i==0:\n",
    "\n",
    "#             line = (\n",
    "#                 Line()\n",
    "#                 .add_xaxis(dfIndex)\n",
    "#                 .add_yaxis(\n",
    "#                     dfColumns[i],\n",
    "#                     df[dfColumns[i]].round(precision).tolist(),\n",
    "#     #                 yaxis_index=1,\n",
    "#     #                 color=\"red\", # lineColor[i]\n",
    "#                     linestyle_opts=opts.LineStyleOpts(type_=\"dash\",width=2,color=\"white\"),\n",
    "#                     label_opts=opts.LabelOpts(is_show=False),\n",
    "#                         )\n",
    "#                     )\n",
    "#             bar.overlap(line)\n",
    "#             tl.add(bar, \"{}\".format(dfColumns[i]))\n",
    "#         elif i==1:    \n",
    "#             line = (\n",
    "#                     Line()\n",
    "#                     .add_xaxis(dfIndex)\n",
    "#                     .add_yaxis(\n",
    "#                         dfColumns[i],\n",
    "#                         df[dfColumns[i]].round(precision).tolist(),\n",
    "#         #                 yaxis_index=1,\n",
    "#         #                 color=\"red\", # lineColor[i]\n",
    "#                         linestyle_opts=opts.LineStyleOpts(type_=\"dash\",width=2,color=\"white\"),\n",
    "#                         label_opts=opts.LabelOpts(is_show=False),\n",
    "#                             )\n",
    "#                         )\n",
    "#             bar.overlap(line)\n",
    "#             tl.add(bar, \"{}\".format(dfColumns[i]))\n",
    "#         elif i==2:    \n",
    "#             line = (\n",
    "#                     Line()\n",
    "#                     .add_xaxis(dfIndex)\n",
    "#                     .add_yaxis(\n",
    "#                         dfColumns[i],\n",
    "#                         [20]*len(dfIndex),\n",
    "#         #                 yaxis_index=1,\n",
    "#         #                 color=\"red\", # lineColor[i]\n",
    "#                         linestyle_opts=opts.LineStyleOpts(type_=\"dash\",width=2,color=\"red\"),\n",
    "#                         label_opts=opts.LabelOpts(is_show=False),\n",
    "#                             )\n",
    "#                     .add_yaxis(\n",
    "#                         dfColumns[i],\n",
    "#                         [30]*len(dfIndex),\n",
    "#         #                 yaxis_index=1,\n",
    "#         #                 color=\"red\", # lineColor[i]\n",
    "#                         linestyle_opts=opts.LineStyleOpts(type_=\"dash\",width=2,color=\"red\"),\n",
    "#                         label_opts=opts.LabelOpts(is_show=False),\n",
    "#                             )\n",
    "#                         )\n",
    "#             bar.overlap(line)\n",
    "#             tl.add(bar, \"{}\".format(dfColumns[i]))\n",
    "#         elif i==3:    \n",
    "#             line = (\n",
    "#                     Line()\n",
    "#                     .add_xaxis(dfIndex)\n",
    "#                     .add_yaxis(\n",
    "#                         dfColumns[i],\n",
    "#                         df[dfColumns[i]].round(precision).tolist(),\n",
    "#         #                 yaxis_index=1,\n",
    "#         #                 color=\"red\", # lineColor[i]\n",
    "#                         linestyle_opts=opts.LineStyleOpts(type_=\"dash\",width=2,color=\"white\"),\n",
    "#                         label_opts=opts.LabelOpts(is_show=False),\n",
    "#                             )\n",
    "#                         )\n",
    "#             bar.overlap(line)\n",
    "#             tl.add(bar, \"{}\".format(dfColumns[i]))\n",
    "#         elif i==4:    \n",
    "#             line = (\n",
    "#                     Line()\n",
    "#                     .add_xaxis(dfIndex)\n",
    "#                     .add_yaxis(\n",
    "#                         dfColumns[i],\n",
    "#                         df[dfColumns[i]].round(precision).tolist(),\n",
    "#         #                 yaxis_index=1,\n",
    "#         #                 color=\"red\", # lineColor[i]\n",
    "#                         linestyle_opts=opts.LineStyleOpts(type_=\"dash\",width=2,color=\"white\"),\n",
    "#                         label_opts=opts.LabelOpts(is_show=False),\n",
    "#                             )\n",
    "#                         )\n",
    "#             bar.overlap(line)\n",
    "#             tl.add(bar, \"{}\".format(dfColumns[i]))\n",
    "#         elif i==5:    \n",
    "#             line = (\n",
    "#                     Line()\n",
    "#                     .add_xaxis(dfIndex)\n",
    "#                     .add_yaxis(\n",
    "#                         dfColumns[i],\n",
    "#                         [0.2]*len(dfIndex),\n",
    "#         #                 yaxis_index=1,\n",
    "#         #                 color=\"red\", # lineColor[i]\n",
    "#                         linestyle_opts=opts.LineStyleOpts(type_=\"dash\",width=2,color=\"red\"),\n",
    "#                         label_opts=opts.LabelOpts(is_show=False),\n",
    "#                             )\n",
    "#                     .add_yaxis(\n",
    "#                         dfColumns[i],\n",
    "#                         [0.3]*len(dfIndex),\n",
    "#         #                 yaxis_index=1,\n",
    "#         #                 color=\"red\", # lineColor[i]\n",
    "#                         linestyle_opts=opts.LineStyleOpts(type_=\"dash\",width=2,color=\"red\"),\n",
    "#                         label_opts=opts.LabelOpts(is_show=False),\n",
    "#                             )\n",
    "#                     .add_yaxis(\n",
    "#                         dfColumns[i],\n",
    "#                         [0.4]*len(dfIndex),\n",
    "#         #                 yaxis_index=1,\n",
    "#         #                 color=\"red\", # lineColor[i]\n",
    "#                         linestyle_opts=opts.LineStyleOpts(type_=\"dash\",width=2,color=\"red\"),\n",
    "#                         label_opts=opts.LabelOpts(is_show=False),\n",
    "#                             )\n",
    "#                         )\n",
    "#             bar.overlap(line)\n",
    "#             tl.add(bar, \"{}\".format(dfColumns[i]))\n",
    "#         elif i==6:    \n",
    "#             line = (\n",
    "#                     Line()\n",
    "#                     .add_xaxis(dfIndex)\n",
    "#                     .add_yaxis(\n",
    "#                         dfColumns[i],\n",
    "#                         [1.0]*len(dfIndex),\n",
    "#         #                 yaxis_index=1,\n",
    "#         #                 color=\"red\", # lineColor[i]\n",
    "#                         linestyle_opts=opts.LineStyleOpts(type_=\"dash\",width=2,color=\"red\"),\n",
    "#                         label_opts=opts.LabelOpts(is_show=False),\n",
    "#                             )\n",
    "#                     .add_yaxis(\n",
    "#                         dfColumns[i],\n",
    "#                         [1.5]*len(dfIndex),\n",
    "#         #                 yaxis_index=1,\n",
    "#         #                 color=\"red\", # lineColor[i]\n",
    "#                         linestyle_opts=opts.LineStyleOpts(type_=\"dash\",width=2,color=\"red\"),\n",
    "#                         label_opts=opts.LabelOpts(is_show=False),\n",
    "#                             )\n",
    "#                     .add_yaxis(\n",
    "#                         dfColumns[i],\n",
    "#                         [2.0]*len(dfIndex),\n",
    "#         #                 yaxis_index=1,\n",
    "#         #                 color=\"red\", # lineColor[i]\n",
    "#                         linestyle_opts=opts.LineStyleOpts(type_=\"dash\",width=2,color=\"red\"),\n",
    "#                         label_opts=opts.LabelOpts(is_show=False),\n",
    "#                             )\n",
    "#                         )\n",
    "#             bar.overlap(line)\n",
    "#             tl.add(bar, \"{}\".format(dfColumns[i]))\n",
    "#         elif i==7:    \n",
    "#             line = (\n",
    "#                     Line()\n",
    "#                     .add_xaxis(dfIndex)\n",
    "#                     .add_yaxis(\n",
    "#                         dfColumns[i],\n",
    "#                         [22]*len(dfIndex),\n",
    "#         #                 yaxis_index=1,\n",
    "#         #                 color=\"red\", # lineColor[i]\n",
    "#                         linestyle_opts=opts.LineStyleOpts(type_=\"dash\",width=2,color=\"red\"),\n",
    "#                         label_opts=opts.LabelOpts(is_show=False),\n",
    "#                             )\n",
    "#                     .add_yaxis(\n",
    "#                         dfColumns[i],\n",
    "#                         [6]*len(dfIndex),\n",
    "#         #                 yaxis_index=1,\n",
    "#         #                 color=\"red\", # lineColor[i]\n",
    "#                         linestyle_opts=opts.LineStyleOpts(type_=\"dash\",width=2,color=\"red\"),\n",
    "#                         label_opts=opts.LabelOpts(is_show=False),\n",
    "#                             )\n",
    "#                         )\n",
    "#             bar.overlap(line)\n",
    "#             tl.add(bar, \"{}\".format(dfColumns[i]))\n",
    "\n",
    "# # bar.overlap(line)\n",
    "# # tl.add(bar, \"{}\".format(dfColumns[i]))\n",
    "\n",
    "#     return tl#Grid().add(tl, opts.GridOpts(pos_left=\"5%\", pos_right=\"20%\"), is_control_axis_index=True) #tl\n",
    "# IncomingSectionWaterQualitytimeline_bar().render(html + \"入境断面水质-桥-质.html\")"
   ]
  },
  {
   "cell_type": "code",
   "execution_count": 73,
   "metadata": {},
   "outputs": [
    {
     "data": {
      "text/plain": [
       "['水温', 'PH', '溶解氧', '高锰酸盐指数', '化学需氧量', '总磷', '氨氮', '总氮']"
      ]
     },
     "execution_count": 73,
     "metadata": {},
     "output_type": "execute_result"
    }
   ],
   "source": [
    "dfColumns"
   ]
  },
  {
   "cell_type": "code",
   "execution_count": 74,
   "metadata": {},
   "outputs": [
    {
     "data": {
      "text/plain": [
       "'#6d8346'"
      ]
     },
     "execution_count": 74,
     "metadata": {},
     "output_type": "execute_result"
    }
   ],
   "source": [
    "Faker.rand_color()"
   ]
  },
  {
   "cell_type": "raw",
   "metadata": {},
   "source": [
    "[\"\\n\\n\\n\\n\"+ele+\"\\n\" for ele in [e for e in dfColumns[0]]]"
   ]
  },
  {
   "cell_type": "raw",
   "metadata": {},
   "source": [
    "dfColumns[0]"
   ]
  },
  {
   "cell_type": "raw",
   "metadata": {},
   "source": [
    "\"\".join([ele+\"\\n\" for ele in [e for e in dfColumns[i]]])"
   ]
  },
  {
   "cell_type": "code",
   "execution_count": 75,
   "metadata": {
    "code_folding": [
     0
    ]
   },
   "outputs": [],
   "source": [
    "# def grid_mutil_yaxis() -> Grid:\n",
    "#     x_data = [\"{}月\".format(i) for i in range(1, 13)]\n",
    "#     bar = (\n",
    "#         Bar()\n",
    "#         .add_xaxis(x_data)\n",
    "#         .add_yaxis(\n",
    "#             \"蒸发量\",\n",
    "#             [2.0, 4.9, 7.0, 23.2, 25.6, 76.7, 135.6, 162.2, 32.6, 20.0, 6.4, 3.3],\n",
    "#             yaxis_index=0,\n",
    "#             color=\"#d14a61\",\n",
    "#         )\n",
    "#         .add_yaxis(\n",
    "#             \"降水量\",\n",
    "#             [2.6, 5.9, 9.0, 26.4, 28.7, 70.7, 175.6, 182.2, 48.7, 18.8, 6.0, 2.3],\n",
    "#             yaxis_index=1,\n",
    "#             color=\"#5793f3\",\n",
    "#         )\n",
    "#         .extend_axis(\n",
    "#             yaxis=opts.AxisOpts(\n",
    "#                 name=\"蒸发量\",\n",
    "#                 type_=\"value\",\n",
    "#                 min_=0,\n",
    "#                 max_=250,\n",
    "#                 position=\"right\",\n",
    "#                 axisline_opts=opts.AxisLineOpts(\n",
    "#                     linestyle_opts=opts.LineStyleOpts(color=\"#d14a61\")\n",
    "#                 ),\n",
    "#                 axislabel_opts=opts.LabelOpts(formatter=\"{value} ml\"),\n",
    "#             )\n",
    "#         )\n",
    "#         .extend_axis(\n",
    "#             yaxis=opts.AxisOpts(\n",
    "#                 type_=\"value\",\n",
    "#                 name=\"温度\",\n",
    "#                 min_=0,\n",
    "#                 max_=25,\n",
    "#                 position=\"left\",\n",
    "#                 axisline_opts=opts.AxisLineOpts(\n",
    "#                     linestyle_opts=opts.LineStyleOpts(color=\"#675bba\")\n",
    "#                 ),\n",
    "#                 axislabel_opts=opts.LabelOpts(formatter=\"{value} °C\"),\n",
    "#                 splitline_opts=opts.SplitLineOpts(\n",
    "#                     is_show=True, linestyle_opts=opts.LineStyleOpts(opacity=1)\n",
    "#                 ),\n",
    "#             )\n",
    "#         )\n",
    "#         .set_global_opts(\n",
    "#             yaxis_opts=opts.AxisOpts(\n",
    "#                 name=\"降水量\",\n",
    "#                 min_=0,\n",
    "#                 max_=250,\n",
    "#                 position=\"right\",\n",
    "#                 offset=80,\n",
    "#                 axisline_opts=opts.AxisLineOpts(\n",
    "#                     linestyle_opts=opts.LineStyleOpts(color=\"#5793f3\")\n",
    "#                 ),\n",
    "#                 axislabel_opts=opts.LabelOpts(formatter=\"{value} ml\"),\n",
    "#             ),\n",
    "#             title_opts=opts.TitleOpts(title=\"Grid-多 Y 轴示例\"),\n",
    "#             tooltip_opts=opts.TooltipOpts(trigger=\"axis\", axis_pointer_type=\"cross\"),\n",
    "#         )\n",
    "#     )\n",
    "\n",
    "#     line = (\n",
    "#         Line()\n",
    "#         .add_xaxis(x_data)\n",
    "#         .add_yaxis(\n",
    "#             \"平均温度\",\n",
    "#             [2.0, 2.2, 3.3, 4.5, 6.3, 10.2, 20.3, 23.4, 23.0, 16.5, 12.0, 6.2],\n",
    "#             yaxis_index=2,\n",
    "#             color=\"#675bba\",\n",
    "#             label_opts=opts.LabelOpts(is_show=False),\n",
    "#         )\n",
    "#     )\n",
    "\n",
    "#     bar.overlap(line)\n",
    "#     return Grid().add(bar, opts.GridOpts(pos_left=\"5%\", pos_right=\"20%\"), is_control_axis_index=True)\n",
    "# grid_mutil_yaxis().render(\"grid_mutil_yaxis.html\")"
   ]
  },
  {
   "cell_type": "markdown",
   "metadata": {},
   "source": [
    "# [Page顺序多图](http://pyecharts.org/#/zh-cn/composite_charts?id=page%ef%bc%9a%e9%a1%ba%e5%ba%8f%e5%a4%9a%e5%9b%be)"
   ]
  },
  {
   "cell_type": "code",
   "execution_count": 76,
   "metadata": {
    "code_folding": []
   },
   "outputs": [
    {
     "data": {
      "text/plain": [
       "'C:\\\\Users\\\\workspace\\\\水文数据\\\\page.html'"
      ]
     },
     "execution_count": 76,
     "metadata": {},
     "output_type": "execute_result"
    }
   ],
   "source": [
    "# 图形放到一个页面\n",
    "page = Page(layout=Page.DraggablePageLayout)\n",
    "page.add(grid_mutil_yaxis(), \n",
    "         timeline_bar(),\n",
    "         NCRbar_base(),\n",
    "         NCRtimeline_bar(),\n",
    "         CDGbar_base(),\n",
    "         CDGtimeline_bar(),ZXDQinHeatmap_with_label_show(),ZXDQoutHeatmap_with_label_show(),\n",
    "#          IncomingSectionWaterQualitytimeline_bar(),\n",
    "        )\n",
    "page.render(\"page.html\")"
   ]
  },
  {
   "cell_type": "code",
   "execution_count": 77,
   "metadata": {},
   "outputs": [
    {
     "data": {
      "text/plain": [
       "'C:\\\\Users\\\\workspace\\\\水文数据\\\\IncomingSectionWaterQuality_page.html'"
      ]
     },
     "execution_count": 77,
     "metadata": {},
     "output_type": "execute_result"
    }
   ],
   "source": [
    "IncomingSectionWaterQuality = Page(layout=Page.DraggablePageLayout)\n",
    "IncomingSectionWaterQuality.add(WaterTemperatureOverlap_line_scatter(),\n",
    "                               PHOverlap_line_scatter(),\n",
    "                               DissolvedOxygenOverlap_line_scatter(),\n",
    "                               PermanganateIndexOverlap_line_scatter(),\n",
    "                               CODOverlap_line_scatter(),\n",
    "                               TPOverlap_line_scatter(),\n",
    "                               NH3NOverlap_line_scatter(),\n",
    "                               TNOverlap_line_scatter())\n",
    "IncomingSectionWaterQuality.render(\"IncomingSectionWaterQuality_page.html\")"
   ]
  },
  {
   "cell_type": "markdown",
   "metadata": {},
   "source": [
    "# [Tab选项卡多图](http://pyecharts.org/#/zh-cn/composite_charts?id=tab%ef%bc%9a%e9%80%89%e9%a1%b9%e5%8d%a1%e5%a4%9a%e5%9b%be)"
   ]
  },
  {
   "cell_type": "code",
   "execution_count": 79,
   "metadata": {},
   "outputs": [
    {
     "data": {
      "text/plain": [
       "'C:\\\\Users\\\\workspace\\\\水文数据\\\\tab.html'"
      ]
     },
     "execution_count": 79,
     "metadata": {},
     "output_type": "execute_result"
    }
   ],
   "source": [
    "#  图形放到一个页面，多个tab按钮\n",
    "tab = Tab()\n",
    "tab.add(grid_mutil_yaxis(), \"南仓河 宜兴站降雨蒸发水位manths\")\n",
    "tab.add(timeline_bar(), \"南仓河每月降水量monthsdays\")\n",
    "tab.add(NCRbar_base(), \"南仓河 宜兴站每月平均流量months\")\n",
    "tab.add(NCRtimeline_bar(), \"南仓河 宜兴站每月每日平均流量manthsdays\")\n",
    "tab.add(CDGbar_base(), \"城东港 城东港桥站月平均流量months\")\n",
    "tab.add(CDGtimeline_bar(), \"城东港桥每月平均流量monthsdays\")\n",
    "tab.add(ZXDQinHeatmap_with_label_show(), \"钟溪大桥入境heatmap\")\n",
    "tab.add(ZXDQoutHeatmap_with_label_show(), \"钟溪大桥出境断面流量heatmap\")\n",
    "# tab.add(IncomingSectionWaterQualitytimeline_bar(),\"入境断面水质-桥-质\")\n",
    "\n",
    "tab.render(\"tab.html\")"
   ]
  },
  {
   "cell_type": "code",
   "execution_count": 80,
   "metadata": {},
   "outputs": [
    {
     "data": {
      "text/plain": [
       "'C:\\\\Users\\\\workspace\\\\水文数据\\\\IncomingSectionWaterQuality_tab.html'"
      ]
     },
     "execution_count": 80,
     "metadata": {},
     "output_type": "execute_result"
    }
   ],
   "source": [
    "#  图形放到一个页面，多个tab按钮\n",
    "IncomingSectionWaterQuality = Tab()\n",
    "IncomingSectionWaterQuality.add(WaterTemperatureOverlap_line_scatter(), \"入境断面水质-水温\")\n",
    "IncomingSectionWaterQuality.add(PHOverlap_line_scatter(), \"入境断面水质-PH\")\n",
    "IncomingSectionWaterQuality.add(DissolvedOxygenOverlap_line_scatter(), \"入境断面水质-溶解氧\")\n",
    "IncomingSectionWaterQuality.add(PermanganateIndexOverlap_line_scatter(), \"入境断面水质-高锰酸钾指数\")\n",
    "IncomingSectionWaterQuality.add(CODOverlap_line_scatter(), \"入境断面水质-COD化学需氧量\")\n",
    "IncomingSectionWaterQuality.add(TPOverlap_line_scatter(), \"入境断面水质-总磷\")\n",
    "IncomingSectionWaterQuality.add(NH3NOverlap_line_scatter(), \"入境断面水质-氨氮\")\n",
    "IncomingSectionWaterQuality.add(TNOverlap_line_scatter(), \"入境断面水质-总氮\")\n",
    "# IncomingSectionWaterQuality.add(IncomingSectionWaterQualitytimeline_bar(),\"入境断面水质-桥-质\")\n",
    "\n",
    "IncomingSectionWaterQuality.render(\"IncomingSectionWaterQuality_tab.html\")"
   ]
  },
  {
   "cell_type": "code",
   "execution_count": null,
   "metadata": {},
   "outputs": [],
   "source": []
  },
  {
   "cell_type": "code",
   "execution_count": null,
   "metadata": {},
   "outputs": [],
   "source": []
  }
 ],
 "metadata": {
  "kernelspec": {
   "display_name": "Python 3",
   "language": "python",
   "name": "python3"
  },
  "language_info": {
   "codemirror_mode": {
    "name": "ipython",
    "version": 3
   },
   "file_extension": ".py",
   "mimetype": "text/x-python",
   "name": "python",
   "nbconvert_exporter": "python",
   "pygments_lexer": "ipython3",
   "version": "3.7.3"
  },
  "toc": {
   "base_numbering": 1,
   "nav_menu": {},
   "number_sections": true,
   "sideBar": true,
   "skip_h1_title": false,
   "title_cell": "Table of Contents",
   "title_sidebar": "Contents",
   "toc_cell": false,
   "toc_position": {
    "height": "calc(100% - 180px)",
    "left": "10px",
    "top": "150px",
    "width": "374.004px"
   },
   "toc_section_display": true,
   "toc_window_display": true
  }
 },
 "nbformat": 4,
 "nbformat_minor": 2
}
