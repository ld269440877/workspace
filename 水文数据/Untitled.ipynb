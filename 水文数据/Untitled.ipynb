{
 "cells": [
  {
   "cell_type": "code",
   "execution_count": 27,
   "metadata": {},
   "outputs": [],
   "source": [
    "from pyecharts import charts, commons, components, datasets, options, render, scaffold"
   ]
  },
  {
   "cell_type": "code",
   "execution_count": 30,
   "metadata": {},
   "outputs": [],
   "source": [
    "\n",
    "from pyecharts.charts import Line, Kline, Pie,Grid, Timeline,WordCloud"
   ]
  },
  {
   "cell_type": "code",
   "execution_count": 70,
   "metadata": {},
   "outputs": [
    {
     "data": {
      "text/plain": [
       "'C:\\\\Users\\\\workspace\\\\水文数据\\\\1234.html'"
      ]
     },
     "execution_count": 70,
     "metadata": {},
     "output_type": "execute_result"
    }
   ],
   "source": [
    "from pyecharts.faker import Faker\n",
    "from pyecharts import options as opts\n",
    "from pyecharts.charts import Pie\n",
    "\n",
    "\n",
    "\n",
    "def pie_base() -> Pie:\n",
    "    c = (\n",
    "        Pie()\n",
    "        .add(\"\", [list(z) for z in zip(Faker.choose(), Faker.values())])\n",
    "        .set_global_opts(title_opts=opts.TitleOpts(title=\"Pie-基本示例\"))\n",
    "        .set_series_opts(label_opts=opts.LabelOpts(formatter=\"{b}: {c}\"))\n",
    "    )\n",
    "    return c\n",
    "pie_base().render(\"1234.html\")"
   ]
  },
  {
   "cell_type": "code",
   "execution_count": 68,
   "metadata": {},
   "outputs": [
    {
     "data": {
      "text/plain": [
       "'C:\\\\Users\\\\workspace\\\\水文数据\\\\render.html'"
      ]
     },
     "execution_count": 68,
     "metadata": {},
     "output_type": "execute_result"
    }
   ],
   "source": [
    "from pyecharts import options as opts\n",
    "from pyecharts.charts import Boxplot, Page\n",
    "from pyecharts.faker import Collector\n",
    "\n",
    "C = Collector()\n",
    "\n",
    "\n",
    "@C.funcs\n",
    "def boxpolt_base() -> Boxplot:\n",
    "    v1 = [\n",
    "        [850, 740, 900, 1070, 930, 850, 950, 980, 980, 880, 1000, 980],\n",
    "        [960, 940, 960, 940, 880, 800, 850, 880, 900, 840, 830, 790],\n",
    "    ]\n",
    "    v2 = [\n",
    "        [890, 810, 810, 820, 800, 770, 760, 740, 750, 760, 910, 920],\n",
    "        [890, 840, 780, 810, 760, 810, 790, 810, 820, 850, 870, 870],\n",
    "    ]\n",
    "    c = Boxplot()\n",
    "    c.add_xaxis([\"expr1\", \"expr2\"]).add_yaxis(\"A\", c.prepare_data(v1)).add_yaxis(\n",
    "        \"B\", c.prepare_data(v2)\n",
    "    ).set_global_opts(title_opts=opts.TitleOpts(title=\"BoxPlot-基本示例\"))\n",
    "    return c\n",
    "\n",
    "\n",
    "Page().add(*[fn() for fn, _ in C.charts]).render()"
   ]
  },
  {
   "cell_type": "code",
   "execution_count": 67,
   "metadata": {},
   "outputs": [
    {
     "ename": "TypeError",
     "evalue": "__init__() takes from 1 to 2 positional arguments but 3 were given",
     "output_type": "error",
     "traceback": [
      "\u001b[1;31m---------------------------------------------------------------------------\u001b[0m",
      "\u001b[1;31mTypeError\u001b[0m                                 Traceback (most recent call last)",
      "\u001b[1;32m<ipython-input-67-e3b2461aabe6>\u001b[0m in \u001b[0;36m<module>\u001b[1;34m\u001b[0m\n\u001b[0;32m      7\u001b[0m \u001b[0mdata2\u001b[0m \u001b[1;33m=\u001b[0m \u001b[1;33m[\u001b[0m\u001b[1;36m2.6\u001b[0m\u001b[1;33m,\u001b[0m \u001b[1;36m5.9\u001b[0m\u001b[1;33m,\u001b[0m \u001b[1;36m9.0\u001b[0m\u001b[1;33m,\u001b[0m \u001b[1;36m26.4\u001b[0m\u001b[1;33m,\u001b[0m \u001b[1;36m28.7\u001b[0m\u001b[1;33m,\u001b[0m \u001b[1;36m70.7\u001b[0m\u001b[1;33m,\u001b[0m \u001b[1;36m175.6\u001b[0m\u001b[1;33m,\u001b[0m \u001b[1;36m182.2\u001b[0m\u001b[1;33m,\u001b[0m \u001b[1;36m48.7\u001b[0m\u001b[1;33m,\u001b[0m \u001b[1;36m18.8\u001b[0m\u001b[1;33m,\u001b[0m \u001b[1;36m6.0\u001b[0m\u001b[1;33m,\u001b[0m \u001b[1;36m2.3\u001b[0m\u001b[1;33m]\u001b[0m\u001b[1;33m\u001b[0m\u001b[1;33m\u001b[0m\u001b[0m\n\u001b[0;32m      8\u001b[0m \u001b[1;33m\u001b[0m\u001b[0m\n\u001b[1;32m----> 9\u001b[1;33m \u001b[0mbar\u001b[0m \u001b[1;33m=\u001b[0m \u001b[0mBar\u001b[0m\u001b[1;33m(\u001b[0m\u001b[1;34m\"柱状图\"\u001b[0m\u001b[1;33m,\u001b[0m \u001b[1;34m\"一年的降水量与蒸发量\"\u001b[0m\u001b[1;33m)\u001b[0m\u001b[1;33m\u001b[0m\u001b[1;33m\u001b[0m\u001b[0m\n\u001b[0m\u001b[0;32m     10\u001b[0m \u001b[1;33m\u001b[0m\u001b[0m\n\u001b[0;32m     11\u001b[0m \u001b[0mbar\u001b[0m\u001b[1;33m.\u001b[0m\u001b[0madd\u001b[0m\u001b[1;33m(\u001b[0m\u001b[1;34m\"降水量\"\u001b[0m\u001b[1;33m,\u001b[0m \u001b[0mcolumns\u001b[0m\u001b[1;33m,\u001b[0m \u001b[0mdata1\u001b[0m\u001b[1;33m,\u001b[0m \u001b[0mmark_line\u001b[0m\u001b[1;33m=\u001b[0m\u001b[1;33m[\u001b[0m\u001b[1;34m\"average\"\u001b[0m\u001b[1;33m]\u001b[0m\u001b[1;33m,\u001b[0m \u001b[0mmark_point\u001b[0m\u001b[1;33m=\u001b[0m\u001b[1;33m[\u001b[0m\u001b[1;34m\"max\"\u001b[0m\u001b[1;33m,\u001b[0m \u001b[1;34m\"min\"\u001b[0m\u001b[1;33m]\u001b[0m\u001b[1;33m)\u001b[0m\u001b[1;33m\u001b[0m\u001b[1;33m\u001b[0m\u001b[0m\n",
      "\u001b[1;31mTypeError\u001b[0m: __init__() takes from 1 to 2 positional arguments but 3 were given"
     ]
    }
   ],
   "source": [
    "import pyecharts\n",
    "from pyecharts.charts import Bar,Pie\n",
    "\n",
    "columns = [\"Jan\", \"Feb\", \"Mar\", \"Apr\", \"May\", \"Jun\", \"Jul\", \"Aug\", \"Sep\", \"Oct\", \"Nov\", \"Dec\"]\n",
    "\n",
    "data1 = [2.0, 4.9, 7.0, 23.2, 25.6, 76.7, 135.6, 162.2, 32.6, 20.0, 6.4, 3.3]\n",
    "data2 = [2.6, 5.9, 9.0, 26.4, 28.7, 70.7, 175.6, 182.2, 48.7, 18.8, 6.0, 2.3]\n",
    "\n",
    "bar = Bar(\"柱状图\", \"一年的降水量与蒸发量\")\n",
    "\n",
    "bar.add(\"降水量\", columns, data1, mark_line=[\"average\"], mark_point=[\"max\", \"min\"])\n",
    "bar.add(\"蒸发量\", columns, data2, mark_line=[\"average\"], mark_point=[\"max\", \"min\"])\n",
    "\n",
    "bar.render()"
   ]
  },
  {
   "cell_type": "code",
   "execution_count": 49,
   "metadata": {},
   "outputs": [
    {
     "ename": "TypeError",
     "evalue": "__init__() takes from 1 to 2 positional arguments but 3 were given",
     "output_type": "error",
     "traceback": [
      "\u001b[1;31m---------------------------------------------------------------------------\u001b[0m",
      "\u001b[1;31mTypeError\u001b[0m                                 Traceback (most recent call last)",
      "\u001b[1;32m<ipython-input-49-13d3c1169332>\u001b[0m in \u001b[0;36m<module>\u001b[1;34m\u001b[0m\n\u001b[0;32m      2\u001b[0m \u001b[1;33m\u001b[0m\u001b[0m\n\u001b[0;32m      3\u001b[0m \u001b[1;31m# //设置主标题与副标题，标题设置居中，设置宽度为900\u001b[0m\u001b[1;33m\u001b[0m\u001b[1;33m\u001b[0m\u001b[1;33m\u001b[0m\u001b[0m\n\u001b[1;32m----> 4\u001b[1;33m \u001b[0mpie\u001b[0m \u001b[1;33m=\u001b[0m \u001b[0mPie\u001b[0m\u001b[1;33m(\u001b[0m\u001b[1;34m\"饼状图\"\u001b[0m\u001b[1;33m,\u001b[0m \u001b[1;34m\"一年的降水量与蒸发量\"\u001b[0m\u001b[1;33m)\u001b[0m\u001b[1;33m\u001b[0m\u001b[1;33m\u001b[0m\u001b[0m\n\u001b[0m\u001b[0;32m      5\u001b[0m \u001b[1;31m# //加入数据，设置坐标位置为【25，50】，上方的colums选项取消显示\u001b[0m\u001b[1;33m\u001b[0m\u001b[1;33m\u001b[0m\u001b[1;33m\u001b[0m\u001b[0m\n\u001b[0;32m      6\u001b[0m \u001b[0mpie\u001b[0m\u001b[1;33m.\u001b[0m\u001b[0madd\u001b[0m\u001b[1;33m(\u001b[0m\u001b[1;34m\"降水量\"\u001b[0m\u001b[1;33m,\u001b[0m \u001b[0mcolumns\u001b[0m\u001b[1;33m,\u001b[0m \u001b[0mdata1\u001b[0m \u001b[1;33m,\u001b[0m\u001b[0mcenter\u001b[0m\u001b[1;33m=\u001b[0m\u001b[1;33m[\u001b[0m\u001b[1;36m25\u001b[0m\u001b[1;33m,\u001b[0m\u001b[1;36m50\u001b[0m\u001b[1;33m]\u001b[0m\u001b[1;33m,\u001b[0m\u001b[0mis_legend_show\u001b[0m\u001b[1;33m=\u001b[0m\u001b[1;32mFalse\u001b[0m\u001b[1;33m)\u001b[0m\u001b[1;33m\u001b[0m\u001b[1;33m\u001b[0m\u001b[0m\n",
      "\u001b[1;31mTypeError\u001b[0m: __init__() takes from 1 to 2 positional arguments but 3 were given"
     ]
    }
   ],
   "source": [
    "# //导入饼图Pie\n",
    "\n",
    "# //设置主标题与副标题，标题设置居中，设置宽度为900\n",
    "pie = Pie(\"饼状图\", \"一年的降水量与蒸发量\")\n",
    "# //加入数据，设置坐标位置为【25，50】，上方的colums选项取消显示\n",
    "pie.add(\"降水量\", columns, data1 ,center=[25,50],is_legend_show=False)\n",
    "# //加入数据，设置坐标位置为【75，50】，上方的colums选项取消显示，显示label标签\n",
    "pie.add(\"蒸发量\", columns, data2 ,center=[75,50],is_legend_show=False,is_label_show=True)\n",
    "# //保存图表\n",
    "pie.render()"
   ]
  },
  {
   "cell_type": "code",
   "execution_count": 8,
   "metadata": {},
   "outputs": [
    {
     "ename": "ImportError",
     "evalue": "cannot import name 'Pie' from 'pyecharts' (C:\\ProgramData\\Anaconda3\\lib\\site-packages\\pyecharts\\__init__.py)",
     "output_type": "error",
     "traceback": [
      "\u001b[1;31m---------------------------------------------------------------------------\u001b[0m",
      "\u001b[1;31mImportError\u001b[0m                               Traceback (most recent call last)",
      "\u001b[1;32m<ipython-input-8-34e221a78ee5>\u001b[0m in \u001b[0;36m<module>\u001b[1;34m\u001b[0m\n\u001b[0;32m      1\u001b[0m \u001b[1;31m# //导入饼图Pie\u001b[0m\u001b[1;33m\u001b[0m\u001b[1;33m\u001b[0m\u001b[1;33m\u001b[0m\u001b[0m\n\u001b[1;32m----> 2\u001b[1;33m \u001b[1;32mfrom\u001b[0m \u001b[0mpyecharts\u001b[0m \u001b[1;32mimport\u001b[0m \u001b[0mPie\u001b[0m\u001b[1;33m\u001b[0m\u001b[1;33m\u001b[0m\u001b[0m\n\u001b[0m\u001b[0;32m      3\u001b[0m \u001b[1;31m# //设置主标题与副标题，标题设置居中，设置宽度为900\u001b[0m\u001b[1;33m\u001b[0m\u001b[1;33m\u001b[0m\u001b[1;33m\u001b[0m\u001b[0m\n\u001b[0;32m      4\u001b[0m \u001b[0mpie\u001b[0m \u001b[1;33m=\u001b[0m \u001b[0mPie\u001b[0m\u001b[1;33m(\u001b[0m\u001b[1;34m\"饼状图\"\u001b[0m\u001b[1;33m,\u001b[0m \u001b[1;34m\"一年的降水量与蒸发量\"\u001b[0m\u001b[1;33m,\u001b[0m\u001b[0mtitle_pos\u001b[0m\u001b[1;33m=\u001b[0m\u001b[1;34m'center'\u001b[0m\u001b[1;33m,\u001b[0m\u001b[0mwidth\u001b[0m\u001b[1;33m=\u001b[0m\u001b[1;36m900\u001b[0m\u001b[1;33m)\u001b[0m\u001b[1;33m\u001b[0m\u001b[1;33m\u001b[0m\u001b[0m\n\u001b[0;32m      5\u001b[0m \u001b[1;31m# //加入数据，设置坐标位置为【25，50】，上方的colums选项取消显示\u001b[0m\u001b[1;33m\u001b[0m\u001b[1;33m\u001b[0m\u001b[1;33m\u001b[0m\u001b[0m\n",
      "\u001b[1;31mImportError\u001b[0m: cannot import name 'Pie' from 'pyecharts' (C:\\ProgramData\\Anaconda3\\lib\\site-packages\\pyecharts\\__init__.py)"
     ]
    }
   ],
   "source": [
    "# //导入饼图Pie\n",
    "from pyecharts import Pie\n",
    "# //设置主标题与副标题，标题设置居中，设置宽度为900\n",
    "pie = Pie(\"饼状图\", \"一年的降水量与蒸发量\",title_pos='center',width=900)\n",
    "# //加入数据，设置坐标位置为【25，50】，上方的colums选项取消显示\n",
    "pie.add(\"降水量\", columns, data1 ,center=[25,50],is_legend_show=False)\n",
    "# //加入数据，设置坐标位置为【75，50】，上方的colums选项取消显示，显示label标签\n",
    "pie.add(\"蒸发量\", columns, data2 ,center=[75,50],is_legend_show=False,is_label_show=True)\n",
    "# //保存图表\n",
    "pie.render()"
   ]
  }
 ],
 "metadata": {
  "kernelspec": {
   "display_name": "Python 3",
   "language": "python",
   "name": "python3"
  },
  "language_info": {
   "codemirror_mode": {
    "name": "ipython",
    "version": 3
   },
   "file_extension": ".py",
   "mimetype": "text/x-python",
   "name": "python",
   "nbconvert_exporter": "python",
   "pygments_lexer": "ipython3",
   "version": "3.7.3"
  },
  "toc": {
   "base_numbering": 1,
   "nav_menu": {},
   "number_sections": true,
   "sideBar": true,
   "skip_h1_title": false,
   "title_cell": "Table of Contents",
   "title_sidebar": "Contents",
   "toc_cell": false,
   "toc_position": {},
   "toc_section_display": true,
   "toc_window_display": false
  }
 },
 "nbformat": 4,
 "nbformat_minor": 2
}
