{
 "cells": [
  {
   "cell_type": "code",
   "execution_count": 1,
   "metadata": {},
   "outputs": [],
   "source": [
    "import pandas as pd\n",
    "import re\n",
    "import datetime\n",
    "from pandas import Series,DataFrame"
   ]
  },
  {
   "cell_type": "markdown",
   "metadata": {},
   "source": [
    "# RUBO2"
   ]
  },
  {
   "cell_type": "markdown",
   "metadata": {},
   "source": [
    "## 读取RUBO2(1).xlsx中Packlist-sheetname"
   ]
  },
  {
   "cell_type": "code",
   "execution_count": 2,
   "metadata": {},
   "outputs": [],
   "source": [
    "rubo2 = pd.read_excel('RUBO2(1).xlsx',sheet_name='Packlist',index_col=None,header=0,skiprows=0)"
   ]
  },
  {
   "cell_type": "code",
   "execution_count": 3,
   "metadata": {
    "scrolled": true
   },
   "outputs": [],
   "source": [
    "# rubo2.columns"
   ]
  },
  {
   "cell_type": "markdown",
   "metadata": {},
   "source": [
    "## rubo2_Packlist中筛选出需要的字段信息"
   ]
  },
  {
   "cell_type": "code",
   "execution_count": 4,
   "metadata": {},
   "outputs": [],
   "source": [
    "rubo2.rename(columns={'Unnamed: 0':'产品代码',  'Packlist':'客户运单号','Unnamed: 7':'目的省份',\\\n",
    "                            'WMS SHIP DATE':'发货时间','CARRIER CODE':'运输类型','CTNS':'预计箱数',\\\n",
    "                            'Unit':'预计发货','SHIP TO':'客户代码','CRD date':'CRD_date'},inplace=True)"
   ]
  },
  {
   "cell_type": "code",
   "execution_count": 5,
   "metadata": {},
   "outputs": [],
   "source": [
    "rubo2_col_list = ['客户运单号','产品代码','目的省份','ST NAME','发货时间','预计箱数','客户代码','CRD_date','PSST','Window','Address1','Address2','Address3']\n",
    "\n",
    "# rubo2.loc[:2,rubo2_col_list]"
   ]
  },
  {
   "cell_type": "markdown",
   "metadata": {},
   "source": [
    "# basedata.xlsx中的Sheet'CLC预报'和'客户信息表'"
   ]
  },
  {
   "cell_type": "markdown",
   "metadata": {},
   "source": [
    "## 读取Sheet'CLC预报"
   ]
  },
  {
   "cell_type": "code",
   "execution_count": 6,
   "metadata": {},
   "outputs": [],
   "source": [
    "basedata_CLC = pd.read_excel('basedata.xlsx',sheet_name='CLC预报',index_col=None,header=0,skiprows=0)"
   ]
  },
  {
   "cell_type": "code",
   "execution_count": 7,
   "metadata": {},
   "outputs": [],
   "source": [
    "# basedata_CLC.columns"
   ]
  },
  {
   "cell_type": "markdown",
   "metadata": {},
   "source": [
    "### Sheet'CLC预报'中筛选出所需字段"
   ]
  },
  {
   "cell_type": "code",
   "execution_count": 8,
   "metadata": {},
   "outputs": [],
   "source": [
    "basedata_CLC.rename(columns={'发货单号':'客户运单号','在途时间':'在途3', '件数':'预计件数','发货时间':'发货日期',\\\n",
    "                             '预计到达时间':'预计达到日期','陆运/铁运/空运':'运输类型','卸货地址':'卸货地点'},inplace=True)"
   ]
  },
  {
   "cell_type": "code",
   "execution_count": 9,
   "metadata": {},
   "outputs": [],
   "source": [
    "# '客户运单号'=‘发货单号’。‘BU’代表‘产品代码’，rubo2表中有这里没有提取\n",
    "basedata_CLC_col_list = ['总单号','客户运单号','出发城市','目的城市',\\\n",
    "                         '卸货地点','箱数','预计件数','运输类型','在途3','发货日期',\\\n",
    "                         '预计达到日期','客户简称','客户名称','联系方式','联系人手机']"
   ]
  },
  {
   "cell_type": "code",
   "execution_count": 10,
   "metadata": {},
   "outputs": [],
   "source": [
    "# basedata_CLC.loc[:2,basedata_CLC_col_list]"
   ]
  },
  {
   "cell_type": "markdown",
   "metadata": {},
   "source": [
    "## 读取Sheet'客户信息表'"
   ]
  },
  {
   "cell_type": "code",
   "execution_count": 11,
   "metadata": {},
   "outputs": [],
   "source": [
    "basedata_Customersinfo = pd.read_excel('basedata.xlsx',sheet_name='客户信息表',index_col=None,header=0,skiprows=0)"
   ]
  },
  {
   "cell_type": "code",
   "execution_count": 12,
   "metadata": {},
   "outputs": [],
   "source": [
    "# basedata_Customersinfo.columns"
   ]
  },
  {
   "cell_type": "markdown",
   "metadata": {},
   "source": [
    "### Sheet'客户信息表'中筛选出所需字段"
   ]
  },
  {
   "cell_type": "code",
   "execution_count": 13,
   "metadata": {},
   "outputs": [],
   "source": [
    "basedata_Customersinfo.rename(columns={'-':'客户代码'},inplace=True) \n",
    "# ,'城市':'起运城市','省份':'起运省份'"
   ]
  },
  {
   "cell_type": "code",
   "execution_count": 14,
   "metadata": {},
   "outputs": [],
   "source": [
    "basedata_Customersinfo_col_list = ['客户代码','详细地址','城市','省份','电话1','电话2','电话-2011','联系人']\n",
    "# ,'起运城市','起运省份'\n",
    "# basedata_Customersinfo有手机预报和basedata_CLC有联系人手机，所以这里取得是basedata_CLC有联系人手机"
   ]
  },
  {
   "cell_type": "code",
   "execution_count": 15,
   "metadata": {},
   "outputs": [],
   "source": [
    "basedata_Customersinfo.客户代码=basedata_Customersinfo.客户代码.astype(str)"
   ]
  },
  {
   "cell_type": "code",
   "execution_count": 16,
   "metadata": {},
   "outputs": [],
   "source": [
    "basedata_Customersinfo['联系人电话'] = list(map(lambda x,y,z:str(x)+str(y)+str(z),\\\n",
    "                                           basedata_Customersinfo['电话1'],\\\n",
    "                                           basedata_Customersinfo['电话2'],\\\n",
    "                                           basedata_Customersinfo['电话-2011'] ))"
   ]
  },
  {
   "cell_type": "code",
   "execution_count": 17,
   "metadata": {},
   "outputs": [],
   "source": [
    "# basedata_Customersinfo['联系人手机'] = basedata_Customersinfo['手机预报']"
   ]
  },
  {
   "cell_type": "code",
   "execution_count": 18,
   "metadata": {},
   "outputs": [],
   "source": [
    "basedata_Customersinfo_col_list = ['客户代码','详细地址','城市','省份','联系人','联系人电话']\n",
    "# ,'联系人手机'"
   ]
  },
  {
   "cell_type": "code",
   "execution_count": 19,
   "metadata": {},
   "outputs": [],
   "source": [
    "# basedata_Customersinfo.loc[:2,basedata_Customersinfo_col_list]"
   ]
  },
  {
   "cell_type": "code",
   "execution_count": 20,
   "metadata": {},
   "outputs": [],
   "source": [
    "basedata_Customersinfo.fillna('',inplace=True)"
   ]
  },
  {
   "cell_type": "markdown",
   "metadata": {},
   "source": [
    "# 根据字段'客户运单号'合并表RUBO2_Packlist和表basedata_CLC预报"
   ]
  },
  {
   "cell_type": "code",
   "execution_count": 21,
   "metadata": {},
   "outputs": [],
   "source": [
    "rubo2.客户运单号 = rubo2.客户运单号.astype(str)\n",
    "basedata_CLC.客户运单号 = basedata_CLC.客户运单号.astype(str)"
   ]
  },
  {
   "cell_type": "code",
   "execution_count": 22,
   "metadata": {},
   "outputs": [],
   "source": [
    "merged_packlist_CLC = pd.merge(rubo2.loc[:,rubo2_col_list],basedata_CLC.loc[:,basedata_CLC_col_list],on='客户运单号')"
   ]
  },
  {
   "cell_type": "code",
   "execution_count": 23,
   "metadata": {},
   "outputs": [
    {
     "data": {
      "text/plain": [
       "27"
      ]
     },
     "execution_count": 23,
     "metadata": {},
     "output_type": "execute_result"
    }
   ],
   "source": [
    "# 将merged_packlist_CLC_col_list的所有字段名保存到列表\n",
    "merged_packlist_CLC_col_list = merged_packlist_CLC.columns.tolist()\n",
    "len(merged_packlist_CLC_col_list)"
   ]
  },
  {
   "cell_type": "code",
   "execution_count": 24,
   "metadata": {},
   "outputs": [],
   "source": [
    "# merged_packlist_CLC_col_list"
   ]
  },
  {
   "cell_type": "code",
   "execution_count": 25,
   "metadata": {},
   "outputs": [],
   "source": [
    "# 转换字段‘客户代码’数据的数据类型为str\n",
    "merged_packlist_CLC.客户代码=merged_packlist_CLC.客户代码.astype(str)\n",
    "basedata_Customersinfo.客户代码= basedata_Customersinfo.客户代码.astype(str)"
   ]
  },
  {
   "cell_type": "code",
   "execution_count": 26,
   "metadata": {},
   "outputs": [],
   "source": [
    "# 查看merged_packlist_CLC中的选中区域\n",
    "# merged_packlist_CLC.loc[:2,merged_packlist_CLC_col_list]"
   ]
  },
  {
   "cell_type": "markdown",
   "metadata": {},
   "source": [
    "# 根据字段'客户代码'合并表merged_packlist_CLC和表basedata_客户信息表"
   ]
  },
  {
   "cell_type": "code",
   "execution_count": 27,
   "metadata": {},
   "outputs": [],
   "source": [
    "merged_allinfo = pd.merge(merged_packlist_CLC.loc[:,merged_packlist_CLC_col_list],basedata_Customersinfo.loc[:,basedata_Customersinfo_col_list],on='客户代码')"
   ]
  },
  {
   "cell_type": "code",
   "execution_count": 28,
   "metadata": {},
   "outputs": [],
   "source": [
    "# 计算rubo2_packlist中每一个重复客户代码的个数\n",
    "# customercode_count = merged_packlist_CLC.groupby('客户代码').count().sort_values('客户运单号',ascending=False)\n",
    "# customercode_count[customercode_count['客户运单号']>1]\n",
    "# customercode_count[customercode_count['客户运单号']>1].index\n"
   ]
  },
  {
   "cell_type": "markdown",
   "metadata": {},
   "source": [
    "# 添加rubo2_packlist.客户代码不在basedata_Customersinfo.客户代码中的字段rubo2_packlist.客户代码信息到merged_allinfo"
   ]
  },
  {
   "cell_type": "code",
   "execution_count": 29,
   "metadata": {},
   "outputs": [],
   "source": [
    "# rubo2_packlist.客户代码在basedata_Customersinfo.客户代码中记为lm\n",
    "lm = []\n",
    "lb = []\n",
    "for m in merged_packlist_CLC.客户代码:\n",
    "    for b in basedata_Customersinfo.客户代码:\n",
    "        if m == b:\n",
    "            lm.append(m)\n",
    "        else:\n",
    "            lb.append(b)\n",
    "\n",
    "# rubo2_packlist.客户代码不在database_customerinfo.客户代码中\n",
    "list(set(merged_packlist_CLC.客户代码)^set(lm))\n",
    "# 载rubo2_packlist.客户代码中提取不在basedata_Customersinfo.客户代码中的每条记录\n",
    "for e in list(set(merged_packlist_CLC.客户代码)^set(lm)):\n",
    "    merged_packlist_CLC[merged_packlist_CLC['客户代码']== e]\n",
    "    merged_allinfo = pd.concat([pd.DataFrame(merged_allinfo),merged_packlist_CLC[merged_packlist_CLC['客户代码']== e]],sort=True,ignore_index=True)"
   ]
  },
  {
   "cell_type": "markdown",
   "metadata": {},
   "source": [
    "# 调整字段数据的格式和表中字段的排列顺序"
   ]
  },
  {
   "cell_type": "code",
   "execution_count": 30,
   "metadata": {},
   "outputs": [],
   "source": [
    "merged_allinfo.fillna('',inplace=True)"
   ]
  },
  {
   "cell_type": "code",
   "execution_count": 31,
   "metadata": {},
   "outputs": [],
   "source": [
    "merged_allinfo['客户'] = 'NIKE'"
   ]
  },
  {
   "cell_type": "code",
   "execution_count": 32,
   "metadata": {},
   "outputs": [],
   "source": [
    "# 读取basedata_lead中字段‘城市’和‘省份’确定‘城市等级’\n",
    "basedata_lead = pd.read_excel('basedata.xlsx',sheet_name='lead',index_col=None,header=0,skiprows=0)\n",
    "\n",
    "basedata_lead_CP = basedata_lead['City'] + basedata_lead['Province']\n",
    "\n",
    "basedata_lead['basedata_lead_CP'] =basedata_lead_CP\n",
    "\n",
    "merged_allinfo_CP = merged_allinfo['目的城市'] + merged_allinfo['目的省份'] \n",
    "\n",
    "city_tier = []\n",
    "for mcp in merged_allinfo_CP:\n",
    "    for bcp in basedata_lead_CP:\n",
    "        if mcp == bcp:\n",
    "            city_tier.append(int(basedata_lead[basedata_lead['basedata_lead_CP']==bcp]['City Tier']))\n",
    "\n",
    "merged_allinfo['城市等级'] = city_tier\n"
   ]
  },
  {
   "cell_type": "code",
   "execution_count": 33,
   "metadata": {},
   "outputs": [],
   "source": [
    "# 字段添加默认值\n",
    "merged_allinfo['运单类型'] = '大仓出货'\n",
    "merged_allinfo['整车/零担'] = 'LTL'\n",
    "merged_allinfo['箱数'] = ''\n",
    "merged_allinfo['件数'] = ''\n",
    "merged_allinfo['起运客户代码'] = 'NIKE-TC'\n",
    "merged_allinfo['起运客户名称'] = '太仓CLC'\n",
    "# merged_allinfo.起运客户名称 = merged_allinfo.起运客户名称.astype(str)\n",
    "merged_allinfo['总单号'] = ''\n",
    "merged_allinfo['客户开票抬头'] = '耐克（体育）有限公司'\n",
    "merged_allinfo['项目名称'] = '太仓-耐克-运输'\n",
    "merged_allinfo['体积(立方)'] =''"
   ]
  },
  {
   "cell_type": "code",
   "execution_count": 34,
   "metadata": {},
   "outputs": [],
   "source": [
    "# ‘起运客户名称’列的值含有\"CLC\"时，为江苏省太仓市广州西路88号\n",
    "# ‘起运客户名称’列的值含有\"CRWP\"时，为江苏昆山巴城工业园长江S北路与立基路交口东北侧\n",
    "# ‘起运客户名称’列的值含有\"BZBJ\"时，为河北省廊坊市安次区东环路55号普洛斯物流园A3库\n",
    "\n",
    "def start_address_re(x):\n",
    "    if re.findall('CLC',x)[0] == 'CLC':\n",
    "        x = '江苏省太仓市广州西路88号'\n",
    "    elif re.findall('CRWP',x)[0] == 'CRWP':\n",
    "        x = '江苏昆山巴城工业园长江S北路与立基路交口东北侧'\n",
    "    elif re.findall('BZBJ',x)[0] == 'BZBJ':\n",
    "        x = '河北省廊坊市安次区东环路55号普洛斯物流园A3库'\n",
    "    else:\n",
    "        x = x\n",
    "    return x\n",
    "\n",
    "merged_allinfo['起运地址'] = list(map(start_address_re,merged_allinfo['起运客户名称']))"
   ]
  },
  {
   "cell_type": "code",
   "execution_count": 35,
   "metadata": {},
   "outputs": [],
   "source": [
    "# 起运省份为‘起运地址’的列获取省份\n",
    "# 起运城市为‘起运地址’的列获取城市\n",
    "\n",
    "def start_province(strat_address):\n",
    "    return re.findall('(.+省)',strat_address)[0]\n",
    "def start_city(strat_address):\n",
    "    re.findall('省(.+市)',strat_address)\n",
    "    return re.findall('省(.+市)',strat_address)[0]\n",
    "\n",
    "merged_allinfo['起运省份'] = list(map(start_province,merged_allinfo['起运地址']))\n",
    "\n",
    "merged_allinfo['起运城市'] = list(map(start_city,merged_allinfo['起运地址']))"
   ]
  },
  {
   "cell_type": "code",
   "execution_count": 36,
   "metadata": {},
   "outputs": [],
   "source": [
    "# 1）当该表的‘CRD要求日期’不为空时，取该值\n",
    "# 2）当原始表的“PSST”列为“Y”时，如果1）有值就加“/PSST”,如果没有1）就为“PSST”\n",
    "def shipping_note(crd,psst):\n",
    "    if crd and psst == 'Y':\n",
    "        return crd + '/PSST'\n",
    "    elif not crd and psst == 'N':\n",
    "        return 'PSST'\n",
    "    else:\n",
    "        return 'PSST'\n",
    "\n",
    "merged_allinfo['托运单备注'] = list(map(shipping_note,merged_allinfo['CRD_date'],merged_allinfo['PSST']))"
   ]
  },
  {
   "cell_type": "code",
   "execution_count": 37,
   "metadata": {},
   "outputs": [],
   "source": [
    "# 修改字段格式\n",
    "merged_allinfo['发货时间'] = Series(map(lambda x:'{}'.format('20'+str(x)),merged_allinfo['发货时间']))\n",
    "\n",
    "merged_allinfo['客户运单号'] = Series(map(lambda x:'{:09}'.format(int(x)),merged_allinfo['客户运单号']))\n",
    "\n",
    "merged_allinfo['产品代码'] = Series(map(lambda x:'APP' if x=='AP' else x,merged_allinfo['产品代码']))"
   ]
  },
  {
   "cell_type": "code",
   "execution_count": null,
   "metadata": {},
   "outputs": [],
   "source": []
  },
  {
   "cell_type": "code",
   "execution_count": 38,
   "metadata": {},
   "outputs": [],
   "source": [
    "# 修改字段日期格式\n",
    "datetime.datetime.now().strftime(\"%Y%m\")\n",
    "merged_allinfo['结算月份'] = datetime.datetime.now().strftime(\"%Y%m\")"
   ]
  },
  {
   "cell_type": "code",
   "execution_count": 39,
   "metadata": {},
   "outputs": [],
   "source": [
    "merged_allinfo['预计达到日期'] = merged_allinfo['预计达到日期'].dt.strftime('%Y/%m/%d')"
   ]
  },
  {
   "cell_type": "code",
   "execution_count": 40,
   "metadata": {},
   "outputs": [],
   "source": [
    "merged_allinfo['发货日期'] = merged_allinfo['发货日期'].dt.strftime('%Y/%m/%d')"
   ]
  },
  {
   "cell_type": "code",
   "execution_count": 41,
   "metadata": {},
   "outputs": [],
   "source": [
    "# 当原始表的“CRD date”列不为空时，该表的\"预计达到日期\" 与原始表的“CRD date”取最晚时间\n",
    "def crd_request_date(expected_arrival_date,crd_date):\n",
    "    if not crd_date:\n",
    "        return max(expected_arrival_date,crd_date)\n",
    "    else:\n",
    "        return ''\n",
    "\n",
    "# merged_allinfo['CRD_date'] = '2019-10-21'\n",
    "# merged_allinfo.CRD_date = merged_allinfo.CRD_date.astype('datetime64[ns]')\n",
    "\n",
    "import datetime\n",
    "from datetime import datetime\n",
    "\n",
    "merged_allinfo.CRD_date = merged_allinfo.CRD_date.astype('datetime64[ns]')\n",
    "\n",
    "merged_allinfo['CRD要求日期'] = list(map(crd_request_date,merged_allinfo['预计达到日期'],merged_allinfo['CRD_date']))\n",
    "# merged_allinfo['CRD要求日期'] = merged_allinfo['CRD要求日期'].dt.strftime('%Y/%m/%d')"
   ]
  },
  {
   "cell_type": "code",
   "execution_count": null,
   "metadata": {},
   "outputs": [],
   "source": []
  },
  {
   "cell_type": "code",
   "execution_count": 42,
   "metadata": {},
   "outputs": [],
   "source": [
    "# 联系人（个人客户直接ST NAME,为公司：取客户信息的配置表)\n",
    "merged_allinfo.loc[merged_allinfo[merged_allinfo['客户名称'] =='个人客户'].index.tolist(),['联系人']]=\\\n",
    "merged_allinfo[merged_allinfo['客户名称'] =='个人客户']['ST NAME']"
   ]
  },
  {
   "cell_type": "code",
   "execution_count": 43,
   "metadata": {},
   "outputs": [],
   "source": [
    "# 联系人手机（为公司：配置表的预留手机，为个人用户时：ST NAME或SHIP_TO_PHONE_NBR)\n",
    "merged_allinfo.loc[merged_allinfo[merged_allinfo['客户名称'] =='个人客户'].index.tolist(),['联系人手机']]=\\\n",
    "merged_allinfo[merged_allinfo['客户名称'] =='个人客户']['ST NAME']"
   ]
  },
  {
   "cell_type": "code",
   "execution_count": 44,
   "metadata": {},
   "outputs": [],
   "source": [
    "# merged_allinfo.columns"
   ]
  },
  {
   "cell_type": "code",
   "execution_count": 45,
   "metadata": {},
   "outputs": [],
   "source": [
    "# 卸货地点：公司客户取客户信息表的详细地址，个人客户或为空运时：Address2+Address3+Address1\n",
    "merged_allinfo.loc[merged_allinfo[merged_allinfo['客户名称'] =='个人客户'].index.tolist(),['卸货地点']]=\\\n",
    " list(map(lambda x,y,z:str(x)+'/'+str(y)+'/'+str(z),\\\n",
    "                                           merged_allinfo[merged_allinfo['客户名称'] =='个人客户']['Address2'],\\\n",
    "                                           merged_allinfo[merged_allinfo['客户名称'] =='个人客户']['Address3'],\\\n",
    "                                           merged_allinfo[merged_allinfo['客户名称'] =='个人客户']['Address1'] ))"
   ]
  },
  {
   "cell_type": "code",
   "execution_count": 46,
   "metadata": {},
   "outputs": [],
   "source": [
    "basedata_Customersinfo['联系人电话'] = list(map(lambda x,y,z:str(x)+str(y)+str(z),\\\n",
    "                                           basedata_Customersinfo['电话1'],\\\n",
    "                                           basedata_Customersinfo['电话2'],\\\n",
    "                                           basedata_Customersinfo['电话-2011'] ))"
   ]
  },
  {
   "cell_type": "code",
   "execution_count": null,
   "metadata": {},
   "outputs": [],
   "source": []
  },
  {
   "cell_type": "code",
   "execution_count": 47,
   "metadata": {},
   "outputs": [],
   "source": [
    "# merged_allinfo.loc[:2,['发货时间','客户运单号','运输类型']]"
   ]
  },
  {
   "cell_type": "code",
   "execution_count": 48,
   "metadata": {
    "scrolled": true
   },
   "outputs": [],
   "source": [
    "# merged_allinfo.columns"
   ]
  },
  {
   "cell_type": "code",
   "execution_count": 49,
   "metadata": {
    "scrolled": false
   },
   "outputs": [],
   "source": [
    "merged_allinfo = merged_allinfo.loc[:,['客户运单号','客户代码','客户','目的城市','目的省份','城市等级','运单类型','整车/零担',\\\n",
    "                                       '客户名称','客户简称', '联系人','联系人电话','联系人手机','卸货地点', '预计箱数','箱数',\\\n",
    "                                        '预计件数', '件数', '在途3', '发货日期','预计达到日期','运输类型','起运城市','起运省份', \\\n",
    "                                       '起运客户代码','起运客户名称','起运地址','托运单备注','产品代码','总单号','客户开票抬头',\\\n",
    "                                       '项目名称','CRD要求日期','结算月份','体积(立方)']]\n"
   ]
  },
  {
   "cell_type": "markdown",
   "metadata": {},
   "source": [
    "# 写到Excel文件"
   ]
  },
  {
   "cell_type": "code",
   "execution_count": 50,
   "metadata": {},
   "outputs": [],
   "source": [
    "merged_allinfo.to_excel('mergedallinfo.xlsx')"
   ]
  }
 ],
 "metadata": {
  "kernelspec": {
   "display_name": "Python 3",
   "language": "python",
   "name": "python3"
  },
  "language_info": {
   "codemirror_mode": {
    "name": "ipython",
    "version": 3
   },
   "file_extension": ".py",
   "mimetype": "text/x-python",
   "name": "python",
   "nbconvert_exporter": "python",
   "pygments_lexer": "ipython3",
   "version": "3.7.3"
  },
  "toc": {
   "base_numbering": 1,
   "nav_menu": {},
   "number_sections": true,
   "sideBar": true,
   "skip_h1_title": false,
   "title_cell": "Table of Contents",
   "title_sidebar": "Contents",
   "toc_cell": false,
   "toc_position": {
    "height": "708.182px",
    "left": "167px",
    "top": "258.293px",
    "width": "331.264px"
   },
   "toc_section_display": true,
   "toc_window_display": true
  }
 },
 "nbformat": 4,
 "nbformat_minor": 2
}
